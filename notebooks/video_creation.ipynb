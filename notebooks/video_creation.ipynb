{
 "cells": [
  {
   "cell_type": "code",
   "execution_count": null,
   "id": "41624b4c",
   "metadata": {},
   "outputs": [],
   "source": [
    "from moviepy import ImageClip, AudioFileClip, VideoFileClip\n",
    "import sys\n",
    "\n",
    "sys.path.append(\"..\")\n",
    "\n",
    "from utils.gcp.gcs import get_file, download_file\n",
    "from agent.tools.tool_schemas import VideoGenRequest"
   ]
  },
  {
   "cell_type": "code",
   "execution_count": 17,
   "id": "6e038041",
   "metadata": {},
   "outputs": [],
   "source": [
    "tmp_audio_path = \"./ai_conversations_future_of_patient_care.wav\"\n",
    "tmp_image_path = \"./image.png\"\n",
    "bucket_name =\"ai-hub-sharepoint\"\n",
    "audio_gcs_path = \"audios/ai_conversations_future_of_patient_care.wav\"\n",
    "image_gcs_path=\"images/saturn.png\""
   ]
  },
  {
   "cell_type": "code",
   "execution_count": null,
   "id": "46232d30",
   "metadata": {},
   "outputs": [
    {
     "name": "stderr",
     "output_type": "stream",
     "text": [
      "\u001b[32m2025-10-28 22:59:39.815\u001b[0m | \u001b[1mINFO    \u001b[0m | \u001b[36mutils.gcp.gcs\u001b[0m:\u001b[36mdownload_file\u001b[0m:\u001b[36m248\u001b[0m - \u001b[1mfile audios/ai_conversations_future_of_patient_care.wav downloaded in ./ai_conversations_future_of_patient_care.wav\u001b[0m\n",
      "\u001b[32m2025-10-28 22:59:40.151\u001b[0m | \u001b[1mINFO    \u001b[0m | \u001b[36mutils.gcp.gcs\u001b[0m:\u001b[36mdownload_file\u001b[0m:\u001b[36m248\u001b[0m - \u001b[1mfile images/saturn.png downloaded in ./image.png\u001b[0m\n"
     ]
    }
   ],
   "source": [
    "\n",
    "\n",
    "download_file(\n",
    "    gcs_file_path=audio_gcs_path,\n",
    "    local_file_path=tmp_audio_path,\n",
    "    bucket_name=bucket_name,\n",
    ")\n",
    "\n",
    "download_file(\n",
    "    bucket_name=bucket_name,\n",
    "    local_file_path=tmp_image_path,\n",
    "    gcs_file_path=image_gcs_path\n",
    ")"
   ]
  },
  {
   "cell_type": "code",
   "execution_count": null,
   "id": "ceb64a1f",
   "metadata": {},
   "outputs": [],
   "source": [
    "image = ImageClip(tmp_image_path).with_duration(10)\n",
    "\n",
    "audio = AudioFileClip(tmp_audio_path)"
   ]
  },
  {
   "cell_type": "code",
   "execution_count": 28,
   "id": "7b64a89f",
   "metadata": {},
   "outputs": [],
   "source": [
    "video = image.with_audio(audio)"
   ]
  },
  {
   "cell_type": "code",
   "execution_count": 29,
   "id": "3194fb7b",
   "metadata": {},
   "outputs": [
    {
     "name": "stdout",
     "output_type": "stream",
     "text": [
      "MoviePy - Building video video_final.mp4.\n",
      "MoviePy - Writing audio in video_finalTEMP_MPY_wvf_snd.mp3\n"
     ]
    },
    {
     "name": "stderr",
     "output_type": "stream",
     "text": [
      "                                                                      \r"
     ]
    },
    {
     "name": "stdout",
     "output_type": "stream",
     "text": [
      "MoviePy - Done.\n",
      "MoviePy - Writing video video_final.mp4\n",
      "\n"
     ]
    },
    {
     "name": "stderr",
     "output_type": "stream",
     "text": [
      "                                                                         \r"
     ]
    },
    {
     "name": "stdout",
     "output_type": "stream",
     "text": [
      "MoviePy - Done !\n",
      "MoviePy - video ready video_final.mp4\n"
     ]
    }
   ],
   "source": [
    "video.write_videofile(\"video_final.mp4\", fps=60)"
   ]
  },
  {
   "cell_type": "code",
   "execution_count": 5,
   "id": "c5256203",
   "metadata": {},
   "outputs": [],
   "source": [
    "image_bytes = get_file(gcs_file_path=image_gcs_path, bucket_name=bucket_name)"
   ]
  },
  {
   "cell_type": "code",
   "execution_count": 6,
   "id": "9bd325a5",
   "metadata": {},
   "outputs": [],
   "source": [
    "audio_bytes = get_file(gcs_file_path=audio_gcs_path, bucket_name=bucket_name)"
   ]
  },
  {
   "cell_type": "code",
   "execution_count": 11,
   "id": "b798d9b9",
   "metadata": {},
   "outputs": [],
   "source": [
    "image = ImageClip(image_bytes)"
   ]
  },
  {
   "cell_type": "code",
   "execution_count": 14,
   "id": "f573783d",
   "metadata": {},
   "outputs": [
    {
     "data": {
      "text/plain": [
       "334.81"
      ]
     },
     "execution_count": 14,
     "metadata": {},
     "output_type": "execute_result"
    }
   ],
   "source": [
    "audio.duration"
   ]
  },
  {
   "cell_type": "code",
   "execution_count": 13,
   "id": "41d918e1",
   "metadata": {},
   "outputs": [],
   "source": [
    "video = image.with_audio(audio)"
   ]
  },
  {
   "cell_type": "code",
   "execution_count": null,
   "id": "6dd30a98",
   "metadata": {},
   "outputs": [],
   "source": [
    "video.write_videofile(\"video_final.mp4\", fps=60)"
   ]
  },
  {
   "cell_type": "code",
   "execution_count": 18,
   "id": "3951ef48",
   "metadata": {},
   "outputs": [],
   "source": [
    "import time\n",
    "from google import genai\n",
    "from google.genai import types\n",
    "import sys\n",
    "\n",
    "sys.path.append(\"..\")\n",
    "\n",
    "from agent.tools.config import VideoGenToolConfig\n"
   ]
  },
  {
   "cell_type": "code",
   "execution_count": 6,
   "id": "01799e1f",
   "metadata": {},
   "outputs": [
    {
     "name": "stderr",
     "output_type": "stream",
     "text": [
      "\u001b[32m2025-10-29 01:19:01.989\u001b[0m | \u001b[34m\u001b[1mDEBUG   \u001b[0m | \u001b[36magent.tools.config\u001b[0m:\u001b[36mload_gemini_api_key\u001b[0m:\u001b[36m32\u001b[0m - \u001b[34m\u001b[1mAPI Key loaded successfully for video_generation.\u001b[0m\n"
     ]
    }
   ],
   "source": [
    "img_config = VideoGenToolConfig()"
   ]
  },
  {
   "cell_type": "code",
   "execution_count": 22,
   "id": "6fed1dcf",
   "metadata": {},
   "outputs": [
    {
     "data": {
      "text/plain": [
       "VideoGenToolConfig(VIDEO_MODEL='veo-3.1-generate-preview', DURATION=1)"
      ]
     },
     "execution_count": 22,
     "metadata": {},
     "output_type": "execute_result"
    }
   ],
   "source": [
    "img_config.DURATION = 1\n",
    "img_config"
   ]
  },
  {
   "cell_type": "code",
   "execution_count": 15,
   "id": "c041d3df",
   "metadata": {},
   "outputs": [],
   "source": [
    "video = VideoFileClip(\"dialogue_example.mp4\")"
   ]
  },
  {
   "cell_type": "code",
   "execution_count": 19,
   "id": "b09a22e7",
   "metadata": {},
   "outputs": [],
   "source": [
    "video_bytes = get_file(bucket_name=bucket_name, gcs_file_path=\"videos/ai_health_podcast_intro.mp4\")"
   ]
  },
  {
   "cell_type": "code",
   "execution_count": 24,
   "id": "f9c4ab38",
   "metadata": {},
   "outputs": [
    {
     "ename": "FileNotFoundError",
     "evalue": "'https://storage.googleapis.com/ai-hub-sharepoint/videos/ai_health_podcast_intro.mp4' not found",
     "output_type": "error",
     "traceback": [
      "\u001b[31m---------------------------------------------------------------------------\u001b[39m",
      "\u001b[31mTypeError\u001b[39m                                 Traceback (most recent call last)",
      "\u001b[36mFile \u001b[39m\u001b[32m/workspaces/AI-Hub-SharePoint-Agent/.venv/lib/python3.12/site-packages/moviepy/video/io/ffmpeg_reader.py:904\u001b[39m, in \u001b[36mffmpeg_parse_infos\u001b[39m\u001b[34m(filename, check_duration, fps_source, decode_file, print_infos)\u001b[39m\n\u001b[32m    897\u001b[39m \u001b[38;5;28;01mtry\u001b[39;00m:\n\u001b[32m    898\u001b[39m     \u001b[38;5;28;01mreturn\u001b[39;00m \u001b[43mFFmpegInfosParser\u001b[49m\u001b[43m(\u001b[49m\n\u001b[32m    899\u001b[39m \u001b[43m        \u001b[49m\u001b[43minfos\u001b[49m\u001b[43m,\u001b[49m\n\u001b[32m    900\u001b[39m \u001b[43m        \u001b[49m\u001b[43mfilename\u001b[49m\u001b[43m,\u001b[49m\n\u001b[32m    901\u001b[39m \u001b[43m        \u001b[49m\u001b[43mfps_source\u001b[49m\u001b[43m=\u001b[49m\u001b[43mfps_source\u001b[49m\u001b[43m,\u001b[49m\n\u001b[32m    902\u001b[39m \u001b[43m        \u001b[49m\u001b[43mcheck_duration\u001b[49m\u001b[43m=\u001b[49m\u001b[43mcheck_duration\u001b[49m\u001b[43m,\u001b[49m\n\u001b[32m    903\u001b[39m \u001b[43m        \u001b[49m\u001b[43mdecode_file\u001b[49m\u001b[43m=\u001b[49m\u001b[43mdecode_file\u001b[49m\u001b[43m,\u001b[49m\n\u001b[32m--> \u001b[39m\u001b[32m904\u001b[39m \u001b[43m    \u001b[49m\u001b[43m)\u001b[49m\u001b[43m.\u001b[49m\u001b[43mparse\u001b[49m\u001b[43m(\u001b[49m\u001b[43m)\u001b[49m\n\u001b[32m    905\u001b[39m \u001b[38;5;28;01mexcept\u001b[39;00m \u001b[38;5;167;01mException\u001b[39;00m \u001b[38;5;28;01mas\u001b[39;00m exc:\n",
      "\u001b[36mFile \u001b[39m\u001b[32m/workspaces/AI-Hub-SharePoint-Agent/.venv/lib/python3.12/site-packages/moviepy/video/io/ffmpeg_reader.py:606\u001b[39m, in \u001b[36mFFmpegInfosParser.parse\u001b[39m\u001b[34m(self)\u001b[39m\n\u001b[32m    605\u001b[39m \u001b[38;5;28;01mfor\u001b[39;00m stream \u001b[38;5;129;01min\u001b[39;00m \u001b[38;5;28mself\u001b[39m._current_input_file[\u001b[33m\"\u001b[39m\u001b[33mstreams\u001b[39m\u001b[33m\"\u001b[39m]:\n\u001b[32m--> \u001b[39m\u001b[32m606\u001b[39m     \u001b[38;5;28;01mif\u001b[39;00m \u001b[43mstream\u001b[49m\u001b[43m[\u001b[49m\u001b[33;43m\"\u001b[39;49m\u001b[33;43mstream_type\u001b[39;49m\u001b[33;43m\"\u001b[39;49m\u001b[43m]\u001b[49m \u001b[38;5;129;01mnot\u001b[39;00m \u001b[38;5;129;01min\u001b[39;00m \u001b[38;5;28mself\u001b[39m._default_streams:\n\u001b[32m    607\u001b[39m         \u001b[38;5;28mself\u001b[39m._default_streams[stream[\u001b[33m\"\u001b[39m\u001b[33mstream_type\u001b[39m\u001b[33m\"\u001b[39m]] = stream\n",
      "\u001b[31mTypeError\u001b[39m: 'NoneType' object is not subscriptable",
      "\nDuring handling of the above exception, another exception occurred:\n",
      "\u001b[31mFileNotFoundError\u001b[39m                         Traceback (most recent call last)",
      "\u001b[36mCell\u001b[39m\u001b[36m \u001b[39m\u001b[32mIn[24]\u001b[39m\u001b[32m, line 1\u001b[39m\n\u001b[32m----> \u001b[39m\u001b[32m1\u001b[39m video = \u001b[43mVideoFileClip\u001b[49m\u001b[43m(\u001b[49m\u001b[33;43m\"\u001b[39;49m\u001b[33;43mhttps://storage.googleapis.com/ai-hub-sharepoint/videos/ai_health_podcast_intro.mp4\u001b[39;49m\u001b[33;43m\"\u001b[39;49m\u001b[43m)\u001b[49m\n",
      "\u001b[36mFile \u001b[39m\u001b[32m/workspaces/AI-Hub-SharePoint-Agent/.venv/lib/python3.12/site-packages/decorator.py:235\u001b[39m, in \u001b[36mdecorate.<locals>.fun\u001b[39m\u001b[34m(*args, **kw)\u001b[39m\n\u001b[32m    233\u001b[39m \u001b[38;5;28;01mif\u001b[39;00m \u001b[38;5;129;01mnot\u001b[39;00m kwsyntax:\n\u001b[32m    234\u001b[39m     args, kw = fix(args, kw, sig)\n\u001b[32m--> \u001b[39m\u001b[32m235\u001b[39m \u001b[38;5;28;01mreturn\u001b[39;00m \u001b[43mcaller\u001b[49m\u001b[43m(\u001b[49m\u001b[43mfunc\u001b[49m\u001b[43m,\u001b[49m\u001b[43m \u001b[49m\u001b[43m*\u001b[49m\u001b[43m(\u001b[49m\u001b[43mextras\u001b[49m\u001b[43m \u001b[49m\u001b[43m+\u001b[49m\u001b[43m \u001b[49m\u001b[43margs\u001b[49m\u001b[43m)\u001b[49m\u001b[43m,\u001b[49m\u001b[43m \u001b[49m\u001b[43m*\u001b[49m\u001b[43m*\u001b[49m\u001b[43mkw\u001b[49m\u001b[43m)\u001b[49m\n",
      "\u001b[36mFile \u001b[39m\u001b[32m/workspaces/AI-Hub-SharePoint-Agent/.venv/lib/python3.12/site-packages/moviepy/decorators.py:102\u001b[39m, in \u001b[36mpreprocess_args.<locals>.decor.<locals>.wrapper\u001b[39m\u001b[34m(func, *args, **kwargs)\u001b[39m\n\u001b[32m     90\u001b[39m new_args = [\n\u001b[32m     91\u001b[39m     (\n\u001b[32m     92\u001b[39m         preprocess_func(arg)\n\u001b[32m   (...)\u001b[39m\u001b[32m     96\u001b[39m     \u001b[38;5;28;01mfor\u001b[39;00m (arg, name) \u001b[38;5;129;01min\u001b[39;00m \u001b[38;5;28mzip\u001b[39m(args, argnames)\n\u001b[32m     97\u001b[39m ]\n\u001b[32m     98\u001b[39m new_kwargs = {\n\u001b[32m     99\u001b[39m     kwarg: preprocess_func(value) \u001b[38;5;28;01mif\u001b[39;00m kwarg \u001b[38;5;129;01min\u001b[39;00m varnames \u001b[38;5;28;01melse\u001b[39;00m value\n\u001b[32m    100\u001b[39m     \u001b[38;5;28;01mfor\u001b[39;00m (kwarg, value) \u001b[38;5;129;01min\u001b[39;00m kwargs.items()\n\u001b[32m    101\u001b[39m }\n\u001b[32m--> \u001b[39m\u001b[32m102\u001b[39m \u001b[38;5;28;01mreturn\u001b[39;00m \u001b[43mfunc\u001b[49m\u001b[43m(\u001b[49m\u001b[43m*\u001b[49m\u001b[43mnew_args\u001b[49m\u001b[43m,\u001b[49m\u001b[43m \u001b[49m\u001b[43m*\u001b[49m\u001b[43m*\u001b[49m\u001b[43mnew_kwargs\u001b[49m\u001b[43m)\u001b[49m\n",
      "\u001b[36mFile \u001b[39m\u001b[32m/workspaces/AI-Hub-SharePoint-Agent/.venv/lib/python3.12/site-packages/moviepy/video/io/VideoFileClip.py:109\u001b[39m, in \u001b[36mVideoFileClip.__init__\u001b[39m\u001b[34m(self, filename, decode_file, has_mask, audio, audio_buffersize, target_resolution, resize_algorithm, audio_fps, audio_nbytes, fps_source, pixel_format, is_mask)\u001b[39m\n\u001b[32m    106\u001b[39m \u001b[38;5;28;01mif\u001b[39;00m \u001b[38;5;129;01mnot\u001b[39;00m pixel_format:\n\u001b[32m    107\u001b[39m     pixel_format = \u001b[33m\"\u001b[39m\u001b[33mrgba\u001b[39m\u001b[33m\"\u001b[39m \u001b[38;5;28;01mif\u001b[39;00m has_mask \u001b[38;5;28;01melse\u001b[39;00m \u001b[33m\"\u001b[39m\u001b[33mrgb24\u001b[39m\u001b[33m\"\u001b[39m\n\u001b[32m--> \u001b[39m\u001b[32m109\u001b[39m \u001b[38;5;28mself\u001b[39m.reader = \u001b[43mFFMPEG_VideoReader\u001b[49m\u001b[43m(\u001b[49m\n\u001b[32m    110\u001b[39m \u001b[43m    \u001b[49m\u001b[43mfilename\u001b[49m\u001b[43m,\u001b[49m\n\u001b[32m    111\u001b[39m \u001b[43m    \u001b[49m\u001b[43mdecode_file\u001b[49m\u001b[43m=\u001b[49m\u001b[43mdecode_file\u001b[49m\u001b[43m,\u001b[49m\n\u001b[32m    112\u001b[39m \u001b[43m    \u001b[49m\u001b[43mpixel_format\u001b[49m\u001b[43m=\u001b[49m\u001b[43mpixel_format\u001b[49m\u001b[43m,\u001b[49m\n\u001b[32m    113\u001b[39m \u001b[43m    \u001b[49m\u001b[43mtarget_resolution\u001b[49m\u001b[43m=\u001b[49m\u001b[43mtarget_resolution\u001b[49m\u001b[43m,\u001b[49m\n\u001b[32m    114\u001b[39m \u001b[43m    \u001b[49m\u001b[43mresize_algo\u001b[49m\u001b[43m=\u001b[49m\u001b[43mresize_algorithm\u001b[49m\u001b[43m,\u001b[49m\n\u001b[32m    115\u001b[39m \u001b[43m    \u001b[49m\u001b[43mfps_source\u001b[49m\u001b[43m=\u001b[49m\u001b[43mfps_source\u001b[49m\u001b[43m,\u001b[49m\n\u001b[32m    116\u001b[39m \u001b[43m\u001b[49m\u001b[43m)\u001b[49m\n\u001b[32m    118\u001b[39m \u001b[38;5;66;03m# Make some of the reader's attributes accessible from the clip\u001b[39;00m\n\u001b[32m    119\u001b[39m \u001b[38;5;28mself\u001b[39m.duration = \u001b[38;5;28mself\u001b[39m.reader.duration\n",
      "\u001b[36mFile \u001b[39m\u001b[32m/workspaces/AI-Hub-SharePoint-Agent/.venv/lib/python3.12/site-packages/moviepy/video/io/ffmpeg_reader.py:35\u001b[39m, in \u001b[36mFFMPEG_VideoReader.__init__\u001b[39m\u001b[34m(self, filename, decode_file, print_infos, bufsize, pixel_format, check_duration, target_resolution, resize_algo, fps_source)\u001b[39m\n\u001b[32m     33\u001b[39m \u001b[38;5;28mself\u001b[39m.filename = filename\n\u001b[32m     34\u001b[39m \u001b[38;5;28mself\u001b[39m.proc = \u001b[38;5;28;01mNone\u001b[39;00m\n\u001b[32m---> \u001b[39m\u001b[32m35\u001b[39m infos = \u001b[43mffmpeg_parse_infos\u001b[49m\u001b[43m(\u001b[49m\n\u001b[32m     36\u001b[39m \u001b[43m    \u001b[49m\u001b[43mfilename\u001b[49m\u001b[43m,\u001b[49m\n\u001b[32m     37\u001b[39m \u001b[43m    \u001b[49m\u001b[43mcheck_duration\u001b[49m\u001b[43m=\u001b[49m\u001b[43mcheck_duration\u001b[49m\u001b[43m,\u001b[49m\n\u001b[32m     38\u001b[39m \u001b[43m    \u001b[49m\u001b[43mfps_source\u001b[49m\u001b[43m=\u001b[49m\u001b[43mfps_source\u001b[49m\u001b[43m,\u001b[49m\n\u001b[32m     39\u001b[39m \u001b[43m    \u001b[49m\u001b[43mdecode_file\u001b[49m\u001b[43m=\u001b[49m\u001b[43mdecode_file\u001b[49m\u001b[43m,\u001b[49m\n\u001b[32m     40\u001b[39m \u001b[43m    \u001b[49m\u001b[43mprint_infos\u001b[49m\u001b[43m=\u001b[49m\u001b[43mprint_infos\u001b[49m\u001b[43m,\u001b[49m\n\u001b[32m     41\u001b[39m \u001b[43m\u001b[49m\u001b[43m)\u001b[49m\n\u001b[32m     42\u001b[39m \u001b[38;5;66;03m# If framerate is unavailable, assume 1.0 FPS to avoid divide-by-zero errors.\u001b[39;00m\n\u001b[32m     43\u001b[39m \u001b[38;5;28mself\u001b[39m.fps = infos.get(\u001b[33m\"\u001b[39m\u001b[33mvideo_fps\u001b[39m\u001b[33m\"\u001b[39m, \u001b[32m1.0\u001b[39m)\n",
      "\u001b[36mFile \u001b[39m\u001b[32m/workspaces/AI-Hub-SharePoint-Agent/.venv/lib/python3.12/site-packages/moviepy/video/io/ffmpeg_reader.py:909\u001b[39m, in \u001b[36mffmpeg_parse_infos\u001b[39m\u001b[34m(filename, check_duration, fps_source, decode_file, print_infos)\u001b[39m\n\u001b[32m    907\u001b[39m     \u001b[38;5;28;01mraise\u001b[39;00m \u001b[38;5;167;01mIsADirectoryError\u001b[39;00m(\u001b[33mf\u001b[39m\u001b[33m\"\u001b[39m\u001b[33m'\u001b[39m\u001b[38;5;132;01m{\u001b[39;00mfilename\u001b[38;5;132;01m}\u001b[39;00m\u001b[33m'\u001b[39m\u001b[33m is a directory\u001b[39m\u001b[33m\"\u001b[39m)\n\u001b[32m    908\u001b[39m \u001b[38;5;28;01melif\u001b[39;00m \u001b[38;5;129;01mnot\u001b[39;00m os.path.exists(filename):\n\u001b[32m--> \u001b[39m\u001b[32m909\u001b[39m     \u001b[38;5;28;01mraise\u001b[39;00m \u001b[38;5;167;01mFileNotFoundError\u001b[39;00m(\u001b[33mf\u001b[39m\u001b[33m\"\u001b[39m\u001b[33m'\u001b[39m\u001b[38;5;132;01m{\u001b[39;00mfilename\u001b[38;5;132;01m}\u001b[39;00m\u001b[33m'\u001b[39m\u001b[33m not found\u001b[39m\u001b[33m\"\u001b[39m)\n\u001b[32m    910\u001b[39m \u001b[38;5;28;01mraise\u001b[39;00m \u001b[38;5;167;01mIOError\u001b[39;00m(\u001b[33mf\u001b[39m\u001b[33m\"\u001b[39m\u001b[33mError passing `ffmpeg -i` command output:\u001b[39m\u001b[38;5;130;01m\\n\u001b[39;00m\u001b[38;5;130;01m\\n\u001b[39;00m\u001b[38;5;132;01m{\u001b[39;00minfos\u001b[38;5;132;01m}\u001b[39;00m\u001b[33m\"\u001b[39m) \u001b[38;5;28;01mfrom\u001b[39;00m\u001b[38;5;250m \u001b[39m\u001b[34;01mexc\u001b[39;00m\n",
      "\u001b[31mFileNotFoundError\u001b[39m: 'https://storage.googleapis.com/ai-hub-sharepoint/videos/ai_health_podcast_intro.mp4' not found"
     ]
    }
   ],
   "source": [
    "video = VideoFileClip(\"https://storage.googleapis.com/ai-hub-sharepoint/videos/ai_health_podcast_intro.mp4\")"
   ]
  },
  {
   "cell_type": "code",
   "execution_count": 7,
   "id": "44259eab",
   "metadata": {},
   "outputs": [
    {
     "name": "stdout",
     "output_type": "stream",
     "text": [
      "Waiting for video generation to complete...\n",
      "Waiting for video generation to complete...\n",
      "Waiting for video generation to complete...\n",
      "Waiting for video generation to complete...\n",
      "Generated video saved to portrait_video.mp4\n"
     ]
    }
   ],
   "source": [
    "\n",
    "client = genai.Client(api_key=img_config.GEMINI_API_KEY.get_secret_value())\n",
    "\n",
    "prompt=\"Portrait(9:16): An AI analyzing medical studies\"\n",
    "\n",
    "operation = client.models.generate_videos(\n",
    "    model=\"veo-2.0-generate-001\",\n",
    "    prompt=prompt,\n",
    "    config=types.GenerateVideosConfig(\n",
    "        aspect_ratio=\"9:16\"\n",
    "    )\n",
    ")\n",
    "\n",
    "# Poll the operation status until the video is ready.\n",
    "while not operation.done:\n",
    "    print(\"Waiting for video generation to complete...\")\n",
    "    time.sleep(10)\n",
    "    operation = client.operations.get(operation)\n",
    "\n",
    "# Download the generated video.\n",
    "generated_video = operation.response.generated_videos[0]\n",
    "video = generated_video.video\n",
    "client.files.download(file=generated_video.video)\n",
    "generated_video.video.save(\"portrait_video.mp4\")\n",
    "print(\"Generated video saved to portrait_video.mp4\")"
   ]
  },
  {
   "cell_type": "code",
   "execution_count": 8,
   "id": "08b0989f",
   "metadata": {},
   "outputs": [
    {
     "data": {
      "text/plain": [
       "Video(uri=https://generativelanguage.googleapis.com/v1beta/files/rltbe6coogza:download?alt=media, video_bytes=<video_bytes>, mime_type=None)"
      ]
     },
     "execution_count": 8,
     "metadata": {},
     "output_type": "execute_result"
    }
   ],
   "source": [
    "video"
   ]
  },
  {
   "cell_type": "code",
   "execution_count": 12,
   "id": "e7ce6d57",
   "metadata": {},
   "outputs": [],
   "source": [
    "video_bytes = client.files.download(file=generated_video.video)"
   ]
  },
  {
   "cell_type": "code",
   "execution_count": 13,
   "id": "ac1b4bfb",
   "metadata": {},
   "outputs": [
    {
     "data": {
      "text/plain": [
       "bytes"
      ]
     },
     "execution_count": 13,
     "metadata": {},
     "output_type": "execute_result"
    }
   ],
   "source": [
    "type(video_bytes)"
   ]
  },
  {
   "cell_type": "code",
   "execution_count": 10,
   "id": "bf1e809f",
   "metadata": {},
   "outputs": [
    {
     "data": {
      "text/plain": [
       "bytes"
      ]
     },
     "execution_count": 10,
     "metadata": {},
     "output_type": "execute_result"
    }
   ],
   "source": [
    "type(video.video_bytes)"
   ]
  },
  {
   "cell_type": "code",
   "execution_count": 14,
   "id": "11734a3c",
   "metadata": {},
   "outputs": [
    {
     "data": {
      "text/plain": [
       "3367371"
      ]
     },
     "execution_count": 14,
     "metadata": {},
     "output_type": "execute_result"
    }
   ],
   "source": [
    "len(video_bytes)"
   ]
  },
  {
   "cell_type": "code",
   "execution_count": null,
   "id": "e4e75231",
   "metadata": {},
   "outputs": [],
   "source": [
    "def generate_video()"
   ]
  },
  {
   "cell_type": "code",
   "execution_count": 1,
   "id": "ecb22022",
   "metadata": {},
   "outputs": [
    {
     "name": "stderr",
     "output_type": "stream",
     "text": [
      "WARNING: All log messages before absl::InitializeLog() is called are written to STDERR\n",
      "E0000 00:00:1761763885.834938   35579 alts_credentials.cc:93] ALTS creds ignored. Not running on GCP and untrusted ALTS is not enabled.\n",
      "\u001b[32m2025-10-29 18:51:26.980\u001b[0m | \u001b[34m\u001b[1mDEBUG   \u001b[0m | \u001b[36magent.tools.config\u001b[0m:\u001b[36mload_gemini_api_key\u001b[0m:\u001b[36m31\u001b[0m - \u001b[34m\u001b[1mAPI Key loaded successfully for cloud_storage.\u001b[0m\n",
      "\u001b[32m2025-10-29 18:51:30.673\u001b[0m | \u001b[34m\u001b[1mDEBUG   \u001b[0m | \u001b[36magent.tools.config\u001b[0m:\u001b[36mload_gemini_api_key\u001b[0m:\u001b[36m31\u001b[0m - \u001b[34m\u001b[1mAPI Key loaded successfully for image_generation.\u001b[0m\n",
      "\u001b[32m2025-10-29 18:51:31.383\u001b[0m | \u001b[34m\u001b[1mDEBUG   \u001b[0m | \u001b[36magent.tools.config\u001b[0m:\u001b[36mload_gemini_api_key\u001b[0m:\u001b[36m31\u001b[0m - \u001b[34m\u001b[1mAPI Key loaded successfully for text_to_speech.\u001b[0m\n",
      "\u001b[32m2025-10-29 18:51:40.174\u001b[0m | \u001b[34m\u001b[1mDEBUG   \u001b[0m | \u001b[36magent.tools.config\u001b[0m:\u001b[36mload_gemini_api_key\u001b[0m:\u001b[36m31\u001b[0m - \u001b[34m\u001b[1mAPI Key loaded successfully for video_generation.\u001b[0m\n"
     ]
    }
   ],
   "source": [
    "import sys\n",
    "\n",
    "sys.path.append(\"..\")\n",
    "\n",
    "from utils.gcp.gcs import list_blobs\n",
    "from agent.tools.gcp.cloud_storage import list_files_in_gcs_bucket"
   ]
  },
  {
   "cell_type": "code",
   "execution_count": 2,
   "id": "5e0202d5",
   "metadata": {},
   "outputs": [
    {
     "data": {
      "text/plain": [
       "[{'name': 'audios/ai_conversations_future_of_patient_care.wav',\n",
       "  'content_type': 'audio/wav',\n",
       "  'public_url': 'https://storage.googleapis.com/ai-hub-sharepoint/audios/ai_conversations_future_of_patient_care.wav',\n",
       "  'storage_class': 'STANDARD',\n",
       "  'size': 16070970,\n",
       "  'created_at': datetime.datetime(2025, 10, 20, 20, 16, 29, 750000, tzinfo=datetime.timezone.utc),\n",
       "  'updated_at': datetime.datetime(2025, 10, 20, 20, 16, 30, 19000, tzinfo=datetime.timezone.utc)},\n",
       " {'name': 'audios/ai_conversations_openais_strategic_play_for_enterprise_trust.wav',\n",
       "  'content_type': 'audio/wav',\n",
       "  'public_url': 'https://storage.googleapis.com/ai-hub-sharepoint/audios/ai_conversations_openais_strategic_play_for_enterprise_trust.wav',\n",
       "  'storage_class': 'STANDARD',\n",
       "  'size': 21519930,\n",
       "  'created_at': datetime.datetime(2025, 10, 28, 17, 11, 11, 17000, tzinfo=datetime.timezone.utc),\n",
       "  'updated_at': datetime.datetime(2025, 10, 28, 17, 11, 11, 356000, tzinfo=datetime.timezone.utc)},\n",
       " {'name': 'audios/ai_conversations_prompt_hijacking.wav',\n",
       "  'content_type': 'audio/wav',\n",
       "  'public_url': 'https://storage.googleapis.com/ai-hub-sharepoint/audios/ai_conversations_prompt_hijacking.wav',\n",
       "  'storage_class': 'STANDARD',\n",
       "  'size': 14757690,\n",
       "  'created_at': datetime.datetime(2025, 10, 28, 19, 16, 18, 845000, tzinfo=datetime.timezone.utc),\n",
       "  'updated_at': datetime.datetime(2025, 10, 28, 19, 16, 19, 83000, tzinfo=datetime.timezone.utc)},\n",
       " {'name': 'audios/how_to_fix_the_ai_trust_gap_in_your_business_-_corrected.wav',\n",
       "  'content_type': 'audio/wav',\n",
       "  'public_url': 'https://storage.googleapis.com/ai-hub-sharepoint/audios/how_to_fix_the_ai_trust_gap_in_your_business_-_corrected.wav',\n",
       "  'storage_class': 'STANDARD',\n",
       "  'size': 23328570,\n",
       "  'created_at': datetime.datetime(2025, 10, 28, 19, 39, 20, 243000, tzinfo=datetime.timezone.utc),\n",
       "  'updated_at': datetime.datetime(2025, 10, 28, 19, 39, 20, 476000, tzinfo=datetime.timezone.utc)},\n",
       " {'name': 'audios/the_ai_data_challenge.wav',\n",
       "  'content_type': 'audio/wav',\n",
       "  'public_url': 'https://storage.googleapis.com/ai-hub-sharepoint/audios/the_ai_data_challenge.wav',\n",
       "  'storage_class': 'STANDARD',\n",
       "  'size': 20435130,\n",
       "  'created_at': datetime.datetime(2025, 10, 21, 18, 48, 15, 284000, tzinfo=datetime.timezone.utc),\n",
       "  'updated_at': datetime.datetime(2025, 10, 21, 18, 48, 15, 545000, tzinfo=datetime.timezone.utc)},\n",
       " {'name': 'audios_transcript/ai_conversations_future_of_patient_care.txt',\n",
       "  'content_type': 'text/plain',\n",
       "  'public_url': 'https://storage.googleapis.com/ai-hub-sharepoint/audios_transcript/ai_conversations_future_of_patient_care.txt',\n",
       "  'storage_class': 'STANDARD',\n",
       "  'size': 6104,\n",
       "  'created_at': datetime.datetime(2025, 10, 20, 20, 9, 33, 634000, tzinfo=datetime.timezone.utc),\n",
       "  'updated_at': datetime.datetime(2025, 10, 20, 20, 9, 33, 634000, tzinfo=datetime.timezone.utc)},\n",
       " {'name': 'audios_transcript/how_to_fix_the_ai_trust_gap.txt',\n",
       "  'content_type': 'text/plain',\n",
       "  'public_url': 'https://storage.googleapis.com/ai-hub-sharepoint/audios_transcript/how_to_fix_the_ai_trust_gap.txt',\n",
       "  'storage_class': 'STANDARD',\n",
       "  'size': 8565,\n",
       "  'created_at': datetime.datetime(2025, 10, 28, 19, 30, 17, 97000, tzinfo=datetime.timezone.utc),\n",
       "  'updated_at': datetime.datetime(2025, 10, 28, 19, 30, 17, 97000, tzinfo=datetime.timezone.utc)},\n",
       " {'name': 'audios_transcript/how_to_fix_the_ai_trust_gap_final_v2.txt',\n",
       "  'content_type': 'text/plain',\n",
       "  'public_url': 'https://storage.googleapis.com/ai-hub-sharepoint/audios_transcript/how_to_fix_the_ai_trust_gap_final_v2.txt',\n",
       "  'storage_class': 'STANDARD',\n",
       "  'size': 8565,\n",
       "  'created_at': datetime.datetime(2025, 10, 28, 19, 36, 32, 612000, tzinfo=datetime.timezone.utc),\n",
       "  'updated_at': datetime.datetime(2025, 10, 28, 19, 36, 32, 612000, tzinfo=datetime.timezone.utc)},\n",
       " {'name': 'audios_transcript/prompt_hijacking_threat.txt',\n",
       "  'content_type': 'text/plain',\n",
       "  'public_url': 'https://storage.googleapis.com/ai-hub-sharepoint/audios_transcript/prompt_hijacking_threat.txt',\n",
       "  'storage_class': 'STANDARD',\n",
       "  'size': 5590,\n",
       "  'created_at': datetime.datetime(2025, 10, 28, 19, 14, 28, 599000, tzinfo=datetime.timezone.utc),\n",
       "  'updated_at': datetime.datetime(2025, 10, 28, 19, 14, 28, 599000, tzinfo=datetime.timezone.utc)},\n",
       " {'name': 'audios_transcript/the_ai_data_challenge.txt',\n",
       "  'content_type': 'text/plain',\n",
       "  'public_url': 'https://storage.googleapis.com/ai-hub-sharepoint/audios_transcript/the_ai_data_challenge.txt',\n",
       "  'storage_class': 'STANDARD',\n",
       "  'size': 8338,\n",
       "  'created_at': datetime.datetime(2025, 10, 21, 18, 45, 21, 486000, tzinfo=datetime.timezone.utc),\n",
       "  'updated_at': datetime.datetime(2025, 10, 21, 18, 45, 21, 486000, tzinfo=datetime.timezone.utc)},\n",
       " {'name': 'images/ai_conversations_cover.png',\n",
       "  'content_type': 'image/png',\n",
       "  'public_url': 'https://storage.googleapis.com/ai-hub-sharepoint/images/ai_conversations_cover.png',\n",
       "  'storage_class': 'STANDARD',\n",
       "  'size': 1053353,\n",
       "  'created_at': datetime.datetime(2025, 10, 21, 0, 52, 8, 825000, tzinfo=datetime.timezone.utc),\n",
       "  'updated_at': datetime.datetime(2025, 10, 21, 0, 52, 9, 107000, tzinfo=datetime.timezone.utc)},\n",
       " {'name': 'images/ai_data_challenge.png',\n",
       "  'content_type': 'image/png',\n",
       "  'public_url': 'https://storage.googleapis.com/ai-hub-sharepoint/images/ai_data_challenge.png',\n",
       "  'storage_class': 'STANDARD',\n",
       "  'size': 1218620,\n",
       "  'created_at': datetime.datetime(2025, 10, 21, 18, 52, 25, 723000, tzinfo=datetime.timezone.utc),\n",
       "  'updated_at': datetime.datetime(2025, 10, 21, 18, 52, 26, 10000, tzinfo=datetime.timezone.utc)},\n",
       " {'name': 'images/ai_security_breach.png',\n",
       "  'content_type': 'image/png',\n",
       "  'public_url': 'https://storage.googleapis.com/ai-hub-sharepoint/images/ai_security_breach.png',\n",
       "  'storage_class': 'STANDARD',\n",
       "  'size': 1337768,\n",
       "  'created_at': datetime.datetime(2025, 10, 28, 19, 21, 0, 416000, tzinfo=datetime.timezone.utc),\n",
       "  'updated_at': datetime.datetime(2025, 10, 28, 19, 21, 0, 659000, tzinfo=datetime.timezone.utc)},\n",
       " {'name': 'images/uk_data_residency_server.png',\n",
       "  'content_type': 'image/png',\n",
       "  'public_url': 'https://storage.googleapis.com/ai-hub-sharepoint/images/uk_data_residency_server.png',\n",
       "  'storage_class': 'STANDARD',\n",
       "  'size': 1133878,\n",
       "  'created_at': datetime.datetime(2025, 10, 28, 17, 15, 9, 45000, tzinfo=datetime.timezone.utc),\n",
       "  'updated_at': datetime.datetime(2025, 10, 28, 17, 15, 9, 275000, tzinfo=datetime.timezone.utc)},\n",
       " {'name': 'images/uk_data_security_hologram.png',\n",
       "  'content_type': 'image/png',\n",
       "  'public_url': 'https://storage.googleapis.com/ai-hub-sharepoint/images/uk_data_security_hologram.png',\n",
       "  'storage_class': 'STANDARD',\n",
       "  'size': 1568865,\n",
       "  'created_at': datetime.datetime(2025, 10, 28, 17, 15, 9, 482000, tzinfo=datetime.timezone.utc),\n",
       "  'updated_at': datetime.datetime(2025, 10, 28, 17, 15, 9, 717000, tzinfo=datetime.timezone.utc)},\n",
       " {'name': 'images/uk_data_sovereignty_abstract.png',\n",
       "  'content_type': 'image/png',\n",
       "  'public_url': 'https://storage.googleapis.com/ai-hub-sharepoint/images/uk_data_sovereignty_abstract.png',\n",
       "  'storage_class': 'STANDARD',\n",
       "  'size': 1340901,\n",
       "  'created_at': datetime.datetime(2025, 10, 28, 17, 15, 9, 423000, tzinfo=datetime.timezone.utc),\n",
       "  'updated_at': datetime.datetime(2025, 10, 28, 17, 15, 9, 647000, tzinfo=datetime.timezone.utc)},\n",
       " {'name': 'images/unlocking_ai_trust_concept.png',\n",
       "  'content_type': 'image/png',\n",
       "  'public_url': 'https://storage.googleapis.com/ai-hub-sharepoint/images/unlocking_ai_trust_concept.png',\n",
       "  'storage_class': 'STANDARD',\n",
       "  'size': 1405997,\n",
       "  'created_at': datetime.datetime(2025, 10, 28, 19, 43, 19, 805000, tzinfo=datetime.timezone.utc),\n",
       "  'updated_at': datetime.datetime(2025, 10, 28, 19, 43, 20, 40000, tzinfo=datetime.timezone.utc)},\n",
       " {'name': 'system_prompts/system_prompt_fifth_proposal.txt',\n",
       "  'content_type': 'text/plain',\n",
       "  'public_url': 'https://storage.googleapis.com/ai-hub-sharepoint/system_prompts/system_prompt_fifth_proposal.txt',\n",
       "  'storage_class': 'STANDARD',\n",
       "  'size': 3443,\n",
       "  'created_at': datetime.datetime(2025, 10, 28, 17, 25, 58, 487000, tzinfo=datetime.timezone.utc),\n",
       "  'updated_at': datetime.datetime(2025, 10, 28, 17, 25, 58, 487000, tzinfo=datetime.timezone.utc)},\n",
       " {'name': 'system_prompts/system_prompt_first_proposal.txt',\n",
       "  'content_type': 'text/plain',\n",
       "  'public_url': 'https://storage.googleapis.com/ai-hub-sharepoint/system_prompts/system_prompt_first_proposal.txt',\n",
       "  'storage_class': 'STANDARD',\n",
       "  'size': 2510,\n",
       "  'created_at': datetime.datetime(2025, 10, 20, 4, 57, 17, 496000, tzinfo=datetime.timezone.utc),\n",
       "  'updated_at': datetime.datetime(2025, 10, 20, 4, 57, 17, 496000, tzinfo=datetime.timezone.utc)},\n",
       " {'name': 'system_prompts/system_prompt_fourth_proposal.txt',\n",
       "  'content_type': 'text/plain',\n",
       "  'public_url': 'https://storage.googleapis.com/ai-hub-sharepoint/system_prompts/system_prompt_fourth_proposal.txt',\n",
       "  'storage_class': 'STANDARD',\n",
       "  'size': 3448,\n",
       "  'created_at': datetime.datetime(2025, 10, 21, 18, 29, 16, 192000, tzinfo=datetime.timezone.utc),\n",
       "  'updated_at': datetime.datetime(2025, 10, 21, 18, 29, 16, 192000, tzinfo=datetime.timezone.utc)},\n",
       " {'name': 'system_prompts/system_prompt_second_proposal.txt',\n",
       "  'content_type': 'text/plain',\n",
       "  'public_url': 'https://storage.googleapis.com/ai-hub-sharepoint/system_prompts/system_prompt_second_proposal.txt',\n",
       "  'storage_class': 'STANDARD',\n",
       "  'size': 2696,\n",
       "  'created_at': datetime.datetime(2025, 10, 20, 5, 35, 27, 439000, tzinfo=datetime.timezone.utc),\n",
       "  'updated_at': datetime.datetime(2025, 10, 20, 5, 35, 27, 439000, tzinfo=datetime.timezone.utc)},\n",
       " {'name': 'system_prompts/system_prompt_third_proposal.txt',\n",
       "  'content_type': 'text/plain',\n",
       "  'public_url': 'https://storage.googleapis.com/ai-hub-sharepoint/system_prompts/system_prompt_third_proposal.txt',\n",
       "  'storage_class': 'STANDARD',\n",
       "  'size': 2839,\n",
       "  'created_at': datetime.datetime(2025, 10, 20, 17, 32, 0, 658000, tzinfo=datetime.timezone.utc),\n",
       "  'updated_at': datetime.datetime(2025, 10, 20, 17, 32, 0, 658000, tzinfo=datetime.timezone.utc)}]"
      ]
     },
     "execution_count": 2,
     "metadata": {},
     "output_type": "execute_result"
    }
   ],
   "source": [
    "list_blobs(\"ai-hub-sharepoint\")"
   ]
  },
  {
   "cell_type": "code",
   "execution_count": 3,
   "id": "4c0d102a",
   "metadata": {},
   "outputs": [
    {
     "name": "stderr",
     "output_type": "stream",
     "text": [
      "\u001b[32m2025-10-29 18:52:04.345\u001b[0m | \u001b[1mINFO    \u001b[0m | \u001b[36magent.tools.gcp.cloud_storage\u001b[0m:\u001b[36mlist_files_in_gcs_bucket\u001b[0m:\u001b[36m81\u001b[0m - \u001b[1mListing files in GCS bucket...\u001b[0m\n"
     ]
    },
    {
     "data": {
      "text/plain": [
       "[Blob(name='audios/ai_conversations_future_of_patient_care.wav', content_type='audio/wav', public_url=HttpUrl('https://storage.googleapis.com/ai-hub-sharepoint/audios/ai_conversations_future_of_patient_care.wav'), storage_class='STANDARD', size_bytes=None, created_at=datetime.datetime(2025, 10, 20, 20, 16, 29, 750000, tzinfo=datetime.timezone.utc), updated_at=datetime.datetime(2025, 10, 20, 20, 16, 30, 19000, tzinfo=datetime.timezone.utc)),\n",
       " Blob(name='audios/ai_conversations_openais_strategic_play_for_enterprise_trust.wav', content_type='audio/wav', public_url=HttpUrl('https://storage.googleapis.com/ai-hub-sharepoint/audios/ai_conversations_openais_strategic_play_for_enterprise_trust.wav'), storage_class='STANDARD', size_bytes=None, created_at=datetime.datetime(2025, 10, 28, 17, 11, 11, 17000, tzinfo=datetime.timezone.utc), updated_at=datetime.datetime(2025, 10, 28, 17, 11, 11, 356000, tzinfo=datetime.timezone.utc)),\n",
       " Blob(name='audios/ai_conversations_prompt_hijacking.wav', content_type='audio/wav', public_url=HttpUrl('https://storage.googleapis.com/ai-hub-sharepoint/audios/ai_conversations_prompt_hijacking.wav'), storage_class='STANDARD', size_bytes=None, created_at=datetime.datetime(2025, 10, 28, 19, 16, 18, 845000, tzinfo=datetime.timezone.utc), updated_at=datetime.datetime(2025, 10, 28, 19, 16, 19, 83000, tzinfo=datetime.timezone.utc)),\n",
       " Blob(name='audios/how_to_fix_the_ai_trust_gap_in_your_business_-_corrected.wav', content_type='audio/wav', public_url=HttpUrl('https://storage.googleapis.com/ai-hub-sharepoint/audios/how_to_fix_the_ai_trust_gap_in_your_business_-_corrected.wav'), storage_class='STANDARD', size_bytes=None, created_at=datetime.datetime(2025, 10, 28, 19, 39, 20, 243000, tzinfo=datetime.timezone.utc), updated_at=datetime.datetime(2025, 10, 28, 19, 39, 20, 476000, tzinfo=datetime.timezone.utc)),\n",
       " Blob(name='audios/the_ai_data_challenge.wav', content_type='audio/wav', public_url=HttpUrl('https://storage.googleapis.com/ai-hub-sharepoint/audios/the_ai_data_challenge.wav'), storage_class='STANDARD', size_bytes=None, created_at=datetime.datetime(2025, 10, 21, 18, 48, 15, 284000, tzinfo=datetime.timezone.utc), updated_at=datetime.datetime(2025, 10, 21, 18, 48, 15, 545000, tzinfo=datetime.timezone.utc)),\n",
       " Blob(name='audios_transcript/ai_conversations_future_of_patient_care.txt', content_type='text/plain', public_url=HttpUrl('https://storage.googleapis.com/ai-hub-sharepoint/audios_transcript/ai_conversations_future_of_patient_care.txt'), storage_class='STANDARD', size_bytes=None, created_at=datetime.datetime(2025, 10, 20, 20, 9, 33, 634000, tzinfo=datetime.timezone.utc), updated_at=datetime.datetime(2025, 10, 20, 20, 9, 33, 634000, tzinfo=datetime.timezone.utc)),\n",
       " Blob(name='audios_transcript/how_to_fix_the_ai_trust_gap.txt', content_type='text/plain', public_url=HttpUrl('https://storage.googleapis.com/ai-hub-sharepoint/audios_transcript/how_to_fix_the_ai_trust_gap.txt'), storage_class='STANDARD', size_bytes=None, created_at=datetime.datetime(2025, 10, 28, 19, 30, 17, 97000, tzinfo=datetime.timezone.utc), updated_at=datetime.datetime(2025, 10, 28, 19, 30, 17, 97000, tzinfo=datetime.timezone.utc)),\n",
       " Blob(name='audios_transcript/how_to_fix_the_ai_trust_gap_final_v2.txt', content_type='text/plain', public_url=HttpUrl('https://storage.googleapis.com/ai-hub-sharepoint/audios_transcript/how_to_fix_the_ai_trust_gap_final_v2.txt'), storage_class='STANDARD', size_bytes=None, created_at=datetime.datetime(2025, 10, 28, 19, 36, 32, 612000, tzinfo=datetime.timezone.utc), updated_at=datetime.datetime(2025, 10, 28, 19, 36, 32, 612000, tzinfo=datetime.timezone.utc)),\n",
       " Blob(name='audios_transcript/prompt_hijacking_threat.txt', content_type='text/plain', public_url=HttpUrl('https://storage.googleapis.com/ai-hub-sharepoint/audios_transcript/prompt_hijacking_threat.txt'), storage_class='STANDARD', size_bytes=None, created_at=datetime.datetime(2025, 10, 28, 19, 14, 28, 599000, tzinfo=datetime.timezone.utc), updated_at=datetime.datetime(2025, 10, 28, 19, 14, 28, 599000, tzinfo=datetime.timezone.utc)),\n",
       " Blob(name='audios_transcript/the_ai_data_challenge.txt', content_type='text/plain', public_url=HttpUrl('https://storage.googleapis.com/ai-hub-sharepoint/audios_transcript/the_ai_data_challenge.txt'), storage_class='STANDARD', size_bytes=None, created_at=datetime.datetime(2025, 10, 21, 18, 45, 21, 486000, tzinfo=datetime.timezone.utc), updated_at=datetime.datetime(2025, 10, 21, 18, 45, 21, 486000, tzinfo=datetime.timezone.utc)),\n",
       " Blob(name='images/ai_conversations_cover.png', content_type='image/png', public_url=HttpUrl('https://storage.googleapis.com/ai-hub-sharepoint/images/ai_conversations_cover.png'), storage_class='STANDARD', size_bytes=None, created_at=datetime.datetime(2025, 10, 21, 0, 52, 8, 825000, tzinfo=datetime.timezone.utc), updated_at=datetime.datetime(2025, 10, 21, 0, 52, 9, 107000, tzinfo=datetime.timezone.utc)),\n",
       " Blob(name='images/ai_data_challenge.png', content_type='image/png', public_url=HttpUrl('https://storage.googleapis.com/ai-hub-sharepoint/images/ai_data_challenge.png'), storage_class='STANDARD', size_bytes=None, created_at=datetime.datetime(2025, 10, 21, 18, 52, 25, 723000, tzinfo=datetime.timezone.utc), updated_at=datetime.datetime(2025, 10, 21, 18, 52, 26, 10000, tzinfo=datetime.timezone.utc)),\n",
       " Blob(name='images/ai_security_breach.png', content_type='image/png', public_url=HttpUrl('https://storage.googleapis.com/ai-hub-sharepoint/images/ai_security_breach.png'), storage_class='STANDARD', size_bytes=None, created_at=datetime.datetime(2025, 10, 28, 19, 21, 0, 416000, tzinfo=datetime.timezone.utc), updated_at=datetime.datetime(2025, 10, 28, 19, 21, 0, 659000, tzinfo=datetime.timezone.utc)),\n",
       " Blob(name='images/uk_data_residency_server.png', content_type='image/png', public_url=HttpUrl('https://storage.googleapis.com/ai-hub-sharepoint/images/uk_data_residency_server.png'), storage_class='STANDARD', size_bytes=None, created_at=datetime.datetime(2025, 10, 28, 17, 15, 9, 45000, tzinfo=datetime.timezone.utc), updated_at=datetime.datetime(2025, 10, 28, 17, 15, 9, 275000, tzinfo=datetime.timezone.utc)),\n",
       " Blob(name='images/uk_data_security_hologram.png', content_type='image/png', public_url=HttpUrl('https://storage.googleapis.com/ai-hub-sharepoint/images/uk_data_security_hologram.png'), storage_class='STANDARD', size_bytes=None, created_at=datetime.datetime(2025, 10, 28, 17, 15, 9, 482000, tzinfo=datetime.timezone.utc), updated_at=datetime.datetime(2025, 10, 28, 17, 15, 9, 717000, tzinfo=datetime.timezone.utc)),\n",
       " Blob(name='images/uk_data_sovereignty_abstract.png', content_type='image/png', public_url=HttpUrl('https://storage.googleapis.com/ai-hub-sharepoint/images/uk_data_sovereignty_abstract.png'), storage_class='STANDARD', size_bytes=None, created_at=datetime.datetime(2025, 10, 28, 17, 15, 9, 423000, tzinfo=datetime.timezone.utc), updated_at=datetime.datetime(2025, 10, 28, 17, 15, 9, 647000, tzinfo=datetime.timezone.utc)),\n",
       " Blob(name='images/unlocking_ai_trust_concept.png', content_type='image/png', public_url=HttpUrl('https://storage.googleapis.com/ai-hub-sharepoint/images/unlocking_ai_trust_concept.png'), storage_class='STANDARD', size_bytes=None, created_at=datetime.datetime(2025, 10, 28, 19, 43, 19, 805000, tzinfo=datetime.timezone.utc), updated_at=datetime.datetime(2025, 10, 28, 19, 43, 20, 40000, tzinfo=datetime.timezone.utc)),\n",
       " Blob(name='system_prompts/system_prompt_fifth_proposal.txt', content_type='text/plain', public_url=HttpUrl('https://storage.googleapis.com/ai-hub-sharepoint/system_prompts/system_prompt_fifth_proposal.txt'), storage_class='STANDARD', size_bytes=None, created_at=datetime.datetime(2025, 10, 28, 17, 25, 58, 487000, tzinfo=datetime.timezone.utc), updated_at=datetime.datetime(2025, 10, 28, 17, 25, 58, 487000, tzinfo=datetime.timezone.utc)),\n",
       " Blob(name='system_prompts/system_prompt_first_proposal.txt', content_type='text/plain', public_url=HttpUrl('https://storage.googleapis.com/ai-hub-sharepoint/system_prompts/system_prompt_first_proposal.txt'), storage_class='STANDARD', size_bytes=None, created_at=datetime.datetime(2025, 10, 20, 4, 57, 17, 496000, tzinfo=datetime.timezone.utc), updated_at=datetime.datetime(2025, 10, 20, 4, 57, 17, 496000, tzinfo=datetime.timezone.utc)),\n",
       " Blob(name='system_prompts/system_prompt_fourth_proposal.txt', content_type='text/plain', public_url=HttpUrl('https://storage.googleapis.com/ai-hub-sharepoint/system_prompts/system_prompt_fourth_proposal.txt'), storage_class='STANDARD', size_bytes=None, created_at=datetime.datetime(2025, 10, 21, 18, 29, 16, 192000, tzinfo=datetime.timezone.utc), updated_at=datetime.datetime(2025, 10, 21, 18, 29, 16, 192000, tzinfo=datetime.timezone.utc)),\n",
       " Blob(name='system_prompts/system_prompt_second_proposal.txt', content_type='text/plain', public_url=HttpUrl('https://storage.googleapis.com/ai-hub-sharepoint/system_prompts/system_prompt_second_proposal.txt'), storage_class='STANDARD', size_bytes=None, created_at=datetime.datetime(2025, 10, 20, 5, 35, 27, 439000, tzinfo=datetime.timezone.utc), updated_at=datetime.datetime(2025, 10, 20, 5, 35, 27, 439000, tzinfo=datetime.timezone.utc)),\n",
       " Blob(name='system_prompts/system_prompt_third_proposal.txt', content_type='text/plain', public_url=HttpUrl('https://storage.googleapis.com/ai-hub-sharepoint/system_prompts/system_prompt_third_proposal.txt'), storage_class='STANDARD', size_bytes=None, created_at=datetime.datetime(2025, 10, 20, 17, 32, 0, 658000, tzinfo=datetime.timezone.utc), updated_at=datetime.datetime(2025, 10, 20, 17, 32, 0, 658000, tzinfo=datetime.timezone.utc))]"
      ]
     },
     "execution_count": 3,
     "metadata": {},
     "output_type": "execute_result"
    }
   ],
   "source": [
    "list_files_in_gcs_bucket()"
   ]
  },
  {
   "cell_type": "code",
   "execution_count": 7,
   "id": "57fa9270",
   "metadata": {},
   "outputs": [
    {
     "data": {
      "text/plain": [
       "0.658"
      ]
     },
     "execution_count": 7,
     "metadata": {},
     "output_type": "execute_result"
    }
   ],
   "source": [
    "round(658000/1e6, 3)"
   ]
  },
  {
   "cell_type": "code",
   "execution_count": null,
   "id": "3b7eba19",
   "metadata": {},
   "outputs": [],
   "source": []
  }
 ],
 "metadata": {
  "kernelspec": {
   "display_name": "ai-hub-sharepoint-agent",
   "language": "python",
   "name": "python3"
  },
  "language_info": {
   "codemirror_mode": {
    "name": "ipython",
    "version": 3
   },
   "file_extension": ".py",
   "mimetype": "text/x-python",
   "name": "python",
   "nbconvert_exporter": "python",
   "pygments_lexer": "ipython3",
   "version": "3.12.11"
  }
 },
 "nbformat": 4,
 "nbformat_minor": 5
}
