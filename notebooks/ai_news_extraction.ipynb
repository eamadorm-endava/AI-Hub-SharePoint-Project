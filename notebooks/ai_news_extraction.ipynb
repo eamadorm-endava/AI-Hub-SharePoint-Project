{
 "cells": [
  {
   "cell_type": "markdown",
   "id": "8f2e4719",
   "metadata": {},
   "source": [
    "# AI-News Extraction\n",
    "\n",
    "This pipeline is part of the AI-Hub SharePoint Automation project, which tries to automate the most repetitive tasks such as manually adding new AI events and AI News.\n",
    "\n",
    "This pipeline was previously developed in PowerAutomate using an RSS connector, which retrieves data from RSS links, which contains the next information:\n",
    "\n",
    "- Title\n",
    "- Publish date\n",
    "- Link to news\n",
    "- Link to image\n",
    "\n",
    "To generate this rss links from normal website's urls, an external platform was being used. Nevertheless, it is required to replace them to avoid extra charges.\n",
    "\n",
    "This notebook replaces the external platform, allowing website's urls to be used to extract the required information. The information obtained will be (temporary) stored in OneDrive thanks to the sync of a local folder to OneDrive. Nevertheless, at the moment of writing this notebook, an approval is in process to use Microsoft Graph and store the data obtained directly into a SharePoint list\n",
    "\n",
    "## Full AI-News Extaction Pipeline -> Currently active in PowerAutomate\n",
    "\n",
    "1. Extract AI news from different sources ([MIT](https://web.mit.edu/) and [AINEWS](https://www.artificialintelligence-news.com/)) using a RSS connector\n",
    "\n",
    "2. Clean the data obtained from the news: \n",
    "\n",
    "    - Format dates and titles to allow SharePoint to correctly read them\n",
    "    - Filter the news from keywords in their title (e.g. AI, ChatGPT, Gemini, LLMs)\n",
    "    - Filter the news by date and returns those which publish date is from the last 2 days\n",
    "    \n",
    "3. Checks if the news obtained are already stored in a SharePoint list. If so, discard them, otherwise, store them into the SharePoint list\n",
    "\n",
    "## New (temporal) Pipeline Proposed\n",
    "\n",
    "1. Using PowerAutomate, trigger an email to the AI-Hub SharePoint owner to execute this notebook (further, python script), and waits until an excel file is updated to continue. Meanwhile, the following steps are executed.\n",
    "\n",
    "2. Extract AI news from different sources using Python (currently, the only source available is [AINEWS](https://www.artificialintelligence-news.com/))\n",
    "\n",
    "3. Clean the data obtained from the news using Python:\n",
    "\n",
    "    - Format dates and titles to allow SharePoint to correctly read them\n",
    "    - Filter the news from keywords in their title (e.g. AI, ChatGPT, Gemini, LLMs)\n",
    "    - Filter the news by date and returns those which publish date is from the last 2 days\n",
    "\n",
    "4. Store in an excel file the AI-News obtained using Python, which automatically is synced in OneDrive\n",
    "\n",
    "5. PowerAutomate caches the excel update, and checks if the news obtained are already stored in a SharePoint list. If so, it discard them, otherwise, store them into the SharePoint list\n",
    "\n",
    "\n",
    "**This notebook executes steps 2, 3, and 4 of the New (temporal) Pipeline Proposed**"
   ]
  },
  {
   "cell_type": "code",
   "execution_count": 169,
   "id": "38e7087e",
   "metadata": {},
   "outputs": [],
   "source": [
    "import requests\n",
    "from bs4 import BeautifulSoup\n",
    "import feedparser\n",
    "from datetime import datetime, timezone, timedelta\n",
    "import pandas as pd\n",
    "from openpyxl.worksheet.table import Table, TableStyleInfo\n",
    "from openpyxl.utils import get_column_letter\n",
    "import os"
   ]
  },
  {
   "cell_type": "markdown",
   "id": "6c7253f9",
   "metadata": {},
   "source": [
    "## News extraction from [AINEWS page](https://www.artificialintelligence-news.com/)"
   ]
  },
  {
   "cell_type": "code",
   "execution_count": 170,
   "id": "413382ae",
   "metadata": {},
   "outputs": [
    {
     "data": {
      "text/plain": [
       "[{'title': 'China Mobile Shanghai launches industry-first 5G-A network monetisation strategy with Huawei',\n",
       "  'news_link': 'https://www.artificialintelligence-news.com/news/5g-a-shanghai-huawei-network-monetization-football/',\n",
       "  'date': 'Fri, 03 Oct 2025 09:00:00 +0000'},\n",
       " {'title': 'AI causes reduction in users’ brain activity – MIT',\n",
       "  'news_link': 'https://www.artificialintelligence-news.com/news/ai-causes-reduction-in-users-brain-activity-mit/',\n",
       "  'date': 'Wed, 01 Oct 2025 13:44:30 +0000'},\n",
       " {'title': 'The 5 best AI AppSec tools in 2025',\n",
       "  'news_link': 'https://www.artificialintelligence-news.com/news/the-5-best-ai-appsec-tools-in-2025/',\n",
       "  'date': 'Wed, 01 Oct 2025 12:09:36 +0000'},\n",
       " {'title': 'Why AI phishing detection will define cybersecurity in 2026',\n",
       "  'news_link': 'https://www.artificialintelligence-news.com/news/why-ai-phishing-detection-will-define-cybersecurity-in-2026/',\n",
       "  'date': 'Wed, 01 Oct 2025 10:07:59 +0000'},\n",
       " {'title': 'Google: EU’s AI adoption lags China amid regulatory hurdles',\n",
       "  'news_link': 'https://www.artificialintelligence-news.com/news/google-eu-ai-adoption-lags-china-amid-regulatory-hurdles/',\n",
       "  'date': 'Wed, 01 Oct 2025 09:54:47 +0000'},\n",
       " {'title': 'The value gap from AI investments is widening dangerously fast',\n",
       "  'news_link': 'https://www.artificialintelligence-news.com/news/value-gap-ai-investments-widening-dangerously-fast/',\n",
       "  'date': 'Tue, 30 Sep 2025 12:35:19 +0000'},\n",
       " {'title': 'The rise of algorithmic agriculture? AI steps in',\n",
       "  'news_link': 'https://www.artificialintelligence-news.com/news/the-rise-of-algorithmic-agriculture-ai-steps-in/',\n",
       "  'date': 'Tue, 30 Sep 2025 11:07:47 +0000'},\n",
       " {'title': 'Inside Huawei’s Shanghai acoustics lab: Where automotive sound engineering meets science',\n",
       "  'news_link': 'https://www.artificialintelligence-news.com/news/huawei-automotive-sound-engineering-lab-shanghai/',\n",
       "  'date': 'Tue, 30 Sep 2025 08:30:00 +0000'},\n",
       " {'title': 'Rising AI demands push Asia Pacific data centres to adapt, says Vertiv',\n",
       "  'news_link': 'https://www.artificialintelligence-news.com/news/rising-ai-demands-push-asia-pacific-data-centres-to-adapt/',\n",
       "  'date': 'Tue, 30 Sep 2025 08:15:55 +0000'},\n",
       " {'title': 'Reply’s pre-built AI apps aim to fast-track AI adoption',\n",
       "  'news_link': 'https://www.artificialintelligence-news.com/news/replys-pre-built-ai-apps-aim-to-fast-track-ai-adoption/',\n",
       "  'date': 'Tue, 30 Sep 2025 08:13:03 +0000'},\n",
       " {'title': 'Huawei details open-source AI development roadmap at Huawei Connect 2025',\n",
       "  'news_link': 'https://www.artificialintelligence-news.com/news/huawei-open-source-ai-development-platform-technical-specs/',\n",
       "  'date': 'Mon, 29 Sep 2025 08:34:34 +0000'},\n",
       " {'title': 'CAMIA privacy attack reveals what AI models memorise',\n",
       "  'news_link': 'https://www.artificialintelligence-news.com/news/camia-privacy-attack-reveals-what-ai-models-memorise/',\n",
       "  'date': 'Fri, 26 Sep 2025 17:17:55 +0000'}]"
      ]
     },
     "execution_count": 170,
     "metadata": {},
     "output_type": "execute_result"
    }
   ],
   "source": [
    "rss_url = \"https://www.artificialintelligence-news.com/artificial-intelligence-news/feed/\" # link to RSS feed\n",
    "feed = feedparser.parse(rss_url)\n",
    "\n",
    "keywords = [\"AI\", \"A.I.\", \"Artificial Intelligence\", \"Machine Learning\", \"Deep Learning\", \"Neural Networks\", \"NLP\", \"Computer Vision\", \"Data Science\", \"Gemini\", \"Bard\", \"ChatGPT\", \"GPT-4\", \"DALL-E\", \"MidJourney\", \"Stable Diffusion\", \"Claude\", \"LLaMA\", \"Whisper\"]\n",
    "\n",
    "# Extract relevant data from feed entries\n",
    "ai_news = [\n",
    "    {\n",
    "        \"title\": entry.title.replace('\\'', ''), # Remove single quotes to avoid issues in SharePoint\n",
    "        \"news_link\": entry.link,\n",
    "        \"date\": entry.published\n",
    "    }\n",
    "    for entry in feed.entries if any(keyword.lower() in entry.title.lower() for keyword in keywords)\n",
    "    ]\n",
    "\n",
    "ai_news"
   ]
  },
  {
   "cell_type": "markdown",
   "id": "83e0dcc1",
   "metadata": {},
   "source": [
    "As an image of the news is also required, but feedparser does not provide it, the image will be extracted directly from the link of the news"
   ]
  },
  {
   "cell_type": "code",
   "execution_count": 171,
   "id": "ed75f21e",
   "metadata": {},
   "outputs": [
    {
     "data": {
      "text/plain": [
       "'https://www.artificialintelligence-news.com/wp-content/uploads/2025/09/Untitled-design-73-1024x573.png'"
      ]
     },
     "execution_count": 171,
     "metadata": {},
     "output_type": "execute_result"
    }
   ],
   "source": [
    "url = \"https://www.artificialintelligence-news.com/news/the-5-best-ai-appsec-tools-in-2025/\"\n",
    "headers = {\n",
    "    \"User-Agent\": \"Mozilla/5.0 (Windows NT 10.0; Win64; x64) AppleWebKit/537.36 (KHTML, like Gecko) Chrome/115.0.0.0 Safari/537.36\"\n",
    "}\n",
    "\n",
    "try:\n",
    "    response = requests.get(url, headers=headers, timeout=10)\n",
    "    response.raise_for_status()\n",
    "except requests.RequestException as e:\n",
    "    print(f\"Error fetching page: {e}\")\n",
    "\n",
    "soup = BeautifulSoup(response.content, 'html.parser')\n",
    "\n",
    "all_containers = soup.select('.elementor-widget-container')\n",
    "\n",
    "containers_with_images = [c for c in all_containers if c.find('img')]\n",
    "image = [container.find('img').get(\"src\") for container in containers_with_images if container.find('img').get('width') == '800'][0]\n",
    "\n",
    "image\n"
   ]
  },
  {
   "cell_type": "markdown",
   "id": "c7ab4c2b",
   "metadata": {},
   "source": [
    "## Defining functions to extract all the AI-News information"
   ]
  },
  {
   "cell_type": "markdown",
   "id": "2e2cd4f2",
   "metadata": {},
   "source": [
    "As the date obtained from the feed is in the format 'Tue, 30 Sep 2025 11:07:47 +0000', it is required by SharePoint to be in the format: '%Y-%m-%d %H:%M:%SZ'"
   ]
  },
  {
   "cell_type": "code",
   "execution_count": 172,
   "id": "eb145d8d",
   "metadata": {},
   "outputs": [],
   "source": [
    "def format_date(date_str: str) -> str:\n",
    "    \"\"\"\n",
    "    Format a RFC 2822 date string to ISO 8601 format with 'Z' suffix.\n",
    "\n",
    "    Args:\n",
    "        date_str (str): Date string in RFC 2822 format (e.g., 'Fri 09 Oct 2020 14:19:00 +0000').\n",
    "    \n",
    "    Returns:\n",
    "        str: Date string in ISO 8601 format (e.g., '2020-10-09 14:19:00Z').\n",
    "    \"\"\"\n",
    "    if not isinstance(date_str, str):\n",
    "        raise ValueError(\"Input must be a string in the format '%a, %d %b %Y %H:%M:%S %z' (e.g.: 'Fri 09 Oct 2020 14:19:00 +0000').\")\n",
    "    \n",
    "    # Parsear la fecha RFC 2822\n",
    "    dt = datetime.strptime(date_str, r'%a, %d %b %Y %H:%M:%S %z')\n",
    "    # Convertir a formato ISO 8601 con sufijo Z\n",
    "    return dt.strftime(r'%Y-%m-%d %H:%M:%SZ')"
   ]
  },
  {
   "cell_type": "code",
   "execution_count": 173,
   "id": "41127db7",
   "metadata": {},
   "outputs": [],
   "source": [
    "def extract_news_image(news_url: str) -> str:\n",
    "    \"\"\"\n",
    "    Extract the main image URL from a news article page.\n",
    "\n",
    "    Args:\n",
    "        news_url (str): URL of the news article.\n",
    "    \n",
    "    Returns:\n",
    "        str: URL of the main image in the article.\n",
    "    \"\"\"\n",
    "    if not isinstance(news_url, str):\n",
    "        raise ValueError(\"Input must be a string representing the news article URL.\")\n",
    "    \n",
    "    headers = {\n",
    "    \"User-Agent\": \"Mozilla/5.0 (Windows NT 10.0; Win64; x64) AppleWebKit/537.36 (KHTML, like Gecko) Chrome/115.0.0.0 Safari/537.36\"\n",
    "    }\n",
    "\n",
    "    try:\n",
    "        response = requests.get(news_url, headers=headers, timeout=10)\n",
    "        response.raise_for_status()\n",
    "    except requests.RequestException as e:\n",
    "        print(f\"Error fetching page: {e}\")\n",
    "\n",
    "    soup = BeautifulSoup(response.content, 'html.parser')\n",
    "\n",
    "    all_containers = soup.select('.elementor-widget-container')\n",
    "\n",
    "    containers_with_images = [c for c in all_containers if c.find('img')]\n",
    "    return [container.find('img').get(\"src\") for container in containers_with_images if container.find('img').get('width') == '800'][0]\n",
    "    "
   ]
  },
  {
   "cell_type": "code",
   "execution_count": 174,
   "id": "80d54d67",
   "metadata": {},
   "outputs": [],
   "source": [
    "def retrieve_ai_news(url: str) -> list[dict]:\n",
    "    \"\"\"\n",
    "    Retrieve AI news from the given RSS feed URL and process the data.\n",
    "\n",
    "    Args:\n",
    "        url (str): URL of the RSS feed.\n",
    "\n",
    "    Returns:\n",
    "        list[dict]: List of dictionaries containing news details.    \n",
    "    \"\"\"\n",
    "    if not isinstance(url, str):\n",
    "        raise ValueError(\"Input must be a string representing the RSS feed URL.\")\n",
    "    feed = feedparser.parse(rss_url)\n",
    "\n",
    "    # Extract relevant data from feed entries\n",
    "    ai_news = [\n",
    "        {\n",
    "            \"title\": entry.title.replace('\\'', ''), # Remove single quotes to avoid issues in SharePoint\n",
    "            \"news_link\": entry.link,\n",
    "            \"publish_date\": format_date(entry.published),\n",
    "            \"image_link\": extract_news_image(entry.link)\n",
    "        }\n",
    "        for entry in feed.entries\n",
    "        ]\n",
    "\n",
    "    return ai_news"
   ]
  },
  {
   "cell_type": "code",
   "execution_count": 175,
   "id": "5da22a03",
   "metadata": {},
   "outputs": [
    {
     "data": {
      "text/plain": [
       "[{'title': 'China Mobile Shanghai launches industry-first 5G-A network monetisation strategy with Huawei',\n",
       "  'news_link': 'https://www.artificialintelligence-news.com/news/5g-a-shanghai-huawei-network-monetization-football/',\n",
       "  'publish_date': '2025-10-03 09:00:00Z',\n",
       "  'image_link': 'https://www.artificialintelligence-news.com/wp-content/uploads/2025/10/a92e94de-ee49-450d-93f4-e7507d176e0f.jpg.1200.800-1024x683.jpg'},\n",
       " {'title': 'AI causes reduction in users’ brain activity – MIT',\n",
       "  'news_link': 'https://www.artificialintelligence-news.com/news/ai-causes-reduction-in-users-brain-activity-mit/',\n",
       "  'publish_date': '2025-10-01 13:44:30Z',\n",
       "  'image_link': 'https://www.artificialintelligence-news.com/wp-content/uploads/2025/10/ai-cognitive-hero-1024x683.jpg'},\n",
       " {'title': 'The 5 best AI AppSec tools in 2025',\n",
       "  'news_link': 'https://www.artificialintelligence-news.com/news/the-5-best-ai-appsec-tools-in-2025/',\n",
       "  'publish_date': '2025-10-01 12:09:36Z',\n",
       "  'image_link': 'https://www.artificialintelligence-news.com/wp-content/uploads/2025/09/Untitled-design-73-1024x573.png'},\n",
       " {'title': 'Why AI phishing detection will define cybersecurity in 2026',\n",
       "  'news_link': 'https://www.artificialintelligence-news.com/news/why-ai-phishing-detection-will-define-cybersecurity-in-2026/',\n",
       "  'publish_date': '2025-10-01 10:07:59Z',\n",
       "  'image_link': 'https://www.artificialintelligence-news.com/wp-content/uploads/2025/10/adi-goldstein-EUsVwEOsblE-unsplash-1-1024x683.jpg'},\n",
       " {'title': 'Google: EU’s AI adoption lags China amid regulatory hurdles',\n",
       "  'news_link': 'https://www.artificialintelligence-news.com/news/google-eu-ai-adoption-lags-china-amid-regulatory-hurdles/',\n",
       "  'publish_date': '2025-10-01 09:54:47Z',\n",
       "  'image_link': 'https://www.artificialintelligence-news.com/wp-content/uploads/2025/10/google-eu-ai-adoption-china-regulatory-governance-regulations-artificial-intelligence-politics-europe-government-1024x768.jpg'},\n",
       " {'title': 'The value gap from AI investments is widening dangerously fast',\n",
       "  'news_link': 'https://www.artificialintelligence-news.com/news/value-gap-ai-investments-widening-dangerously-fast/',\n",
       "  'publish_date': '2025-09-30 12:35:19Z',\n",
       "  'image_link': 'https://www.artificialintelligence-news.com/wp-content/uploads/2025/09/ai-investments-value-gap-enterprise-agentic-ai-bcg-research-report-study-generative-agents-1024x768.jpg'},\n",
       " {'title': 'The rise of algorithmic agriculture? AI steps in',\n",
       "  'news_link': 'https://www.artificialintelligence-news.com/news/the-rise-of-algorithmic-agriculture-ai-steps-in/',\n",
       "  'publish_date': '2025-09-30 11:07:47Z',\n",
       "  'image_link': 'https://www.artificialintelligence-news.com/wp-content/uploads/2025/09/ai-agriculture-hero-1024x684.jpg'},\n",
       " {'title': 'Inside Huawei’s Shanghai acoustics lab: Where automotive sound engineering meets science',\n",
       "  'news_link': 'https://www.artificialintelligence-news.com/news/huawei-automotive-sound-engineering-lab-shanghai/',\n",
       "  'publish_date': '2025-09-30 08:30:00Z',\n",
       "  'image_link': 'https://www.artificialintelligence-news.com/wp-content/uploads/2025/09/2-Inside-of-luxury-sedan-1024x682.jpg'},\n",
       " {'title': 'Rising AI demands push Asia Pacific data centres to adapt, says Vertiv',\n",
       "  'news_link': 'https://www.artificialintelligence-news.com/news/rising-ai-demands-push-asia-pacific-data-centres-to-adapt/',\n",
       "  'publish_date': '2025-09-30 08:15:55Z',\n",
       "  'image_link': 'https://www.artificialintelligence-news.com/wp-content/uploads/2025/09/Rising-AI-demands-push-Asia-Pacific-data-centres-to-adapt-1024x589.jpg'},\n",
       " {'title': 'Reply’s pre-built AI apps aim to fast-track AI adoption',\n",
       "  'news_link': 'https://www.artificialintelligence-news.com/news/replys-pre-built-ai-apps-aim-to-fast-track-ai-adoption/',\n",
       "  'publish_date': '2025-09-30 08:13:03Z',\n",
       "  'image_link': 'https://www.artificialintelligence-news.com/wp-content/uploads/2025/09/reply-prebuilt-hero-1024x636.jpg'},\n",
       " {'title': 'Huawei details open-source AI development roadmap at Huawei Connect 2025',\n",
       "  'news_link': 'https://www.artificialintelligence-news.com/news/huawei-open-source-ai-development-platform-technical-specs/',\n",
       "  'publish_date': '2025-09-29 08:34:34Z',\n",
       "  'image_link': 'https://www.artificialintelligence-news.com/wp-content/uploads/2025/09/250929-04-cover.jpg'},\n",
       " {'title': 'CAMIA privacy attack reveals what AI models memorise',\n",
       "  'news_link': 'https://www.artificialintelligence-news.com/news/camia-privacy-attack-reveals-what-ai-models-memorise/',\n",
       "  'publish_date': '2025-09-26 17:17:55Z',\n",
       "  'image_link': 'https://www.artificialintelligence-news.com/wp-content/uploads/2025/09/privacy-attack-ai-artificial-intelligence-data-training-brave-1024x768.jpg'}]"
      ]
     },
     "execution_count": 175,
     "metadata": {},
     "output_type": "execute_result"
    }
   ],
   "source": [
    "ai_news_formatted = retrieve_ai_news(rss_url)\n",
    "\n",
    "ai_news_formatted"
   ]
  },
  {
   "cell_type": "markdown",
   "id": "7be98486",
   "metadata": {},
   "source": [
    "Converting the list of dictionaries into a pandas DataFrame to then save it as an excel file"
   ]
  },
  {
   "cell_type": "code",
   "execution_count": 176,
   "id": "f77b252d",
   "metadata": {},
   "outputs": [],
   "source": [
    "ai_news_df = pd.DataFrame(ai_news_formatted)"
   ]
  },
  {
   "cell_type": "code",
   "execution_count": 177,
   "id": "65e8c4ab",
   "metadata": {},
   "outputs": [
    {
     "data": {
      "text/html": [
       "<div>\n",
       "<style scoped>\n",
       "    .dataframe tbody tr th:only-of-type {\n",
       "        vertical-align: middle;\n",
       "    }\n",
       "\n",
       "    .dataframe tbody tr th {\n",
       "        vertical-align: top;\n",
       "    }\n",
       "\n",
       "    .dataframe thead th {\n",
       "        text-align: right;\n",
       "    }\n",
       "</style>\n",
       "<table border=\"1\" class=\"dataframe\">\n",
       "  <thead>\n",
       "    <tr style=\"text-align: right;\">\n",
       "      <th></th>\n",
       "      <th>title</th>\n",
       "      <th>news_link</th>\n",
       "      <th>publish_date</th>\n",
       "      <th>image_link</th>\n",
       "    </tr>\n",
       "  </thead>\n",
       "  <tbody>\n",
       "    <tr>\n",
       "      <th>0</th>\n",
       "      <td>China Mobile Shanghai launches industry-first ...</td>\n",
       "      <td>https://www.artificialintelligence-news.com/ne...</td>\n",
       "      <td>2025-10-03 09:00:00Z</td>\n",
       "      <td>https://www.artificialintelligence-news.com/wp...</td>\n",
       "    </tr>\n",
       "    <tr>\n",
       "      <th>1</th>\n",
       "      <td>AI causes reduction in users’ brain activity –...</td>\n",
       "      <td>https://www.artificialintelligence-news.com/ne...</td>\n",
       "      <td>2025-10-01 13:44:30Z</td>\n",
       "      <td>https://www.artificialintelligence-news.com/wp...</td>\n",
       "    </tr>\n",
       "    <tr>\n",
       "      <th>2</th>\n",
       "      <td>The 5 best AI AppSec tools in 2025</td>\n",
       "      <td>https://www.artificialintelligence-news.com/ne...</td>\n",
       "      <td>2025-10-01 12:09:36Z</td>\n",
       "      <td>https://www.artificialintelligence-news.com/wp...</td>\n",
       "    </tr>\n",
       "    <tr>\n",
       "      <th>3</th>\n",
       "      <td>Why AI phishing detection will define cybersec...</td>\n",
       "      <td>https://www.artificialintelligence-news.com/ne...</td>\n",
       "      <td>2025-10-01 10:07:59Z</td>\n",
       "      <td>https://www.artificialintelligence-news.com/wp...</td>\n",
       "    </tr>\n",
       "    <tr>\n",
       "      <th>4</th>\n",
       "      <td>Google: EU’s AI adoption lags China amid regul...</td>\n",
       "      <td>https://www.artificialintelligence-news.com/ne...</td>\n",
       "      <td>2025-10-01 09:54:47Z</td>\n",
       "      <td>https://www.artificialintelligence-news.com/wp...</td>\n",
       "    </tr>\n",
       "  </tbody>\n",
       "</table>\n",
       "</div>"
      ],
      "text/plain": [
       "                                               title  \\\n",
       "0  China Mobile Shanghai launches industry-first ...   \n",
       "1  AI causes reduction in users’ brain activity –...   \n",
       "2                 The 5 best AI AppSec tools in 2025   \n",
       "3  Why AI phishing detection will define cybersec...   \n",
       "4  Google: EU’s AI adoption lags China amid regul...   \n",
       "\n",
       "                                           news_link          publish_date  \\\n",
       "0  https://www.artificialintelligence-news.com/ne...  2025-10-03 09:00:00Z   \n",
       "1  https://www.artificialintelligence-news.com/ne...  2025-10-01 13:44:30Z   \n",
       "2  https://www.artificialintelligence-news.com/ne...  2025-10-01 12:09:36Z   \n",
       "3  https://www.artificialintelligence-news.com/ne...  2025-10-01 10:07:59Z   \n",
       "4  https://www.artificialintelligence-news.com/ne...  2025-10-01 09:54:47Z   \n",
       "\n",
       "                                          image_link  \n",
       "0  https://www.artificialintelligence-news.com/wp...  \n",
       "1  https://www.artificialintelligence-news.com/wp...  \n",
       "2  https://www.artificialintelligence-news.com/wp...  \n",
       "3  https://www.artificialintelligence-news.com/wp...  \n",
       "4  https://www.artificialintelligence-news.com/wp...  "
      ]
     },
     "execution_count": 177,
     "metadata": {},
     "output_type": "execute_result"
    }
   ],
   "source": [
    "ai_news_df.head()"
   ]
  },
  {
   "cell_type": "markdown",
   "id": "fd242e2a",
   "metadata": {},
   "source": [
    "## Filter the data by date (get the news of the last two days)"
   ]
  },
  {
   "cell_type": "markdown",
   "id": "5d1d37fc",
   "metadata": {},
   "source": [
    "Checks if the publish_date column has a datetime data type"
   ]
  },
  {
   "cell_type": "code",
   "execution_count": 178,
   "id": "bd4f195f",
   "metadata": {},
   "outputs": [
    {
     "name": "stdout",
     "output_type": "stream",
     "text": [
      "<class 'pandas.core.frame.DataFrame'>\n",
      "RangeIndex: 12 entries, 0 to 11\n",
      "Data columns (total 4 columns):\n",
      " #   Column        Non-Null Count  Dtype \n",
      "---  ------        --------------  ----- \n",
      " 0   title         12 non-null     object\n",
      " 1   news_link     12 non-null     object\n",
      " 2   publish_date  12 non-null     object\n",
      " 3   image_link    12 non-null     object\n",
      "dtypes: object(4)\n",
      "memory usage: 516.0+ bytes\n"
     ]
    }
   ],
   "source": [
    "ai_news_df.info()"
   ]
  },
  {
   "cell_type": "code",
   "execution_count": 179,
   "id": "10b92a8c",
   "metadata": {},
   "outputs": [],
   "source": [
    "ai_news_df.publish_date = pd.to_datetime(ai_news_df.publish_date, format=r'%Y-%m-%d %H:%M:%SZ', utc=True)"
   ]
  },
  {
   "cell_type": "code",
   "execution_count": 180,
   "id": "79858351",
   "metadata": {},
   "outputs": [
    {
     "name": "stdout",
     "output_type": "stream",
     "text": [
      "<class 'pandas.core.frame.DataFrame'>\n",
      "RangeIndex: 12 entries, 0 to 11\n",
      "Data columns (total 4 columns):\n",
      " #   Column        Non-Null Count  Dtype              \n",
      "---  ------        --------------  -----              \n",
      " 0   title         12 non-null     object             \n",
      " 1   news_link     12 non-null     object             \n",
      " 2   publish_date  12 non-null     datetime64[ns, UTC]\n",
      " 3   image_link    12 non-null     object             \n",
      "dtypes: datetime64[ns, UTC](1), object(3)\n",
      "memory usage: 516.0+ bytes\n"
     ]
    }
   ],
   "source": [
    "ai_news_df.info()"
   ]
  },
  {
   "cell_type": "markdown",
   "id": "91289736",
   "metadata": {},
   "source": [
    "Gets the current time in Mexico City timezone"
   ]
  },
  {
   "cell_type": "code",
   "execution_count": 181,
   "id": "58a393b1",
   "metadata": {},
   "outputs": [
    {
     "data": {
      "text/plain": [
       "datetime.datetime(2025, 10, 3, 23, 31, 16, 715978, tzinfo=datetime.timezone(datetime.timedelta(days=-1, seconds=64800)))"
      ]
     },
     "execution_count": 181,
     "metadata": {},
     "output_type": "execute_result"
    }
   ],
   "source": [
    "mexico_city_timezone = timezone(timedelta(hours=-6))\n",
    "\n",
    "now_utc = datetime.now(timezone.utc)\n",
    "\n",
    "mexico_city_time = now_utc.astimezone(mexico_city_timezone)\n",
    "\n",
    "mexico_city_time"
   ]
  },
  {
   "cell_type": "code",
   "execution_count": 182,
   "id": "74bbaf1d",
   "metadata": {},
   "outputs": [
    {
     "name": "stdout",
     "output_type": "stream",
     "text": [
      "Newest date: 2025-10-03 09:00:00+00:00\n",
      "Oldest date: 2025-10-03 09:00:00+00:00\n"
     ]
    }
   ],
   "source": [
    "ai_news_df_filtered = ai_news_df[ai_news_df.publish_date >= mexico_city_time - timedelta(days=2)]\n",
    "\n",
    "print(f\"Newest date: {ai_news_df_filtered.publish_date.max()}\\nOldest date: {ai_news_df_filtered.publish_date.min()}\")"
   ]
  },
  {
   "cell_type": "code",
   "execution_count": 183,
   "id": "6e694345",
   "metadata": {},
   "outputs": [
    {
     "data": {
      "text/html": [
       "<div>\n",
       "<style scoped>\n",
       "    .dataframe tbody tr th:only-of-type {\n",
       "        vertical-align: middle;\n",
       "    }\n",
       "\n",
       "    .dataframe tbody tr th {\n",
       "        vertical-align: top;\n",
       "    }\n",
       "\n",
       "    .dataframe thead th {\n",
       "        text-align: right;\n",
       "    }\n",
       "</style>\n",
       "<table border=\"1\" class=\"dataframe\">\n",
       "  <thead>\n",
       "    <tr style=\"text-align: right;\">\n",
       "      <th></th>\n",
       "      <th>title</th>\n",
       "      <th>news_link</th>\n",
       "      <th>publish_date</th>\n",
       "      <th>image_link</th>\n",
       "    </tr>\n",
       "  </thead>\n",
       "  <tbody>\n",
       "    <tr>\n",
       "      <th>0</th>\n",
       "      <td>China Mobile Shanghai launches industry-first ...</td>\n",
       "      <td>https://www.artificialintelligence-news.com/ne...</td>\n",
       "      <td>2025-10-03 09:00:00+00:00</td>\n",
       "      <td>https://www.artificialintelligence-news.com/wp...</td>\n",
       "    </tr>\n",
       "  </tbody>\n",
       "</table>\n",
       "</div>"
      ],
      "text/plain": [
       "                                               title  \\\n",
       "0  China Mobile Shanghai launches industry-first ...   \n",
       "\n",
       "                                           news_link  \\\n",
       "0  https://www.artificialintelligence-news.com/ne...   \n",
       "\n",
       "               publish_date                                         image_link  \n",
       "0 2025-10-03 09:00:00+00:00  https://www.artificialintelligence-news.com/wp...  "
      ]
     },
     "execution_count": 183,
     "metadata": {},
     "output_type": "execute_result"
    }
   ],
   "source": [
    "ai_news_df_filtered.head()"
   ]
  },
  {
   "cell_type": "markdown",
   "id": "c1934150",
   "metadata": {},
   "source": [
    "After making the date filtering, it is needed to return the datatype of publish_date to a string, as excel does not recognize datetime datatypes"
   ]
  },
  {
   "cell_type": "code",
   "execution_count": 184,
   "id": "691d1732",
   "metadata": {},
   "outputs": [
    {
     "name": "stderr",
     "output_type": "stream",
     "text": [
      "C:\\Users\\eamador\\AppData\\Local\\Temp\\ipykernel_14944\\1235254862.py:3: SettingWithCopyWarning: \n",
      "A value is trying to be set on a copy of a slice from a DataFrame.\n",
      "Try using .loc[row_indexer,col_indexer] = value instead\n",
      "\n",
      "See the caveats in the documentation: https://pandas.pydata.org/pandas-docs/stable/user_guide/indexing.html#returning-a-view-versus-a-copy\n",
      "  ai_news_df_filtered.loc[:, \"publish_date_str\"] = ai_news_df_filtered.publish_date.dt.strftime(r'%Y-%m-%d %H:%M:%SZ')\n",
      "C:\\Users\\eamador\\AppData\\Local\\Temp\\ipykernel_14944\\1235254862.py:5: SettingWithCopyWarning: \n",
      "A value is trying to be set on a copy of a slice from a DataFrame\n",
      "\n",
      "See the caveats in the documentation: https://pandas.pydata.org/pandas-docs/stable/user_guide/indexing.html#returning-a-view-versus-a-copy\n",
      "  ai_news_df_filtered.drop(\"publish_date\", axis=1, inplace=True)\n",
      "C:\\Users\\eamador\\AppData\\Local\\Temp\\ipykernel_14944\\1235254862.py:7: SettingWithCopyWarning: \n",
      "A value is trying to be set on a copy of a slice from a DataFrame\n",
      "\n",
      "See the caveats in the documentation: https://pandas.pydata.org/pandas-docs/stable/user_guide/indexing.html#returning-a-view-versus-a-copy\n",
      "  ai_news_df_filtered.rename(columns={\"publish_date_str\": \"publish_date\"}, inplace=True)\n"
     ]
    },
    {
     "data": {
      "text/html": [
       "<div>\n",
       "<style scoped>\n",
       "    .dataframe tbody tr th:only-of-type {\n",
       "        vertical-align: middle;\n",
       "    }\n",
       "\n",
       "    .dataframe tbody tr th {\n",
       "        vertical-align: top;\n",
       "    }\n",
       "\n",
       "    .dataframe thead th {\n",
       "        text-align: right;\n",
       "    }\n",
       "</style>\n",
       "<table border=\"1\" class=\"dataframe\">\n",
       "  <thead>\n",
       "    <tr style=\"text-align: right;\">\n",
       "      <th></th>\n",
       "      <th>title</th>\n",
       "      <th>news_link</th>\n",
       "      <th>image_link</th>\n",
       "      <th>publish_date</th>\n",
       "    </tr>\n",
       "  </thead>\n",
       "  <tbody>\n",
       "    <tr>\n",
       "      <th>0</th>\n",
       "      <td>China Mobile Shanghai launches industry-first ...</td>\n",
       "      <td>https://www.artificialintelligence-news.com/ne...</td>\n",
       "      <td>https://www.artificialintelligence-news.com/wp...</td>\n",
       "      <td>2025-10-03 09:00:00Z</td>\n",
       "    </tr>\n",
       "  </tbody>\n",
       "</table>\n",
       "</div>"
      ],
      "text/plain": [
       "                                               title  \\\n",
       "0  China Mobile Shanghai launches industry-first ...   \n",
       "\n",
       "                                           news_link  \\\n",
       "0  https://www.artificialintelligence-news.com/ne...   \n",
       "\n",
       "                                          image_link          publish_date  \n",
       "0  https://www.artificialintelligence-news.com/wp...  2025-10-03 09:00:00Z  "
      ]
     },
     "execution_count": 184,
     "metadata": {},
     "output_type": "execute_result"
    }
   ],
   "source": [
    "# The column name is changed to publish_date_str due to a \n",
    "# FutureWarning: Setting an item of incompatible dtype is deprecated and will raise in a future version.\n",
    "ai_news_df_filtered.loc[:, \"publish_date_str\"] = ai_news_df_filtered.publish_date.dt.strftime(r'%Y-%m-%d %H:%M:%SZ')\n",
    "\n",
    "ai_news_df_filtered.drop(\"publish_date\", axis=1, inplace=True)\n",
    "\n",
    "ai_news_df_filtered.rename(columns={\"publish_date_str\": \"publish_date\"}, inplace=True)\n",
    "\n",
    "ai_news_df_filtered.head()"
   ]
  },
  {
   "cell_type": "markdown",
   "id": "3ad8bd15",
   "metadata": {},
   "source": [
    "## Store the data obtained in an excel file"
   ]
  },
  {
   "cell_type": "code",
   "execution_count": 185,
   "id": "0ae6cb40",
   "metadata": {},
   "outputs": [
    {
     "data": {
      "text/plain": [
       "True"
      ]
     },
     "execution_count": 185,
     "metadata": {},
     "output_type": "execute_result"
    }
   ],
   "source": [
    "local_file_path = \"../data/ai-news.xlsx\"  # Path to save the Excel file\n",
    "\n",
    "file_name = local_file_path.split(\"/\")[-1]\n",
    "path = '/'.join(local_file_path.split(\"/\")[:-1])\n",
    "\n",
    "os.path.exists(path)"
   ]
  },
  {
   "cell_type": "code",
   "execution_count": 187,
   "id": "04e089a8",
   "metadata": {},
   "outputs": [],
   "source": [
    "with pd.ExcelWriter(local_file_path, engine='openpyxl') as writer:\n",
    "    ai_news_df_filtered.to_excel(writer, index=False, sheet_name='AI-News')\n",
    "    worksheet = writer.sheets[\"AI-News\"]\n",
    "    (max_row, max_col) = ai_news_df_filtered.shape\n",
    "\n",
    "    # Calcula el rango de la tabla en formato Excel (por ejemplo, \"A1:D10\")\n",
    "    table_ref = f\"A1:{get_column_letter(max_col)}{max_row + 1}\"\n",
    "\n",
    "    table = Table(displayName=\"RecentAINews\", ref=table_ref)\n",
    "    style = TableStyleInfo(name=\"TableStyleMedium9\", showFirstColumn=False,\n",
    "                           showLastColumn=False, showRowStripes=True, showColumnStripes=False)\n",
    "    table.tableStyleInfo = style\n",
    "    worksheet.add_table(table)"
   ]
  },
  {
   "cell_type": "markdown",
   "id": "90c6e8eb",
   "metadata": {},
   "source": [
    "# Testing Final Pipeline Steps"
   ]
  },
  {
   "cell_type": "code",
   "execution_count": 6,
   "id": "86f9a812",
   "metadata": {},
   "outputs": [],
   "source": [
    "import sys\n",
    "\n",
    "sys.path.append(\"..\")\n",
    "\n",
    "from ai_news_pipeline.ai_news_pipeline_steps import retrieve_ai_news, filter_news_by_date\n",
    "from ai_news_pipeline.config import AINewsConfig"
   ]
  },
  {
   "cell_type": "code",
   "execution_count": 2,
   "id": "0a7c39c5",
   "metadata": {},
   "outputs": [],
   "source": [
    "news_config = AINewsConfig()"
   ]
  },
  {
   "cell_type": "code",
   "execution_count": 3,
   "id": "8395d9f9",
   "metadata": {},
   "outputs": [
    {
     "data": {
      "text/plain": [
       "[' AI ', 'AI ', 'AI ', 'A.I.', ' AI-', 'AI-']"
      ]
     },
     "execution_count": 3,
     "metadata": {},
     "output_type": "execute_result"
    }
   ],
   "source": [
    "news_config.CASE_SEN_SEARCH_KW"
   ]
  },
  {
   "cell_type": "code",
   "execution_count": 7,
   "id": "d1d910b9",
   "metadata": {},
   "outputs": [],
   "source": [
    "text=[\"China Mobile Shanghai launches industry-first 5G-A network\",]"
   ]
  },
  {
   "cell_type": "code",
   "execution_count": 8,
   "id": "a7c24879",
   "metadata": {},
   "outputs": [
    {
     "data": {
      "text/plain": [
       "[]"
      ]
     },
     "execution_count": 8,
     "metadata": {},
     "output_type": "execute_result"
    }
   ],
   "source": [
    "[x for x in text if \n",
    "any(kw in x for kw in news_config.CASE_SEN_SEARCH_KW)\n",
    "        or any(kw.lower() in x.lower() for kw in news_config.CASE_INSEN_SEARCH_KW)\n",
    "]"
   ]
  },
  {
   "cell_type": "code",
   "execution_count": 12,
   "id": "0d66794e",
   "metadata": {},
   "outputs": [
    {
     "name": "stderr",
     "output_type": "stream",
     "text": [
      "\u001b[32m2025-10-06 10:01:21.041\u001b[0m | \u001b[1mINFO    \u001b[0m | \u001b[36mai_news_pipeline.ai_news_pipeline_steps\u001b[0m:\u001b[36mretrieve_ai_news\u001b[0m:\u001b[36m38\u001b[0m - \u001b[1mFetching RSS feed...\u001b[0m\n",
      "\u001b[32m2025-10-06 10:01:22.142\u001b[0m | \u001b[1mINFO    \u001b[0m | \u001b[36mai_news_pipeline.ai_news_pipeline_steps\u001b[0m:\u001b[36mretrieve_ai_news\u001b[0m:\u001b[36m45\u001b[0m - \u001b[1mFiltering news articles based on keywords: \n",
      " AI \n",
      "AI \n",
      "AI \n",
      "A.I.\n",
      " AI-\n",
      "AI-\n",
      "Artificial Intelligence\n",
      "Machine Learning\n",
      "Deep Learning\n",
      "Neural Networks\n",
      "NLP\n",
      "Computer Vision\n",
      "Data Science\n",
      "Gemini\n",
      "Bard\n",
      "ChatGPT\n",
      "GPT-4\n",
      "DALL-E\n",
      "MidJourney\n",
      "Stable Diffusion\n",
      "Claude\n",
      "LLaMA\n",
      "Whisper\u001b[0m\n",
      "\u001b[32m2025-10-06 10:01:35.247\u001b[0m | \u001b[1mINFO    \u001b[0m | \u001b[36mai_news_pipeline.ai_news_pipeline_steps\u001b[0m:\u001b[36mretrieve_ai_news\u001b[0m:\u001b[36m62\u001b[0m - \u001b[1mNews found:\n",
      "\u001b[0m\n",
      "\u001b[32m2025-10-06 10:01:35.247\u001b[0m | \u001b[1mINFO    \u001b[0m | \u001b[36mai_news_pipeline.ai_news_pipeline_steps\u001b[0m:\u001b[36mretrieve_ai_news\u001b[0m:\u001b[36m63\u001b[0m - \u001b[1mGoogle’s new AI agent rewrites code to automate vulnerability fixes\n",
      "AI causes reduction in users’ brain activity – MIT\n",
      "The 5 best AI AppSec tools in 2025\n",
      "Why AI phishing detection will define cybersecurity in 2026\n",
      "Google: EU’s AI adoption lags China amid regulatory hurdles\n",
      "The value gap from AI investments is widening dangerously fast\n",
      "The rise of algorithmic agriculture? AI steps in\n",
      "Rising AI demands push Asia Pacific data centres to adapt, says Vertiv\n",
      "Reply’s pre-built AI apps aim to fast-track AI adoption\n",
      "Huawei details open-source AI development roadmap at Huawei Connect 2025\u001b[0m\n"
     ]
    }
   ],
   "source": [
    "ai_news = retrieve_ai_news(\n",
    "    url=news_config.NEWS_URL,\n",
    "    case_insen_search_kw=news_config.CASE_INSEN_SEARCH_KW,\n",
    "    case_sen_search_kw=news_config.CASE_SEN_SEARCH_KW,\n",
    ")"
   ]
  },
  {
   "cell_type": "code",
   "execution_count": 8,
   "id": "c9134914",
   "metadata": {},
   "outputs": [
    {
     "data": {
      "text/html": [
       "<div>\n",
       "<style scoped>\n",
       "    .dataframe tbody tr th:only-of-type {\n",
       "        vertical-align: middle;\n",
       "    }\n",
       "\n",
       "    .dataframe tbody tr th {\n",
       "        vertical-align: top;\n",
       "    }\n",
       "\n",
       "    .dataframe thead th {\n",
       "        text-align: right;\n",
       "    }\n",
       "</style>\n",
       "<table border=\"1\" class=\"dataframe\">\n",
       "  <thead>\n",
       "    <tr style=\"text-align: right;\">\n",
       "      <th></th>\n",
       "      <th>title</th>\n",
       "      <th>news_link</th>\n",
       "      <th>image_link</th>\n",
       "      <th>publish_date</th>\n",
       "    </tr>\n",
       "  </thead>\n",
       "  <tbody>\n",
       "    <tr>\n",
       "      <th>0</th>\n",
       "      <td>Google’s new AI agent rewrites code to automat...</td>\n",
       "      <td>https://www.artificialintelligence-news.com/ne...</td>\n",
       "      <td>https://www.artificialintelligence-news.com/wp...</td>\n",
       "      <td>2025-10-06 13:56:40Z</td>\n",
       "    </tr>\n",
       "    <tr>\n",
       "      <th>1</th>\n",
       "      <td>AI causes reduction in users’ brain activity –...</td>\n",
       "      <td>https://www.artificialintelligence-news.com/ne...</td>\n",
       "      <td>https://www.artificialintelligence-news.com/wp...</td>\n",
       "      <td>2025-10-01 13:44:30Z</td>\n",
       "    </tr>\n",
       "    <tr>\n",
       "      <th>2</th>\n",
       "      <td>The 5 best AI AppSec tools in 2025</td>\n",
       "      <td>https://www.artificialintelligence-news.com/ne...</td>\n",
       "      <td>https://www.artificialintelligence-news.com/wp...</td>\n",
       "      <td>2025-10-01 12:09:36Z</td>\n",
       "    </tr>\n",
       "    <tr>\n",
       "      <th>3</th>\n",
       "      <td>Why AI phishing detection will define cybersec...</td>\n",
       "      <td>https://www.artificialintelligence-news.com/ne...</td>\n",
       "      <td>https://www.artificialintelligence-news.com/wp...</td>\n",
       "      <td>2025-10-01 10:07:59Z</td>\n",
       "    </tr>\n",
       "    <tr>\n",
       "      <th>4</th>\n",
       "      <td>Google: EU’s AI adoption lags China amid regul...</td>\n",
       "      <td>https://www.artificialintelligence-news.com/ne...</td>\n",
       "      <td>https://www.artificialintelligence-news.com/wp...</td>\n",
       "      <td>2025-10-01 09:54:47Z</td>\n",
       "    </tr>\n",
       "    <tr>\n",
       "      <th>5</th>\n",
       "      <td>The value gap from AI investments is widening ...</td>\n",
       "      <td>https://www.artificialintelligence-news.com/ne...</td>\n",
       "      <td>https://www.artificialintelligence-news.com/wp...</td>\n",
       "      <td>2025-09-30 12:35:19Z</td>\n",
       "    </tr>\n",
       "    <tr>\n",
       "      <th>6</th>\n",
       "      <td>The rise of algorithmic agriculture? AI steps in</td>\n",
       "      <td>https://www.artificialintelligence-news.com/ne...</td>\n",
       "      <td>https://www.artificialintelligence-news.com/wp...</td>\n",
       "      <td>2025-09-30 11:07:47Z</td>\n",
       "    </tr>\n",
       "    <tr>\n",
       "      <th>7</th>\n",
       "      <td>Rising AI demands push Asia Pacific data centr...</td>\n",
       "      <td>https://www.artificialintelligence-news.com/ne...</td>\n",
       "      <td>https://www.artificialintelligence-news.com/wp...</td>\n",
       "      <td>2025-09-30 08:15:55Z</td>\n",
       "    </tr>\n",
       "    <tr>\n",
       "      <th>8</th>\n",
       "      <td>Reply’s pre-built AI apps aim to fast-track AI...</td>\n",
       "      <td>https://www.artificialintelligence-news.com/ne...</td>\n",
       "      <td>https://www.artificialintelligence-news.com/wp...</td>\n",
       "      <td>2025-09-30 08:13:03Z</td>\n",
       "    </tr>\n",
       "    <tr>\n",
       "      <th>9</th>\n",
       "      <td>Huawei details open-source AI development road...</td>\n",
       "      <td>https://www.artificialintelligence-news.com/ne...</td>\n",
       "      <td>https://www.artificialintelligence-news.com/wp...</td>\n",
       "      <td>2025-09-29 08:34:34Z</td>\n",
       "    </tr>\n",
       "  </tbody>\n",
       "</table>\n",
       "</div>"
      ],
      "text/plain": [
       "                                               title  \\\n",
       "0  Google’s new AI agent rewrites code to automat...   \n",
       "1  AI causes reduction in users’ brain activity –...   \n",
       "2                 The 5 best AI AppSec tools in 2025   \n",
       "3  Why AI phishing detection will define cybersec...   \n",
       "4  Google: EU’s AI adoption lags China amid regul...   \n",
       "5  The value gap from AI investments is widening ...   \n",
       "6   The rise of algorithmic agriculture? AI steps in   \n",
       "7  Rising AI demands push Asia Pacific data centr...   \n",
       "8  Reply’s pre-built AI apps aim to fast-track AI...   \n",
       "9  Huawei details open-source AI development road...   \n",
       "\n",
       "                                           news_link  \\\n",
       "0  https://www.artificialintelligence-news.com/ne...   \n",
       "1  https://www.artificialintelligence-news.com/ne...   \n",
       "2  https://www.artificialintelligence-news.com/ne...   \n",
       "3  https://www.artificialintelligence-news.com/ne...   \n",
       "4  https://www.artificialintelligence-news.com/ne...   \n",
       "5  https://www.artificialintelligence-news.com/ne...   \n",
       "6  https://www.artificialintelligence-news.com/ne...   \n",
       "7  https://www.artificialintelligence-news.com/ne...   \n",
       "8  https://www.artificialintelligence-news.com/ne...   \n",
       "9  https://www.artificialintelligence-news.com/ne...   \n",
       "\n",
       "                                          image_link          publish_date  \n",
       "0  https://www.artificialintelligence-news.com/wp...  2025-10-06 13:56:40Z  \n",
       "1  https://www.artificialintelligence-news.com/wp...  2025-10-01 13:44:30Z  \n",
       "2  https://www.artificialintelligence-news.com/wp...  2025-10-01 12:09:36Z  \n",
       "3  https://www.artificialintelligence-news.com/wp...  2025-10-01 10:07:59Z  \n",
       "4  https://www.artificialintelligence-news.com/wp...  2025-10-01 09:54:47Z  \n",
       "5  https://www.artificialintelligence-news.com/wp...  2025-09-30 12:35:19Z  \n",
       "6  https://www.artificialintelligence-news.com/wp...  2025-09-30 11:07:47Z  \n",
       "7  https://www.artificialintelligence-news.com/wp...  2025-09-30 08:15:55Z  \n",
       "8  https://www.artificialintelligence-news.com/wp...  2025-09-30 08:13:03Z  \n",
       "9  https://www.artificialintelligence-news.com/wp...  2025-09-29 08:34:34Z  "
      ]
     },
     "execution_count": 8,
     "metadata": {},
     "output_type": "execute_result"
    }
   ],
   "source": [
    "ai_news"
   ]
  },
  {
   "cell_type": "code",
   "execution_count": 11,
   "id": "46377572",
   "metadata": {},
   "outputs": [
    {
     "name": "stderr",
     "output_type": "stream",
     "text": [
      "c:\\Users\\eamador\\github_repos\\work\\AI-Hub-SharePoint-Agent\\notebooks\\..\\ai_news_pipeline\\ai_news_pipeline_steps.py:106: SettingWithCopyWarning: \n",
      "A value is trying to be set on a copy of a slice from a DataFrame.\n",
      "Try using .loc[row_indexer,col_indexer] = value instead\n",
      "\n",
      "See the caveats in the documentation: https://pandas.pydata.org/pandas-docs/stable/user_guide/indexing.html#returning-a-view-versus-a-copy\n",
      "  filtered_df.loc[:, f\"{date_column}_str\"] = filtered_df[date_column].dt.strftime(\n",
      "c:\\Users\\eamador\\github_repos\\work\\AI-Hub-SharePoint-Agent\\notebooks\\..\\ai_news_pipeline\\ai_news_pipeline_steps.py:110: SettingWithCopyWarning: \n",
      "A value is trying to be set on a copy of a slice from a DataFrame\n",
      "\n",
      "See the caveats in the documentation: https://pandas.pydata.org/pandas-docs/stable/user_guide/indexing.html#returning-a-view-versus-a-copy\n",
      "  filtered_df.drop(date_column, axis=1, inplace=True)\n",
      "c:\\Users\\eamador\\github_repos\\work\\AI-Hub-SharePoint-Agent\\notebooks\\..\\ai_news_pipeline\\ai_news_pipeline_steps.py:112: SettingWithCopyWarning: \n",
      "A value is trying to be set on a copy of a slice from a DataFrame\n",
      "\n",
      "See the caveats in the documentation: https://pandas.pydata.org/pandas-docs/stable/user_guide/indexing.html#returning-a-view-versus-a-copy\n",
      "  filtered_df.rename(columns={f\"{date_column}_str\": date_column}, inplace=True)\n"
     ]
    },
    {
     "data": {
      "text/html": [
       "<div>\n",
       "<style scoped>\n",
       "    .dataframe tbody tr th:only-of-type {\n",
       "        vertical-align: middle;\n",
       "    }\n",
       "\n",
       "    .dataframe tbody tr th {\n",
       "        vertical-align: top;\n",
       "    }\n",
       "\n",
       "    .dataframe thead th {\n",
       "        text-align: right;\n",
       "    }\n",
       "</style>\n",
       "<table border=\"1\" class=\"dataframe\">\n",
       "  <thead>\n",
       "    <tr style=\"text-align: right;\">\n",
       "      <th></th>\n",
       "      <th>title</th>\n",
       "      <th>news_link</th>\n",
       "      <th>image_link</th>\n",
       "      <th>publish_date</th>\n",
       "    </tr>\n",
       "  </thead>\n",
       "  <tbody>\n",
       "    <tr>\n",
       "      <th>0</th>\n",
       "      <td>Google’s new AI agent rewrites code to automat...</td>\n",
       "      <td>https://www.artificialintelligence-news.com/ne...</td>\n",
       "      <td>https://www.artificialintelligence-news.com/wp...</td>\n",
       "      <td>2025-10-06 13:56:40Z</td>\n",
       "    </tr>\n",
       "  </tbody>\n",
       "</table>\n",
       "</div>"
      ],
      "text/plain": [
       "                                               title  \\\n",
       "0  Google’s new AI agent rewrites code to automat...   \n",
       "\n",
       "                                           news_link  \\\n",
       "0  https://www.artificialintelligence-news.com/ne...   \n",
       "\n",
       "                                          image_link          publish_date  \n",
       "0  https://www.artificialintelligence-news.com/wp...  2025-10-06 13:56:40Z  "
      ]
     },
     "execution_count": 11,
     "metadata": {},
     "output_type": "execute_result"
    }
   ],
   "source": [
    "filter_news_by_date(ai_news, date_column=news_config.DATE_COLUMN, days=news_config.DAYS_BACK)"
   ]
  },
  {
   "cell_type": "code",
   "execution_count": null,
   "id": "ec3f6b10",
   "metadata": {},
   "outputs": [],
   "source": []
  }
 ],
 "metadata": {
  "kernelspec": {
   "display_name": "ai-hub-sharepoint-agent",
   "language": "python",
   "name": "python3"
  },
  "language_info": {
   "codemirror_mode": {
    "name": "ipython",
    "version": 3
   },
   "file_extension": ".py",
   "mimetype": "text/x-python",
   "name": "python",
   "nbconvert_exporter": "python",
   "pygments_lexer": "ipython3",
   "version": "3.12.11"
  }
 },
 "nbformat": 4,
 "nbformat_minor": 5
}
