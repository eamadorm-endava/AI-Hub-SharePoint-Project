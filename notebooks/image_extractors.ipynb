{
 "cells": [
  {
   "cell_type": "markdown",
   "id": "372ed9aa",
   "metadata": {},
   "source": [
    "# Image Extractors\n",
    "\n",
    "This notebook tests the ImageExtractors classes created"
   ]
  },
  {
   "cell_type": "markdown",
   "id": "77de2fdc",
   "metadata": {},
   "source": [
    "ImageExtractors are built because the data extracted using the Python library *feedparser*, only retrieves the following fields:\n",
    "\n",
    "- title\n",
    "- news_url\n",
    "- publish_date\n",
    "\n",
    "Nevertheless, the AI-SharePoint contains a visual that requires also a link to a image that represents the news, you can see the visual [here](https://endava.sharepoint.com/sites/AINewsletter)\n",
    "\n",
    "In order to extract the news image, it was decided to create web scrappers that could be able to extract the main image of the news_url."
   ]
  },
  {
   "cell_type": "code",
   "execution_count": 1,
   "id": "f3220638",
   "metadata": {},
   "outputs": [],
   "source": [
    "import sys\n",
    "\n",
    "sys.path.append(\"..\")\n",
    "\n",
    "from news_extraction_pipeline.extractors.image_url.image_url_extractors import AINEWSImageExtractor, MITImageExtractor"
   ]
  },
  {
   "cell_type": "markdown",
   "id": "a8d81f2f",
   "metadata": {},
   "source": [
    "As every webpage displays its data in a very specific way, it is required to generate a ImageExtractor for each page where the news will be extracted."
   ]
  },
  {
   "cell_type": "code",
   "execution_count": 2,
   "id": "f04ddca7",
   "metadata": {},
   "outputs": [
    {
     "name": "stderr",
     "output_type": "stream",
     "text": [
      "\u001b[32m2025-10-09 18:50:19.763\u001b[0m | \u001b[31m\u001b[1mERROR   \u001b[0m | \u001b[36mnews_extraction_pipeline.extractors.image_url.image_url_extractors\u001b[0m:\u001b[36m_fetch_html_code\u001b[0m:\u001b[36m72\u001b[0m - \u001b[31m\u001b[1mThe URL introduced in article_url: https://news.mit.edu/2025/new-prediction-model-could-improve-reliability-fusion-power-plants-1007 does not correspond to the ImageExtractor defined\u001b[0m\n"
     ]
    },
    {
     "name": "stdout",
     "output_type": "stream",
     "text": [
      "image1='https://www.artificialintelligence-news.com/wp-content/uploads/2025/10/google-ai-agent-fix-code-cybersecurity-infosec-security-coding-programming-software-development-artificial-intelligence-1024x768.jpg'\n",
      "image2='https://www.artificialintelligence-news.com/wp-content/uploads/2025/10/From-inspiration-to-itinerary_How-AI-is-rewriting-travel-1024x683.jpg'\n",
      "image3=None\n"
     ]
    }
   ],
   "source": [
    "ai_news_url = \"https://www.artificialintelligence-news.com/news/google-new-ai-agent-rewrites-code-automate-vulnerability-fixes/\"\n",
    "ai_news_url2 = \"https://www.artificialintelligence-news.com/news/how-ai-is-changing-the-way-we-travel/\"\n",
    "bad_ai_news_url = \"https://news.mit.edu/2025/new-prediction-model-could-improve-reliability-fusion-power-plants-1007\"\n",
    "\n",
    "ainews_image_extractor = AINEWSImageExtractor()\n",
    "\n",
    "image1 = ainews_image_extractor.extract(ai_news_url)\n",
    "image2 = ainews_image_extractor.extract(ai_news_url2)\n",
    "image3 = ainews_image_extractor.extract(bad_ai_news_url)\n",
    "\n",
    "print(f\"{image1=}\")\n",
    "print(f\"{image2=}\")\n",
    "print(f\"{image3=}\")"
   ]
  },
  {
   "cell_type": "code",
   "execution_count": 3,
   "id": "6e6454b2",
   "metadata": {},
   "outputs": [
    {
     "name": "stderr",
     "output_type": "stream",
     "text": [
      "\u001b[32m2025-10-09 18:50:27.120\u001b[0m | \u001b[31m\u001b[1mERROR   \u001b[0m | \u001b[36mnews_extraction_pipeline.extractors.image_url.image_url_extractors\u001b[0m:\u001b[36m_fetch_html_code\u001b[0m:\u001b[36m72\u001b[0m - \u001b[31m\u001b[1mThe URL introduced in article_url: https://www.artificialintelligence-news.com/news/how-ai-is-changing-the-way-we-travel/ does not correspond to the ImageExtractor defined\u001b[0m\n"
     ]
    },
    {
     "name": "stdout",
     "output_type": "stream",
     "text": [
      "image1='https://news.mit.edu/sites/default/files/styles/news_article__image_gallery/public/images/202509/Entero3.png?itok=VztGSs5y'\n",
      "image2='https://news.mit.edu/sites/default/files/styles/news_article__image_gallery/public/images/202510/MIT-Tokamak-Tuning-01_0.jpg?itok=Ym0UVkae'\n",
      "image3=None\n"
     ]
    }
   ],
   "source": [
    "mit_news_url = \"https://news.mit.edu/2025/ai-maps-how-new-antibiotic-targets-gut-bacteria-1003\"\n",
    "mit_news_url2 = \"https://news.mit.edu/2025/new-prediction-model-could-improve-reliability-fusion-power-plants-1007\"\n",
    "bad_mit_news_url = \"https://www.artificialintelligence-news.com/news/how-ai-is-changing-the-way-we-travel/\"\n",
    "\n",
    "mitnews_image_extractor = MITImageExtractor()\n",
    "\n",
    "image1 = mitnews_image_extractor.extract(mit_news_url)\n",
    "image2 = mitnews_image_extractor.extract(mit_news_url2)\n",
    "image3 = mitnews_image_extractor.extract(bad_mit_news_url)\n",
    "\n",
    "print(f\"{image1=}\")\n",
    "print(f\"{image2=}\")\n",
    "print(f\"{image3=}\")"
   ]
  },
  {
   "cell_type": "code",
   "execution_count": null,
   "id": "8328238d",
   "metadata": {},
   "outputs": [],
   "source": []
  }
 ],
 "metadata": {
  "kernelspec": {
   "display_name": "ai-hub-sharepoint-agent",
   "language": "python",
   "name": "python3"
  },
  "language_info": {
   "codemirror_mode": {
    "name": "ipython",
    "version": 3
   },
   "file_extension": ".py",
   "mimetype": "text/x-python",
   "name": "python",
   "nbconvert_exporter": "python",
   "pygments_lexer": "ipython3",
   "version": "3.12.11"
  }
 },
 "nbformat": 4,
 "nbformat_minor": 5
}
