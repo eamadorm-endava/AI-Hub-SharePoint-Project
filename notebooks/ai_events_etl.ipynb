{
 "cells": [
  {
   "cell_type": "markdown",
   "id": "08f8f848",
   "metadata": {},
   "source": [
    "# AI-Events Extractor\n",
    "\n",
    "This notebook tests the code to extract AI-related events using web-scrapping from different sources, the first one to test is: [Unite.AI](https://www.unite.ai/conferences/)"
   ]
  },
  {
   "cell_type": "code",
   "execution_count": 3,
   "id": "01313eea",
   "metadata": {},
   "outputs": [],
   "source": [
    "import re\n",
    "import requests\n",
    "from bs4 import BeautifulSoup\n",
    "import pandas as pd\n",
    "from pandas.tseries.offsets import MonthBegin\n",
    "from loguru import logger\n",
    "from datetime import datetime\n",
    "from openpyxl.worksheet.table import Table, TableStyleInfo\n",
    "from openpyxl.utils import get_column_letter\n",
    "import sys\n",
    "\n",
    "sys.path.append(\"../.\")\n",
    "\n",
    "from ai_events_pipeline.config import DataSources"
   ]
  },
  {
   "cell_type": "code",
   "execution_count": 4,
   "id": "14824b57",
   "metadata": {},
   "outputs": [],
   "source": [
    "data_sources = DataSources()"
   ]
  },
  {
   "cell_type": "code",
   "execution_count": 5,
   "id": "12c8d60d",
   "metadata": {},
   "outputs": [
    {
     "name": "stderr",
     "output_type": "stream",
     "text": [
      "\u001b[32m2025-10-05 21:51:49.881\u001b[0m | \u001b[1mINFO    \u001b[0m | \u001b[36m__main__\u001b[0m:\u001b[36m<module>\u001b[0m:\u001b[36m5\u001b[0m - \u001b[1mSending request to fetch web data\u001b[0m\n",
      "\u001b[32m2025-10-05 21:51:50.774\u001b[0m | \u001b[1mINFO    \u001b[0m | \u001b[36m__main__\u001b[0m:\u001b[36m<module>\u001b[0m:\u001b[36m11\u001b[0m - \u001b[1mExtracting AI events...\u001b[0m\n",
      "\u001b[32m2025-10-05 21:51:50.794\u001b[0m | \u001b[1mINFO    \u001b[0m | \u001b[36m__main__\u001b[0m:\u001b[36m<module>\u001b[0m:\u001b[36m38\u001b[0m - \u001b[1mRetrieval succeeded\u001b[0m\n"
     ]
    }
   ],
   "source": [
    "# Step 1: Fetch the page\n",
    "url = data_sources.TOP_AI_CONFERENCES\n",
    "headers = {\"User-Agent\": \"Mozilla/5.0\"} # To avoid get uncomplete data of the website\n",
    "\n",
    "logger.info(\"Sending request to fetch web data\")\n",
    "response = requests.get(url, headers=headers)\n",
    "\n",
    "if response.status_code != 200:\n",
    "    raise ValueError(f\"The request to {url} failed. Status code: {response.status_code}, {response.text}\")\n",
    "\n",
    "logger.info(\"Extracting AI events...\")\n",
    "soup = BeautifulSoup(response.content, \"html.parser\")\n",
    "\n",
    "\n",
    "# Paso 2: Buscar el tbody directamente\n",
    "tbody = soup.find(\"tbody\", class_=\"row-striping\")\n",
    "rows = tbody.find_all(\"tr\")\n",
    "\n",
    "# Paso 3: Extraer los datos\n",
    "conferences = []\n",
    "for row in rows:\n",
    "    cols = row.find_all(\"td\")\n",
    "    if len(cols) >= 3:\n",
    "        dates = cols[0].get_text(strip=True)\n",
    "        title_tag = cols[1].find(\"a\")\n",
    "        title = title_tag.get_text(strip=True) if title_tag else cols[1].get_text(strip=True)\n",
    "        link = title_tag[\"href\"].strip() if title_tag and \"href\" in title_tag.attrs else None\n",
    "        location = cols[2].get_text(strip=True)\n",
    "\n",
    "        conferences.append({\n",
    "            \"Title\": title,\n",
    "            \"Dates\": dates,\n",
    "            \"Location\": location,\n",
    "            \"Link\": link\n",
    "        })\n",
    "\n",
    "if conferences:\n",
    "    logger.info(\"Retrieval succeeded\")\n",
    "else:\n",
    "    logger.info(\"Retrieval failed. No data was fetched\")"
   ]
  },
  {
   "cell_type": "code",
   "execution_count": 6,
   "id": "e9bc7502",
   "metadata": {},
   "outputs": [],
   "source": [
    "ai_events = pd.DataFrame(conferences)"
   ]
  },
  {
   "cell_type": "code",
   "execution_count": 7,
   "id": "3a1f4707",
   "metadata": {},
   "outputs": [
    {
     "data": {
      "text/html": [
       "<div>\n",
       "<style scoped>\n",
       "    .dataframe tbody tr th:only-of-type {\n",
       "        vertical-align: middle;\n",
       "    }\n",
       "\n",
       "    .dataframe tbody tr th {\n",
       "        vertical-align: top;\n",
       "    }\n",
       "\n",
       "    .dataframe thead th {\n",
       "        text-align: right;\n",
       "    }\n",
       "</style>\n",
       "<table border=\"1\" class=\"dataframe\">\n",
       "  <thead>\n",
       "    <tr style=\"text-align: right;\">\n",
       "      <th></th>\n",
       "      <th>Title</th>\n",
       "      <th>Dates</th>\n",
       "      <th>Location</th>\n",
       "      <th>Link</th>\n",
       "    </tr>\n",
       "  </thead>\n",
       "  <tbody>\n",
       "    <tr>\n",
       "      <th>46</th>\n",
       "      <td>European Chatbot &amp; Conversational AI Summit 2026</td>\n",
       "      <td>March 17 to 19, 2026</td>\n",
       "      <td>Edinburgh, Scotland</td>\n",
       "      <td>https://theeuropeanchatbot.com/</td>\n",
       "    </tr>\n",
       "    <tr>\n",
       "      <th>47</th>\n",
       "      <td>Big data and Data science Conference 2026</td>\n",
       "      <td>April 13 to 14, 2026</td>\n",
       "      <td>Orlando, FL</td>\n",
       "      <td>https://datascience-machinelearning.averconfer...</td>\n",
       "    </tr>\n",
       "    <tr>\n",
       "      <th>48</th>\n",
       "      <td>MLcon San Diego</td>\n",
       "      <td>June 1 to 5, 2026</td>\n",
       "      <td>San Diego, CA</td>\n",
       "      <td>https://mlconference.ai/san-diego/</td>\n",
       "    </tr>\n",
       "    <tr>\n",
       "      <th>49</th>\n",
       "      <td>4th Data Science &amp; AI Summit</td>\n",
       "      <td>June 16 to 17, 2025</td>\n",
       "      <td>London, UK</td>\n",
       "      <td>https://datascience.thepeopleevents.com/</td>\n",
       "    </tr>\n",
       "    <tr>\n",
       "      <th>50</th>\n",
       "      <td>2nd International Conference on Artificial Int...</td>\n",
       "      <td>July 6 to 7, 2026</td>\n",
       "      <td>Singapore, SG</td>\n",
       "      <td>https://artificialintelligence.novelticsconfer...</td>\n",
       "    </tr>\n",
       "  </tbody>\n",
       "</table>\n",
       "</div>"
      ],
      "text/plain": [
       "                                                Title                 Dates  \\\n",
       "46   European Chatbot & Conversational AI Summit 2026  March 17 to 19, 2026   \n",
       "47          Big data and Data science Conference 2026  April 13 to 14, 2026   \n",
       "48                                    MLcon San Diego     June 1 to 5, 2026   \n",
       "49                       4th Data Science & AI Summit   June 16 to 17, 2025   \n",
       "50  2nd International Conference on Artificial Int...     July 6 to 7, 2026   \n",
       "\n",
       "               Location                                               Link  \n",
       "46  Edinburgh, Scotland                    https://theeuropeanchatbot.com/  \n",
       "47          Orlando, FL  https://datascience-machinelearning.averconfer...  \n",
       "48        San Diego, CA                 https://mlconference.ai/san-diego/  \n",
       "49           London, UK           https://datascience.thepeopleevents.com/  \n",
       "50        Singapore, SG  https://artificialintelligence.novelticsconfer...  "
      ]
     },
     "execution_count": 7,
     "metadata": {},
     "output_type": "execute_result"
    }
   ],
   "source": [
    "ai_events.tail()"
   ]
  },
  {
   "cell_type": "code",
   "execution_count": 8,
   "id": "980c5fef",
   "metadata": {},
   "outputs": [],
   "source": [
    "def format_string_date(date_str: str) -> str:\n",
    "    \"\"\"\n",
    "    Formats different types of date strings to the most common format 'YYYY-mm-dd'\n",
    "\n",
    "    Args:\n",
    "        date_str: str -> Date string with the format 'October 23, 2025', or 'Oct 23, 2025' \n",
    "    \n",
    "    Returns:\n",
    "        str -> Date string in the format: '2025-10-23'\n",
    "    \"\"\"\n",
    "    if not isinstance(date_str, str):\n",
    "        raise ValueError(\"The date is not a string data type\")\n",
    "    \n",
    "    for fmt in (r\"%B %d, %Y\", r\"%b %d, %Y\"):\n",
    "        try:\n",
    "            return datetime.strptime(date_str, fmt).strftime(r\"%Y-%m-%d\")\n",
    "        except ValueError:\n",
    "            continue\n",
    "\n",
    "    raise ValueError(f\"Unrecognized date format: '{date_str}'\")\n",
    "        \n",
    "\n",
    "\n",
    "\n",
    "\n",
    "def get_initial_and_final_dates(raw_date: str) -> tuple[str]:\n",
    "    \"\"\"\n",
    "    Extracts the initial and final event's date from formats such as: \n",
    "            - 'October 23 to 27, 2025'\n",
    "            - 'Oct 23 to 27, 2025'\n",
    "            - 'October 23 to November 1, 2025'\n",
    "    \n",
    "    In case there's a single-day event, it needs to have the format 'October 23, 2025' or 'Oct 23, 2025'\n",
    "    \n",
    "    Args:\n",
    "        raw_date: str -> Date with the formats provided early\n",
    "    \n",
    "    Returns:\n",
    "        tuple[str] -> Tuple of strings initial and final dates in the format '%Y-%m-%d'\n",
    "    \"\"\"\n",
    "    year_match = re.search(r\"\\b\\d{4}\\b\", raw_date)\n",
    "    year = year_match.group(0) if year_match else \"\"\n",
    "\n",
    "    if \" to \" in raw_date:\n",
    "        dates = raw_date.split(\" to \") # spaces are necessary due to \"October\"\n",
    "\n",
    "    elif \"-\" in raw_date: # In case it does not have \"to\" as a date separator\n",
    "        dates = raw_date.split(\"-\") # In case there's dates like \"Oct 12-20, 2024\"\n",
    "\n",
    "    elif re.search(r\"[A-Za-z]+ \\d+, \\d{4}\",raw_date): # In case there's only a single-day event\n",
    "        initial_date = format_string_date(raw_date)\n",
    "        final_date = initial_date\n",
    "        return initial_date, final_date\n",
    "\n",
    "    else:\n",
    "        raise ValueError(f\"Unknown date format: {raw_date}\")\n",
    "\n",
    "    initial_date = f\"{dates[0].strip()}, {year}\"\n",
    "\n",
    "    date_pattern = r\"[A-Za-z]+\\s\\d+, \\d{4}\" #Looks for 'March 12, 2025' formats\n",
    "\n",
    "    # If no month is defined in the final_date, the month of the initial_date is set\n",
    "    final_date = dates[1].strip() if re.search(date_pattern, dates[1].strip()) else f\"{initial_date.split()[0]} {dates[1].strip()}\"\n",
    "\n",
    "    # Format string dates\n",
    "    \n",
    "    initial_date = format_string_date(initial_date) # In case the month is fully written (\"October\", \"September\")\n",
    "    final_date = format_string_date(final_date)\n",
    "\n",
    "    return initial_date, final_date\n",
    "    "
   ]
  },
  {
   "cell_type": "code",
   "execution_count": 9,
   "id": "43e77b2c",
   "metadata": {},
   "outputs": [
    {
     "name": "stdout",
     "output_type": "stream",
     "text": [
      "dates[0]='2026-10-17', dates[1]='2026-11-20'\n"
     ]
    },
    {
     "data": {
      "text/plain": [
       "tuple"
      ]
     },
     "execution_count": 9,
     "metadata": {},
     "output_type": "execute_result"
    }
   ],
   "source": [
    "date_example = \"Oct 17 to Nov 20, 2026\"\n",
    "\n",
    "dates = get_initial_and_final_dates(date_example)\n",
    "print(f\"{dates[0]=}, {dates[1]=}\")\n",
    "type(dates)"
   ]
  },
  {
   "cell_type": "code",
   "execution_count": 10,
   "id": "e4d92f39",
   "metadata": {},
   "outputs": [],
   "source": [
    "ai_events[[\"initial_date\",\"final_date\"]] = ai_events[\"Dates\"].apply(get_initial_and_final_dates).apply(pd.Series)\n",
    "\n",
    "ai_events = ai_events.drop(\"Dates\", axis = 1)"
   ]
  },
  {
   "cell_type": "code",
   "execution_count": 11,
   "id": "67246b6d",
   "metadata": {},
   "outputs": [
    {
     "name": "stdout",
     "output_type": "stream",
     "text": [
      "<class 'pandas.core.frame.DataFrame'>\n",
      "RangeIndex: 51 entries, 0 to 50\n",
      "Data columns (total 5 columns):\n",
      " #   Column        Non-Null Count  Dtype         \n",
      "---  ------        --------------  -----         \n",
      " 0   Title         51 non-null     object        \n",
      " 1   Location      51 non-null     object        \n",
      " 2   Link          51 non-null     object        \n",
      " 3   initial_date  51 non-null     datetime64[ns]\n",
      " 4   final_date    51 non-null     datetime64[ns]\n",
      "dtypes: datetime64[ns](2), object(3)\n",
      "memory usage: 2.1+ KB\n"
     ]
    }
   ],
   "source": [
    "ai_events.initial_date = pd.to_datetime(ai_events.initial_date)\n",
    "ai_events.final_date = pd.to_datetime(ai_events.final_date)\n",
    "\n",
    "ai_events.info()"
   ]
  },
  {
   "cell_type": "markdown",
   "id": "1cdc1bbf",
   "metadata": {},
   "source": [
    "Filter the events from the next 3 months from now"
   ]
  },
  {
   "cell_type": "code",
   "execution_count": 12,
   "id": "f2b3d5c3",
   "metadata": {},
   "outputs": [
    {
     "name": "stderr",
     "output_type": "stream",
     "text": [
      "C:\\Users\\eamador\\AppData\\Local\\Temp\\ipykernel_22480\\3762103778.py:14: SettingWithCopyWarning: \n",
      "A value is trying to be set on a copy of a slice from a DataFrame.\n",
      "Try using .loc[row_indexer,col_indexer] = value instead\n",
      "\n",
      "See the caveats in the documentation: https://pandas.pydata.org/pandas-docs/stable/user_guide/indexing.html#returning-a-view-versus-a-copy\n",
      "  events_next_three_months.initial_date = events_next_three_months[\"initial_date\"].dt.strftime('%Y-%m-%dT08:00:00Z')\n",
      "C:\\Users\\eamador\\AppData\\Local\\Temp\\ipykernel_22480\\3762103778.py:15: SettingWithCopyWarning: \n",
      "A value is trying to be set on a copy of a slice from a DataFrame.\n",
      "Try using .loc[row_indexer,col_indexer] = value instead\n",
      "\n",
      "See the caveats in the documentation: https://pandas.pydata.org/pandas-docs/stable/user_guide/indexing.html#returning-a-view-versus-a-copy\n",
      "  events_next_three_months.final_date = events_next_three_months[\"final_date\"].dt.strftime('%Y-%m-%dT18:00:00Z')\n"
     ]
    }
   ],
   "source": [
    "# Get today's date\n",
    "today = pd.Timestamp.today()\n",
    "\n",
    "# Get the first day of the current month\n",
    "first_day_current_month = today.replace(day=1)\n",
    "\n",
    "# Get the first day of the month, three months from now\n",
    "first_day_plus_3_months = first_day_current_month + MonthBegin(4)\n",
    "\n",
    "# Filter for events where final_date is lower than the first day of the current month plus 3 months\n",
    "events_next_three_months = ai_events[(ai_events.final_date < first_day_plus_3_months) & (ai_events.final_date >= first_day_current_month)]\n",
    "\n",
    "# Returning the datetime columns to string format to avoid issues when exporting to Excel\n",
    "events_next_three_months.initial_date = events_next_three_months[\"initial_date\"].dt.strftime('%Y-%m-%dT08:00:00Z')\n",
    "events_next_three_months.final_date = events_next_three_months[\"final_date\"].dt.strftime('%Y-%m-%dT18:00:00Z')"
   ]
  },
  {
   "cell_type": "code",
   "execution_count": 207,
   "id": "dab24c66",
   "metadata": {},
   "outputs": [
    {
     "data": {
      "text/html": [
       "<div>\n",
       "<style scoped>\n",
       "    .dataframe tbody tr th:only-of-type {\n",
       "        vertical-align: middle;\n",
       "    }\n",
       "\n",
       "    .dataframe tbody tr th {\n",
       "        vertical-align: top;\n",
       "    }\n",
       "\n",
       "    .dataframe thead th {\n",
       "        text-align: right;\n",
       "    }\n",
       "</style>\n",
       "<table border=\"1\" class=\"dataframe\">\n",
       "  <thead>\n",
       "    <tr style=\"text-align: right;\">\n",
       "      <th></th>\n",
       "      <th>Title</th>\n",
       "      <th>Location</th>\n",
       "      <th>Link</th>\n",
       "      <th>initial_date</th>\n",
       "      <th>final_date</th>\n",
       "    </tr>\n",
       "  </thead>\n",
       "  <tbody>\n",
       "    <tr>\n",
       "      <th>15</th>\n",
       "      <td>Agentic AI Summit,</td>\n",
       "      <td>Amsterdam, NL</td>\n",
       "      <td>https://www.aidataanalytics.network/events-age...</td>\n",
       "      <td>2025-10-27T08:00:00Z</td>\n",
       "      <td>2025-10-28T18:00:00Z</td>\n",
       "    </tr>\n",
       "    <tr>\n",
       "      <th>24</th>\n",
       "      <td>AI Summit Seoul &amp; Expo (AIS)</td>\n",
       "      <td>Seoul, Korea</td>\n",
       "      <td>https://www.aisummitseoul.com/program2025</td>\n",
       "      <td>2025-11-10T08:00:00Z</td>\n",
       "      <td>2025-11-11T18:00:00Z</td>\n",
       "    </tr>\n",
       "    <tr>\n",
       "      <th>43</th>\n",
       "      <td>AI Summit New York 2025</td>\n",
       "      <td>New York, NY</td>\n",
       "      <td>https://newyork.theaisummit.com/?_mc=cl_aisny_...</td>\n",
       "      <td>2025-12-10T08:00:00Z</td>\n",
       "      <td>2025-12-11T18:00:00Z</td>\n",
       "    </tr>\n",
       "  </tbody>\n",
       "</table>\n",
       "</div>"
      ],
      "text/plain": [
       "                           Title       Location  \\\n",
       "15            Agentic AI Summit,  Amsterdam, NL   \n",
       "24  AI Summit Seoul & Expo (AIS)   Seoul, Korea   \n",
       "43       AI Summit New York 2025   New York, NY   \n",
       "\n",
       "                                                 Link          initial_date  \\\n",
       "15  https://www.aidataanalytics.network/events-age...  2025-10-27T08:00:00Z   \n",
       "24          https://www.aisummitseoul.com/program2025  2025-11-10T08:00:00Z   \n",
       "43  https://newyork.theaisummit.com/?_mc=cl_aisny_...  2025-12-10T08:00:00Z   \n",
       "\n",
       "              final_date  \n",
       "15  2025-10-28T18:00:00Z  \n",
       "24  2025-11-11T18:00:00Z  \n",
       "43  2025-12-11T18:00:00Z  "
      ]
     },
     "execution_count": 207,
     "metadata": {},
     "output_type": "execute_result"
    }
   ],
   "source": [
    "events_next_three_months[events_next_three_months.Title.str.contains(\"AI Summit\")]"
   ]
  },
  {
   "cell_type": "markdown",
   "id": "e563920c",
   "metadata": {},
   "source": [
    "The following code is to generate an excel file that contains a table, which is required by PowerAutomate to correctly identify the table"
   ]
  },
  {
   "cell_type": "code",
   "execution_count": 208,
   "id": "bc56a341",
   "metadata": {},
   "outputs": [],
   "source": [
    "with pd.ExcelWriter('../data/ai_events_next_three_months.xlsx', engine='openpyxl') as writer:\n",
    "    events_next_three_months.to_excel(writer, index=False, sheet_name='AI Events')\n",
    "    workbook  = writer.book\n",
    "    worksheet = writer.sheets[\"AI Events\"]\n",
    "    (max_row, max_col) = events_next_three_months.shape\n",
    "\n",
    "    # Calcula el rango de la tabla en formato Excel (por ejemplo, \"A1:D10\")\n",
    "    table_ref = f\"A1:{get_column_letter(max_col)}{max_row + 1}\"\n",
    "\n",
    "    table = Table(displayName=\"AIEventsTable\", ref=table_ref)\n",
    "    style = TableStyleInfo(name=\"TableStyleMedium9\", showFirstColumn=False,\n",
    "                           showLastColumn=False, showRowStripes=True, showColumnStripes=False)\n",
    "    table.tableStyleInfo = style\n",
    "    worksheet.add_table(table)"
   ]
  },
  {
   "cell_type": "code",
   "execution_count": 209,
   "id": "6d3e3ec4",
   "metadata": {},
   "outputs": [
    {
     "data": {
      "text/html": [
       "<div>\n",
       "<style scoped>\n",
       "    .dataframe tbody tr th:only-of-type {\n",
       "        vertical-align: middle;\n",
       "    }\n",
       "\n",
       "    .dataframe tbody tr th {\n",
       "        vertical-align: top;\n",
       "    }\n",
       "\n",
       "    .dataframe thead th {\n",
       "        text-align: right;\n",
       "    }\n",
       "</style>\n",
       "<table border=\"1\" class=\"dataframe\">\n",
       "  <thead>\n",
       "    <tr style=\"text-align: right;\">\n",
       "      <th></th>\n",
       "      <th>Title</th>\n",
       "      <th>Location</th>\n",
       "      <th>Link</th>\n",
       "      <th>initial_date</th>\n",
       "      <th>final_date</th>\n",
       "    </tr>\n",
       "  </thead>\n",
       "  <tbody>\n",
       "    <tr>\n",
       "      <th>43</th>\n",
       "      <td>AI Summit New York 2025</td>\n",
       "      <td>New York, NY</td>\n",
       "      <td>https://newyork.theaisummit.com/?_mc=cl_aisny_...</td>\n",
       "      <td>2025-12-10T08:00:00Z</td>\n",
       "      <td>2025-12-11T18:00:00Z</td>\n",
       "    </tr>\n",
       "  </tbody>\n",
       "</table>\n",
       "</div>"
      ],
      "text/plain": [
       "                      Title      Location  \\\n",
       "43  AI Summit New York 2025  New York, NY   \n",
       "\n",
       "                                                 Link          initial_date  \\\n",
       "43  https://newyork.theaisummit.com/?_mc=cl_aisny_...  2025-12-10T08:00:00Z   \n",
       "\n",
       "              final_date  \n",
       "43  2025-12-11T18:00:00Z  "
      ]
     },
     "execution_count": 209,
     "metadata": {},
     "output_type": "execute_result"
    }
   ],
   "source": [
    "max_date = events_next_three_months.initial_date.max()\n",
    "events_next_three_months.query(\"initial_date == @max_date\")"
   ]
  },
  {
   "cell_type": "code",
   "execution_count": 210,
   "id": "7c337e23",
   "metadata": {},
   "outputs": [
    {
     "data": {
      "text/plain": [
       "'2025-09-29T08:00:00Z'"
      ]
     },
     "execution_count": 210,
     "metadata": {},
     "output_type": "execute_result"
    }
   ],
   "source": [
    "events_next_three_months.initial_date.min()"
   ]
  },
  {
   "cell_type": "code",
   "execution_count": 211,
   "id": "b3a60857",
   "metadata": {},
   "outputs": [
    {
     "data": {
      "text/html": [
       "<div>\n",
       "<style scoped>\n",
       "    .dataframe tbody tr th:only-of-type {\n",
       "        vertical-align: middle;\n",
       "    }\n",
       "\n",
       "    .dataframe tbody tr th {\n",
       "        vertical-align: top;\n",
       "    }\n",
       "\n",
       "    .dataframe thead th {\n",
       "        text-align: right;\n",
       "    }\n",
       "</style>\n",
       "<table border=\"1\" class=\"dataframe\">\n",
       "  <thead>\n",
       "    <tr style=\"text-align: right;\">\n",
       "      <th></th>\n",
       "      <th>Title</th>\n",
       "      <th>Location</th>\n",
       "      <th>Link</th>\n",
       "      <th>initial_date</th>\n",
       "      <th>final_date</th>\n",
       "    </tr>\n",
       "  </thead>\n",
       "  <tbody>\n",
       "    <tr>\n",
       "      <th>35</th>\n",
       "      <td>Generative AI for Marketing Summit</td>\n",
       "      <td>London, UK</td>\n",
       "      <td>https://www.aidataanalytics.network/events-gen...</td>\n",
       "      <td>2025-11-24T08:00:00Z</td>\n",
       "      <td>2025-11-26T18:00:00Z</td>\n",
       "    </tr>\n",
       "  </tbody>\n",
       "</table>\n",
       "</div>"
      ],
      "text/plain": [
       "                                 Title    Location  \\\n",
       "35  Generative AI for Marketing Summit  London, UK   \n",
       "\n",
       "                                                 Link          initial_date  \\\n",
       "35  https://www.aidataanalytics.network/events-gen...  2025-11-24T08:00:00Z   \n",
       "\n",
       "              final_date  \n",
       "35  2025-11-26T18:00:00Z  "
      ]
     },
     "execution_count": 211,
     "metadata": {},
     "output_type": "execute_result"
    }
   ],
   "source": [
    "events_next_three_months.drop_duplicates([\"Title\", \"initial_date\"]).query(\"Title.str.contains('Generative AI for Marke')\")"
   ]
  },
  {
   "cell_type": "code",
   "execution_count": 212,
   "id": "ce514915",
   "metadata": {},
   "outputs": [
    {
     "data": {
      "text/plain": [
       "(44, 5)"
      ]
     },
     "execution_count": 212,
     "metadata": {},
     "output_type": "execute_result"
    }
   ],
   "source": [
    "events_next_three_months.shape"
   ]
  },
  {
   "cell_type": "code",
   "execution_count": null,
   "id": "116a3886",
   "metadata": {},
   "outputs": [],
   "source": []
  }
 ],
 "metadata": {
  "kernelspec": {
   "display_name": "ai-hub-sharepoint-agent",
   "language": "python",
   "name": "python3"
  },
  "language_info": {
   "codemirror_mode": {
    "name": "ipython",
    "version": 3
   },
   "file_extension": ".py",
   "mimetype": "text/x-python",
   "name": "python",
   "nbconvert_exporter": "python",
   "pygments_lexer": "ipython3",
   "version": "3.12.11"
  }
 },
 "nbformat": 4,
 "nbformat_minor": 5
}
