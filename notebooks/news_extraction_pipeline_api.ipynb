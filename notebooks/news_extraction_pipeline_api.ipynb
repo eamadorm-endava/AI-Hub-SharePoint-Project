{
 "cells": [
  {
   "cell_type": "markdown",
   "id": "36593f34",
   "metadata": {},
   "source": [
    "# News Extraction Pipeline - Docker -API test"
   ]
  },
  {
   "cell_type": "code",
   "execution_count": 1,
   "id": "90cfd211",
   "metadata": {},
   "outputs": [],
   "source": [
    "import requests\n",
    "import json"
   ]
  },
  {
   "cell_type": "code",
   "execution_count": 5,
   "id": "342e579d",
   "metadata": {},
   "outputs": [],
   "source": [
    "cloudrun_url = \"https://news-extraction-pipeline-214571216460.northamerica-south1.run.app\"\n",
    "\n",
    "payload = json.dumps({\n",
    "    \"max_days_old\": 5\n",
    "})\n",
    "\n",
    "response = requests.post(f\"{cloudrun_url}/extract_articles\", data=payload)"
   ]
  },
  {
   "cell_type": "code",
   "execution_count": 6,
   "id": "1c547754",
   "metadata": {},
   "outputs": [
    {
     "data": {
      "text/plain": [
       "200"
      ]
     },
     "execution_count": 6,
     "metadata": {},
     "output_type": "execute_result"
    }
   ],
   "source": [
    "response.status_code"
   ]
  },
  {
   "cell_type": "code",
   "execution_count": 7,
   "id": "8c8694f4",
   "metadata": {},
   "outputs": [
    {
     "data": {
      "text/plain": [
       "{'total_articles': 11,\n",
       " 'data': [{'title': 'MIT Schwarzman College of Computing and MBZUAI launch international collaboration to shape the future of AI',\n",
       "   'news_link': 'https://news.mit.edu/2025/mit-schwarzman-college-computing-mbzuai-launch-collaboration-shape-future-ai-1008',\n",
       "   'image_link': 'https://news.mit.edu/sites/default/files/styles/news_article__image_gallery/public/images/202510/BZL_9257.jpg?itok=OLINq9XE',\n",
       "   'publish_date': '2025-10-08T19:10:00Z'},\n",
       "  {'title': 'Using generative AI to diversify virtual training grounds for robots',\n",
       "   'news_link': 'https://news.mit.edu/2025/using-generative-ai-diversify-virtual-training-grounds-robots-1008',\n",
       "   'image_link': 'https://news.mit.edu/sites/default/files/styles/news_article__image_gallery/public/images/202509/hrX55F1A.gif?itok=MxHL-ujf',\n",
       "   'publish_date': '2025-10-08T17:45:00Z'},\n",
       "  {'title': 'Fighting for the health of the planet with AI',\n",
       "   'news_link': 'https://news.mit.edu/2025/fighting-health-planet-ai-priya-donti-1007',\n",
       "   'image_link': 'https://news.mit.edu/sites/default/files/styles/news_article__image_gallery/public/images/202509/Donti_profile_pc_Adam_Glanzman.jpg?itok=e8nBt1cP',\n",
       "   'publish_date': '2025-10-07T20:55:00Z'},\n",
       "  {'title': 'Gemini Enterprise: Google aims to put an AI agent on every desk',\n",
       "   'news_link': 'https://www.artificialintelligence-news.com/news/gemini-enterprise-google-ai-agent-every-desk/',\n",
       "   'image_link': 'https://www.artificialintelligence-news.com/wp-content/uploads/2025/10/google-cloud-gemini-enterprise-ai-agentic-artificial-intelligence-models-agents-2-1024x768.jpg',\n",
       "   'publish_date': '2025-10-09T12:00:03Z'},\n",
       "  {'title': 'Can Cisco’s new AI data centre router tackle the industry’s biggest infrastructure bottleneck?',\n",
       "   'news_link': 'https://www.artificialintelligence-news.com/news/cisco-ai-data-centre-router-infrastructure-bottleneck/',\n",
       "   'image_link': 'https://www.artificialintelligence-news.com/wp-content/uploads/2017/05/iStock-459016457-1024x683.jpg',\n",
       "   'publish_date': '2025-10-09T09:00:00Z'},\n",
       "  {'title': 'AI value remains elusive despite soaring investment',\n",
       "   'news_link': 'https://www.artificialintelligence-news.com/news/ai-value-remains-elusive-despite-soaring-investment/',\n",
       "   'image_link': 'https://www.artificialintelligence-news.com/wp-content/uploads/2025/10/red-hat-ai-value-investments-research-report-artificial-intelligence-open-source-enterprise-study-1024x768.jpg',\n",
       "   'publish_date': '2025-10-09T08:00:02Z'},\n",
       "  {'title': 'Samsung’s tiny AI model beats giant reasoning LLMs',\n",
       "   'news_link': 'https://www.artificialintelligence-news.com/news/samsung-tiny-ai-model-beats-giant-reasoning-llms/',\n",
       "   'image_link': 'https://www.artificialintelligence-news.com/wp-content/uploads/2025/10/samsung-tiny-ai-model-small-benchmarks-llm-reasoning-models-artificial-intelligence-trm-1024x768.jpg',\n",
       "   'publish_date': '2025-10-08T11:55:19Z'},\n",
       "  {'title': 'AI Redaction That Puts Privacy First: CaseGuard Studio Leading The Way',\n",
       "   'news_link': 'https://www.artificialintelligence-news.com/news/ai-redaction-that-puts-privacy-first-caseguard-studio-leading-the-way/',\n",
       "   'image_link': 'https://www.artificialintelligence-news.com/wp-content/uploads/2025/10/image-4-1-1024x681.png',\n",
       "   'publish_date': '2025-10-08T09:07:44Z'},\n",
       "  {'title': 'How AI is changing the way we travel',\n",
       "   'news_link': 'https://www.artificialintelligence-news.com/news/how-ai-is-changing-the-way-we-travel/',\n",
       "   'image_link': 'https://www.artificialintelligence-news.com/wp-content/uploads/2025/10/From-inspiration-to-itinerary_How-AI-is-rewriting-travel-1024x683.jpg',\n",
       "   'publish_date': '2025-10-07T11:00:00Z'},\n",
       "  {'title': '5 best AI observability tools in 2025',\n",
       "   'news_link': 'https://www.artificialintelligence-news.com/news/5-best-ai-observability-tools-in-2025/',\n",
       "   'image_link': 'https://www.artificialintelligence-news.com/wp-content/uploads/2025/10/igor-omilaev-IsYT5rUuVcs-unsplash-1-1024x576.jpg',\n",
       "   'publish_date': '2025-10-06T14:00:42Z'},\n",
       "  {'title': 'Google’s new AI agent rewrites code to automate vulnerability fixes',\n",
       "   'news_link': 'https://www.artificialintelligence-news.com/news/google-new-ai-agent-rewrites-code-automate-vulnerability-fixes/',\n",
       "   'image_link': 'https://www.artificialintelligence-news.com/wp-content/uploads/2025/10/google-ai-agent-fix-code-cybersecurity-infosec-security-coding-programming-software-development-artificial-intelligence-1024x768.jpg',\n",
       "   'publish_date': '2025-10-06T13:56:40Z'}]}"
      ]
     },
     "execution_count": 7,
     "metadata": {},
     "output_type": "execute_result"
    }
   ],
   "source": [
    "content_response = json.loads(response.content)\n",
    "content_response"
   ]
  },
  {
   "cell_type": "markdown",
   "id": "d67ce4db",
   "metadata": {},
   "source": [
    "In a future, this API will be deployed in GCP using CloudRun Functions"
   ]
  },
  {
   "cell_type": "code",
   "execution_count": null,
   "id": "37cec700",
   "metadata": {},
   "outputs": [],
   "source": []
  }
 ],
 "metadata": {
  "kernelspec": {
   "display_name": "ai-hub-sharepoint-agent",
   "language": "python",
   "name": "python3"
  },
  "language_info": {
   "codemirror_mode": {
    "name": "ipython",
    "version": 3
   },
   "file_extension": ".py",
   "mimetype": "text/x-python",
   "name": "python",
   "nbconvert_exporter": "python",
   "pygments_lexer": "ipython3",
   "version": "3.12.11"
  }
 },
 "nbformat": 4,
 "nbformat_minor": 5
}
