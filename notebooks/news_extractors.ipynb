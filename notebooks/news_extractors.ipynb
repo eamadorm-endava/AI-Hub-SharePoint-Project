{
 "cells": [
  {
   "cell_type": "markdown",
   "id": "1a20b991",
   "metadata": {},
   "source": [
    "## News Extractors\n",
    "\n",
    "This notebook is to test the NewsExtractor class created to retrieve news based on an specific feed_url, which is the url that contains a list of news"
   ]
  },
  {
   "cell_type": "code",
   "execution_count": 1,
   "id": "582f1489",
   "metadata": {},
   "outputs": [],
   "source": [
    "import sys\n",
    "\n",
    "sys.path.append(\"..\")\n",
    "\n",
    "from news_extraction_pipeline.extractors.news.news_extractors import NewsExtractor\n",
    "from news_extraction_pipeline.config import AINewsConfig"
   ]
  },
  {
   "cell_type": "code",
   "execution_count": 2,
   "id": "e88cb2a6",
   "metadata": {},
   "outputs": [],
   "source": [
    "news_config = AINewsConfig()"
   ]
  },
  {
   "cell_type": "markdown",
   "id": "5d1d7bde",
   "metadata": {},
   "source": [
    "## Instanciate a NewsExtractor class\n",
    "\n",
    "By instanciating a NewsExtractor class once, it can handle multiple feed_urls\n",
    "\n",
    "- The NewsExtractor automatically chooses an ImageExtractor class based on the feed_url"
   ]
  },
  {
   "cell_type": "code",
   "execution_count": 3,
   "id": "3f23a3fd",
   "metadata": {},
   "outputs": [],
   "source": [
    "extractor = NewsExtractor()"
   ]
  },
  {
   "cell_type": "markdown",
   "id": "2b11f3d3",
   "metadata": {},
   "source": [
    "There's two ways to set the feed_url:"
   ]
  },
  {
   "cell_type": "code",
   "execution_count": 4,
   "id": "e0beddad",
   "metadata": {},
   "outputs": [
    {
     "name": "stderr",
     "output_type": "stream",
     "text": [
      "\u001b[32m2025-10-08 17:18:36.099\u001b[0m | \u001b[1mINFO    \u001b[0m | \u001b[36mai_news_pipeline.extractors.news.news_extractors\u001b[0m:\u001b[36mcurrent_feed_url\u001b[0m:\u001b[36m82\u001b[0m - \u001b[1mSetting current feed url to https://news.mit.edu/rss/feed\u001b[0m\n",
      "\u001b[32m2025-10-08 17:18:36.099\u001b[0m | \u001b[1mINFO    \u001b[0m | \u001b[36mai_news_pipeline.extractors.image_url.extractor_selector\u001b[0m:\u001b[36mget_extractor\u001b[0m:\u001b[36m73\u001b[0m - \u001b[1mExtractor 'MITImageExtractor' selected for base URL: https://news.mit.edu\u001b[0m\n"
     ]
    }
   ],
   "source": [
    "extractor.set_current_feed_url(news_config.MIT_NEWS_FEED_URL)"
   ]
  },
  {
   "cell_type": "code",
   "execution_count": 5,
   "id": "45ae960a",
   "metadata": {},
   "outputs": [
    {
     "name": "stderr",
     "output_type": "stream",
     "text": [
      "\u001b[32m2025-10-08 17:18:36.106\u001b[0m | \u001b[1mINFO    \u001b[0m | \u001b[36mai_news_pipeline.extractors.news.news_extractors\u001b[0m:\u001b[36mcurrent_feed_url\u001b[0m:\u001b[36m82\u001b[0m - \u001b[1mSetting current feed url to https://www.artificialintelligence-news.com/artificial-intelligence-news/feed/\u001b[0m\n",
      "\u001b[32m2025-10-08 17:18:36.108\u001b[0m | \u001b[1mINFO    \u001b[0m | \u001b[36mai_news_pipeline.extractors.image_url.extractor_selector\u001b[0m:\u001b[36mget_extractor\u001b[0m:\u001b[36m73\u001b[0m - \u001b[1mExtractor 'AINEWSImageExtractor' selected for base URL: https://www.artificialintelligence-news.com\u001b[0m\n"
     ]
    }
   ],
   "source": [
    "extractor.current_feed_url=news_config.AI_NEWS_FEED_URL"
   ]
  },
  {
   "cell_type": "markdown",
   "id": "9d90a68d",
   "metadata": {},
   "source": [
    "Also if there's a feed url that does not has an ImageExtractor, it will raise a warning"
   ]
  },
  {
   "cell_type": "code",
   "execution_count": 6,
   "id": "b6db5e99",
   "metadata": {},
   "outputs": [],
   "source": [
    "bad_feed_url = \"https://techcrunch.com/category/artificial-intelligence/\""
   ]
  },
  {
   "cell_type": "code",
   "execution_count": 7,
   "id": "6dec2bc3",
   "metadata": {},
   "outputs": [
    {
     "name": "stderr",
     "output_type": "stream",
     "text": [
      "\u001b[32m2025-10-08 17:18:36.122\u001b[0m | \u001b[1mINFO    \u001b[0m | \u001b[36mai_news_pipeline.extractors.news.news_extractors\u001b[0m:\u001b[36mcurrent_feed_url\u001b[0m:\u001b[36m82\u001b[0m - \u001b[1mSetting current feed url to https://techcrunch.com/category/artificial-intelligence/\u001b[0m\n",
      "\u001b[32m2025-10-08 17:18:36.123\u001b[0m | \u001b[33m\u001b[1mWARNING \u001b[0m | \u001b[36mai_news_pipeline.extractors.image_url.extractor_selector\u001b[0m:\u001b[36mget_extractor\u001b[0m:\u001b[36m68\u001b[0m - \u001b[33m\u001b[1mNo image extractor found for the url: https://techcrunch.com/category/artificial-intelligence/. The data retrieve will not contain an image_url\u001b[0m\n"
     ]
    }
   ],
   "source": [
    "extractor.set_current_feed_url(bad_feed_url)"
   ]
  },
  {
   "cell_type": "markdown",
   "id": "88ecc6d3",
   "metadata": {},
   "source": [
    "## Get the articles from the current feed url"
   ]
  },
  {
   "cell_type": "code",
   "execution_count": 10,
   "id": "5c624c03",
   "metadata": {},
   "outputs": [
    {
     "name": "stderr",
     "output_type": "stream",
     "text": [
      "\u001b[32m2025-10-08 17:19:25.072\u001b[0m | \u001b[1mINFO    \u001b[0m | \u001b[36mai_news_pipeline.extractors.news.news_extractors\u001b[0m:\u001b[36mcurrent_feed_url\u001b[0m:\u001b[36m82\u001b[0m - \u001b[1mSetting current feed url to https://news.mit.edu/rss/feed\u001b[0m\n",
      "\u001b[32m2025-10-08 17:19:25.073\u001b[0m | \u001b[1mINFO    \u001b[0m | \u001b[36mai_news_pipeline.extractors.image_url.extractor_selector\u001b[0m:\u001b[36mget_extractor\u001b[0m:\u001b[36m73\u001b[0m - \u001b[1mExtractor 'MITImageExtractor' selected for base URL: https://news.mit.edu\u001b[0m\n",
      "\u001b[32m2025-10-08 17:19:59.104\u001b[0m | \u001b[1mINFO    \u001b[0m | \u001b[36mai_news_pipeline.extractors.news.news_extractors\u001b[0m:\u001b[36mget_articles\u001b[0m:\u001b[36m151\u001b[0m - \u001b[1m50 articles extracted\u001b[0m\n"
     ]
    },
    {
     "data": {
      "text/html": [
       "<div>\n",
       "<style scoped>\n",
       "    .dataframe tbody tr th:only-of-type {\n",
       "        vertical-align: middle;\n",
       "    }\n",
       "\n",
       "    .dataframe tbody tr th {\n",
       "        vertical-align: top;\n",
       "    }\n",
       "\n",
       "    .dataframe thead th {\n",
       "        text-align: right;\n",
       "    }\n",
       "</style>\n",
       "<table border=\"1\" class=\"dataframe\">\n",
       "  <thead>\n",
       "    <tr style=\"text-align: right;\">\n",
       "      <th></th>\n",
       "      <th>title</th>\n",
       "      <th>news_link</th>\n",
       "      <th>image_link</th>\n",
       "      <th>publish_date</th>\n",
       "    </tr>\n",
       "  </thead>\n",
       "  <tbody>\n",
       "    <tr>\n",
       "      <th>0</th>\n",
       "      <td>Immune-informed brain aging research offers ne...</td>\n",
       "      <td>https://news.mit.edu/2025/immune-informed-brai...</td>\n",
       "      <td>https://news.mit.edu/sites/default/files/style...</td>\n",
       "      <td>2025-10-08 15:30:00-04:00</td>\n",
       "    </tr>\n",
       "    <tr>\n",
       "      <th>1</th>\n",
       "      <td>MIT Schwarzman College of Computing and MBZUAI...</td>\n",
       "      <td>https://news.mit.edu/2025/mit-schwarzman-colle...</td>\n",
       "      <td>https://news.mit.edu/sites/default/files/style...</td>\n",
       "      <td>2025-10-08 15:10:00-04:00</td>\n",
       "    </tr>\n",
       "  </tbody>\n",
       "</table>\n",
       "</div>"
      ],
      "text/plain": [
       "                                               title  \\\n",
       "0  Immune-informed brain aging research offers ne...   \n",
       "1  MIT Schwarzman College of Computing and MBZUAI...   \n",
       "\n",
       "                                           news_link  \\\n",
       "0  https://news.mit.edu/2025/immune-informed-brai...   \n",
       "1  https://news.mit.edu/2025/mit-schwarzman-colle...   \n",
       "\n",
       "                                          image_link              publish_date  \n",
       "0  https://news.mit.edu/sites/default/files/style... 2025-10-08 15:30:00-04:00  \n",
       "1  https://news.mit.edu/sites/default/files/style... 2025-10-08 15:10:00-04:00  "
      ]
     },
     "execution_count": 10,
     "metadata": {},
     "output_type": "execute_result"
    }
   ],
   "source": [
    "extractor.current_feed_url = news_config.MIT_NEWS_FEED_URL\n",
    "\n",
    "mit_articles = extractor.get_articles()\n",
    "\n",
    "mit_articles.head(2)"
   ]
  },
  {
   "cell_type": "markdown",
   "id": "126a90ef",
   "metadata": {},
   "source": [
    "If the feed url is the same and executes again the method .get_articles(), it will return the previous articles extracted"
   ]
  },
  {
   "cell_type": "code",
   "execution_count": 12,
   "id": "c924abce",
   "metadata": {},
   "outputs": [
    {
     "name": "stderr",
     "output_type": "stream",
     "text": [
      "\u001b[32m2025-10-08 17:21:39.104\u001b[0m | \u001b[1mINFO    \u001b[0m | \u001b[36mai_news_pipeline.extractors.news.news_extractors\u001b[0m:\u001b[36mget_articles\u001b[0m:\u001b[36m125\u001b[0m - \u001b[1mArticles from feed url https://news.mit.edu/rss/feed already extracted\u001b[0m\n"
     ]
    },
    {
     "data": {
      "text/html": [
       "<div>\n",
       "<style scoped>\n",
       "    .dataframe tbody tr th:only-of-type {\n",
       "        vertical-align: middle;\n",
       "    }\n",
       "\n",
       "    .dataframe tbody tr th {\n",
       "        vertical-align: top;\n",
       "    }\n",
       "\n",
       "    .dataframe thead th {\n",
       "        text-align: right;\n",
       "    }\n",
       "</style>\n",
       "<table border=\"1\" class=\"dataframe\">\n",
       "  <thead>\n",
       "    <tr style=\"text-align: right;\">\n",
       "      <th></th>\n",
       "      <th>title</th>\n",
       "      <th>news_link</th>\n",
       "      <th>image_link</th>\n",
       "      <th>publish_date</th>\n",
       "    </tr>\n",
       "  </thead>\n",
       "  <tbody>\n",
       "    <tr>\n",
       "      <th>0</th>\n",
       "      <td>Immune-informed brain aging research offers ne...</td>\n",
       "      <td>https://news.mit.edu/2025/immune-informed-brai...</td>\n",
       "      <td>https://news.mit.edu/sites/default/files/style...</td>\n",
       "      <td>2025-10-08 15:30:00-04:00</td>\n",
       "    </tr>\n",
       "    <tr>\n",
       "      <th>1</th>\n",
       "      <td>MIT Schwarzman College of Computing and MBZUAI...</td>\n",
       "      <td>https://news.mit.edu/2025/mit-schwarzman-colle...</td>\n",
       "      <td>https://news.mit.edu/sites/default/files/style...</td>\n",
       "      <td>2025-10-08 15:10:00-04:00</td>\n",
       "    </tr>\n",
       "  </tbody>\n",
       "</table>\n",
       "</div>"
      ],
      "text/plain": [
       "                                               title  \\\n",
       "0  Immune-informed brain aging research offers ne...   \n",
       "1  MIT Schwarzman College of Computing and MBZUAI...   \n",
       "\n",
       "                                           news_link  \\\n",
       "0  https://news.mit.edu/2025/immune-informed-brai...   \n",
       "1  https://news.mit.edu/2025/mit-schwarzman-colle...   \n",
       "\n",
       "                                          image_link              publish_date  \n",
       "0  https://news.mit.edu/sites/default/files/style... 2025-10-08 15:30:00-04:00  \n",
       "1  https://news.mit.edu/sites/default/files/style... 2025-10-08 15:10:00-04:00  "
      ]
     },
     "execution_count": 12,
     "metadata": {},
     "output_type": "execute_result"
    }
   ],
   "source": [
    "extractor.get_articles().head(2)"
   ]
  },
  {
   "cell_type": "markdown",
   "id": "c0dd4f66",
   "metadata": {},
   "source": [
    "If a normal url is introduced to feed_url, it will return an error"
   ]
  },
  {
   "cell_type": "code",
   "execution_count": 13,
   "id": "fd8a6903",
   "metadata": {},
   "outputs": [
    {
     "name": "stderr",
     "output_type": "stream",
     "text": [
      "\u001b[32m2025-10-08 17:23:01.812\u001b[0m | \u001b[1mINFO    \u001b[0m | \u001b[36mai_news_pipeline.extractors.news.news_extractors\u001b[0m:\u001b[36mcurrent_feed_url\u001b[0m:\u001b[36m82\u001b[0m - \u001b[1mSetting current feed url to https://techcrunch.com/category/artificial-intelligence/\u001b[0m\n",
      "\u001b[32m2025-10-08 17:23:01.812\u001b[0m | \u001b[33m\u001b[1mWARNING \u001b[0m | \u001b[36mai_news_pipeline.extractors.image_url.extractor_selector\u001b[0m:\u001b[36mget_extractor\u001b[0m:\u001b[36m68\u001b[0m - \u001b[33m\u001b[1mNo image extractor found for the url: https://techcrunch.com/category/artificial-intelligence/. The data retrieve will not contain an image_url\u001b[0m\n",
      "\u001b[32m2025-10-08 17:23:02.216\u001b[0m | \u001b[31m\u001b[1mERROR   \u001b[0m | \u001b[36mai_news_pipeline.extractors.news.news_extractors\u001b[0m:\u001b[36mget_articles\u001b[0m:\u001b[36m160\u001b[0m - \u001b[31m\u001b[1mNo articles extracted from https://techcrunch.com/category/artificial-intelligence/  Make sure the url is RSS-compatible\u001b[0m\n"
     ]
    }
   ],
   "source": [
    "extractor.set_current_feed_url(bad_feed_url)\n",
    "\n",
    "news = extractor.get_articles()\n",
    "\n",
    "news"
   ]
  },
  {
   "cell_type": "markdown",
   "id": "e3e00336",
   "metadata": {},
   "source": [
    "After getting the dataframe, you can modify it as you want"
   ]
  },
  {
   "cell_type": "markdown",
   "id": "30029f8c",
   "metadata": {},
   "source": []
  }
 ],
 "metadata": {
  "kernelspec": {
   "display_name": "ai-hub-sharepoint-agent",
   "language": "python",
   "name": "python3"
  },
  "language_info": {
   "codemirror_mode": {
    "name": "ipython",
    "version": 3
   },
   "file_extension": ".py",
   "mimetype": "text/x-python",
   "name": "python",
   "nbconvert_exporter": "python",
   "pygments_lexer": "ipython3",
   "version": "3.12.11"
  }
 },
 "nbformat": 4,
 "nbformat_minor": 5
}
