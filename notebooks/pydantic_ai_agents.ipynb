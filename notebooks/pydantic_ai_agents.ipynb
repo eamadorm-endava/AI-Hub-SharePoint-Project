{
 "cells": [
  {
   "cell_type": "markdown",
   "id": "f4b42e28",
   "metadata": {},
   "source": [
    "# AI Agent\n",
    "\n",
    "This notebook is to test the basics related to the AI Agent"
   ]
  },
  {
   "cell_type": "code",
   "execution_count": 14,
   "id": "87abb054",
   "metadata": {},
   "outputs": [],
   "source": [
    "from pydantic_ai import Agent, ImageUrl\n",
    "from pydantic_ai.models.google import GoogleModel, GoogleModelSettings\n",
    "from pydantic_ai.providers.google import GoogleProvider\n",
    "\n",
    "import sys\n",
    "\n",
    "sys.path.append(\"..\")\n",
    "\n",
    "from agent.config import AgentConfig"
   ]
  },
  {
   "cell_type": "markdown",
   "id": "05d873ec",
   "metadata": {},
   "source": [
    "## Set up a basic AI Agent"
   ]
  },
  {
   "cell_type": "code",
   "execution_count": 15,
   "id": "82d94ac5",
   "metadata": {},
   "outputs": [],
   "source": [
    "agent_config = AgentConfig()\n",
    "\n",
    "# To load the Gemini API key from GCP Secret Manager\n",
    "agent_config.load_gemini_api_key()"
   ]
  },
  {
   "cell_type": "code",
   "execution_count": 16,
   "id": "d44c4f00",
   "metadata": {},
   "outputs": [],
   "source": [
    "provider = GoogleProvider(api_key=agent_config.GEMINI_API_KEY.get_secret_value())\n",
    "model = GoogleModel(model_name=agent_config.GEMINI_MODEL_NAME, provider=provider)\n",
    "model_settings = GoogleModelSettings(temperature=agent_config.MODEL_TEMPERATURE)\n",
    "\n",
    "agent = Agent(model=model, model_settings=model_settings)"
   ]
  },
  {
   "cell_type": "markdown",
   "id": "4ec669e0",
   "metadata": {},
   "source": [
    "## Execute a simple agent request\n",
    "\n",
    "For more info, use the [pydantic-AI documentation](https://ai.pydantic.dev/agents/#introduction)"
   ]
  },
  {
   "cell_type": "code",
   "execution_count": 4,
   "id": "66dd41d4",
   "metadata": {},
   "outputs": [],
   "source": [
    "response = await agent.run(\"Whats your name?\")"
   ]
  },
  {
   "cell_type": "code",
   "execution_count": 5,
   "id": "486a59b7",
   "metadata": {},
   "outputs": [
    {
     "data": {
      "text/plain": [
       "'I do not have a name. I am a large language model, trained by Google.'"
      ]
     },
     "execution_count": 5,
     "metadata": {},
     "output_type": "execute_result"
    }
   ],
   "source": [
    "response.output"
   ]
  },
  {
   "cell_type": "code",
   "execution_count": 6,
   "id": "42e9b1a5",
   "metadata": {},
   "outputs": [
    {
     "data": {
      "text/plain": [
       "[ModelRequest(parts=[UserPromptPart(content='Whats your name?', timestamp=datetime.datetime(2025, 10, 17, 21, 56, 12, 432920, tzinfo=datetime.timezone.utc))]),\n",
       " ModelResponse(parts=[TextPart(content='I do not have a name. I am a large language model, trained by Google.')], usage=RequestUsage(input_tokens=5, output_tokens=236, details={'thoughts_tokens': 218, 'text_prompt_tokens': 5}), model_name='gemini-2.5-pro', timestamp=datetime.datetime(2025, 10, 17, 21, 56, 15, 195230, tzinfo=datetime.timezone.utc), provider_name='google-gla', provider_details={'finish_reason': 'STOP'}, provider_response_id='f7vyaLDqBqmvqtsP0qDjmAs', finish_reason='stop')]"
      ]
     },
     "execution_count": 6,
     "metadata": {},
     "output_type": "execute_result"
    }
   ],
   "source": [
    "# Retrieves a list of all messages (ModelMessage objects) exchanged during the conversation\n",
    "\n",
    "response.all_messages()"
   ]
  },
  {
   "cell_type": "markdown",
   "id": "c06d04ff",
   "metadata": {},
   "source": [
    "## Keep the chat history"
   ]
  },
  {
   "cell_type": "code",
   "execution_count": 11,
   "id": "736c0585",
   "metadata": {},
   "outputs": [
    {
     "name": "stdout",
     "output_type": "stream",
     "text": [
      "Agent: Of course! Here is a comprehensive explanation of nuclear energy, broken down into simple terms.\n",
      "\n",
      "### **What is Nuclear Energy? The Simple Answer**\n",
      "\n",
      "At its core, **nuclear energy is the energy stored in the nucleus (the core) of an atom.**\n",
      "\n",
      "Atoms are the tiny particles that make up every object in the universe. This energy can be released in two main ways:\n",
      "1.  **Nuclear Fission:** Splitting an atom apart. (This is how all current nuclear power plants work).\n",
      "2.  **Nuclear Fusion:** Fusing two atoms together. (This is how the sun creates energy, and it's a technology we are trying to develop on Earth).\n",
      "\n",
      "Because the forces holding an atom's nucleus together are incredibly strong, releasing that energy creates a tremendous amount of heat.\n",
      "\n",
      "---\n",
      "\n",
      "### **How Nuclear Power Plants Work (Nuclear Fission)**\n",
      "\n",
      "Think of a nuclear power plant as a giant, high-tech kettle. Its main job is to boil water to create steam, which then turns a turbine to generate electricity. The only thing that makes it different from a coal or gas plant is *how* it boils the water.\n",
      "\n",
      "Here’s the step-by-step process:\n",
      "\n",
      "#### **1. The Fuel: Uranium**\n",
      "The most common fuel used is **Uranium**, specifically an isotope called **Uranium-235 (U-235)**. U-235 is special because its nucleus is relatively unstable and can be easily split. The uranium is formed into small ceramic pellets, each about the size of a gummy bear.\n",
      "\n",
      "> **Energy Density:** A single one of these uranium pellets contains as much energy as **one ton of coal** or **150 gallons of oil**.\n",
      "\n",
      "These pellets are stacked into long metal rods called fuel rods, which are then bundled together to form a fuel assembly.\n",
      "\n",
      "#### **2. The Reaction: Fission and the Chain Reaction**\n",
      "Inside the **reactor core**, the process of **nuclear fission** begins.\n",
      "\n",
      "*   A neutron is fired at a U-235 atom.\n",
      "*   The atom absorbs the neutron, becomes highly unstable, and splits into smaller atoms.\n",
      "*   This splitting releases a huge amount of energy in the form of heat, as well as more neutrons.\n",
      "*   These new neutrons fly off and hit other U-235 atoms, causing them to split, which releases more heat and more neutrons.\n",
      "\n",
      "This process is called a **chain reaction**. In a nuclear power plant, this reaction is carefully controlled using **control rods**, which can be raised or lowered to absorb neutrons and slow down or speed up the reaction.\n",
      "\n",
      "\n",
      "\n",
      "#### **3. Generating Electricity**\n",
      "*   **Heat:** The immense heat from the chain reaction is used to heat water in a closed loop, turning it into very high-pressure steam.\n",
      "*   **Turbine:** The high-pressure steam is piped to a turbine, causing its blades to spin at high speed (like a pinwheel).\n",
      "*   **Generator:** The spinning turbine is connected to a generator, which converts the mechanical energy of the spinning into electrical energy.\n",
      "*   **Cooling:** The steam is then cooled down, condensed back into water, and sent back to the reactor to be heated again, completing the cycle.\n",
      "\n",
      "---\n",
      "\n",
      "### **The Pros and Cons of Nuclear Energy**\n",
      "\n",
      "Nuclear energy is a powerful tool, but it comes with a significant debate.\n",
      "\n",
      "#### **Advantages (Pros)**\n",
      "\n",
      "1.  **Carbon-Free Electricity:** Nuclear power plants do not burn anything, so they produce no greenhouse gases (like CO2) during operation. This makes them a powerful tool in fighting climate change.\n",
      "2.  **High Power Output & Reliability:** A single plant can generate a massive amount of electricity, 24/7, regardless of the weather. This is known as \"baseload power,\" which is crucial for a stable electric grid.\n",
      "3.  **Small Land Footprint:** Compared to solar or wind farms, a nuclear power plant requires very little land to produce the same amount of energy.\n",
      "4.  **High Energy Density:** As mentioned, the fuel is incredibly dense, meaning a small amount of uranium can produce a vast amount of power.\n",
      "\n",
      "#### **Disadvantages (Cons)**\n",
      "\n",
      "1.  **Nuclear Waste:** The used fuel rods are highly radioactive and will remain dangerous for thousands of years. Storing this waste safely for the long term is a major technical and political challenge. Currently, most of it is stored on-site at the power plants.\n",
      "2.  **Safety and Accidents:** Though rare, accidents can be catastrophic. Events like **Chernobyl (1986)** and **Fukushima (2011)** have created significant public fear and highlighted the potential dangers. Modern reactors have much more advanced safety features, but the risk can never be zero.\n",
      "3.  **High Upfront Cost & Long Construction Time:** Building a nuclear power plant is extremely expensive and can take a decade or more, making it a difficult investment.\n",
      "4.  **Nuclear Proliferation:** There is a concern that the technology and materials used for nuclear energy could be diverted to produce nuclear weapons.\n",
      "\n",
      "---\n",
      "\n",
      "### **The Future: Nuclear Fusion and Advanced Reactors**\n",
      "\n",
      "*   **Nuclear Fusion:** Often called the \"holy grail\" of energy, fusion involves fusing small atoms (like hydrogen) together. It promises to be even more powerful than fission, create far less radioactive waste, and use abundant fuel (like hydrogen from water). However, it is incredibly difficult to achieve and is still in the experimental stage.\n",
      "\n",
      "*   **Advanced Reactors:** Scientists are developing new, smaller, and safer reactor designs, such as **Small Modular Reactors (SMRs)**. These aim to be cheaper, faster to build, and have passive safety features that make meltdowns virtually impossible.\n",
      "\n",
      "In summary, **nuclear energy is the powerful energy released from the core of an atom**. By harnessing it through fission, we can generate a reliable, carbon-free source of electricity, but we must also manage significant challenges related to waste, safety, and cost. It remains one of the most powerful and controversial technologies in the global conversation about energy and climate change.\n",
      "Agent: Of course. Nuclear energy is a powerful but highly controversial topic, with very clear and significant pros and cons. Here is a detailed breakdown of both sides.\n",
      "\n",
      "---\n",
      "\n",
      "### **Advantages (Pros) of Nuclear Energy**\n",
      "\n",
      "#### 1. **Carbon-Free Electricity**\n",
      "This is arguably the most significant advantage in the modern era. Nuclear power plants do not burn fossil fuels, so they do not produce greenhouse gases like carbon dioxide (CO2) or methane during operation. This makes nuclear energy a powerful tool for combating climate change.\n",
      "\n",
      "#### 2. **High Power Output and Reliability**\n",
      "A single nuclear power plant can generate a massive amount of electricity, typically far more than a solar or wind farm of a similar size. Furthermore, it operates 24/7, regardless of the weather or time of day. This provides a consistent and reliable source of \"baseload power,\" which is essential for stabilizing the electrical grid.\n",
      "\n",
      "#### 3. **Small Land Footprint**\n",
      "Compared to renewable energy sources, nuclear power has an incredibly small land footprint. To produce the same amount of electricity as a typical 1,000-megawatt nuclear facility, you would need a solar farm covering dozens of square miles or a wind farm covering hundreds of square miles.\n",
      "\n",
      "#### 4. **High Energy Density of Fuel**\n",
      "Uranium is an extremely potent fuel source. A single uranium fuel pellet, about the size of a gummy bear, contains the energy equivalent of:\n",
      "*   One ton of coal\n",
      "*   150 gallons of oil\n",
      "*   17,000 cubic feet of natural gas\n",
      "\n",
      "This means less fuel needs to be mined, transported, and stored compared to fossil fuels.\n",
      "\n",
      "#### 5. **Low Operating Costs**\n",
      "While building a nuclear power plant is extremely expensive, its operating costs are relatively low. Uranium is a small fraction of the total cost of energy production, making the price of electricity from nuclear power stable and less vulnerable to the volatile price swings of oil and gas markets.\n",
      "\n",
      "---\n",
      "\n",
      "### **Disadvantages (Cons) of Nuclear Energy**\n",
      "\n",
      "#### 1. **Long-Term Nuclear Waste Storage**\n",
      "This is the most significant and unresolved challenge. The used nuclear fuel (spent fuel) is highly radioactive and will remain dangerous for hundreds of thousands of years. Currently, there is no universally agreed-upon permanent disposal solution. Most countries store this waste in temporary, secure facilities at the power plants themselves, which is not a sustainable long-term plan.\n",
      "\n",
      "#### 2. **Risk of Accidents and Public Safety**\n",
      "Although rare, accidents at nuclear power plants can be catastrophic and have long-lasting environmental and health consequences. High-profile disasters like **Chernobyl (1986)** in Ukraine and **Fukushima (2011)** in Japan have created deep public fear and distrust of the technology. While modern reactors have multiple layers of advanced safety features, the potential for human error or natural disaster means the risk can never be entirely eliminated.\n",
      "\n",
      "#### 3. **High Upfront Cost and Long Construction Time**\n",
      "Nuclear power plants are among the most expensive and complex infrastructure projects in the world. They have enormous upfront capital costs (billions of dollars) and can take a decade or more to build due to strict regulations, complex engineering, and political hurdles. The high cost of decommissioning (safely shutting down and dismantling) the plant at the end of its life also adds to the overall expense.\n",
      "\n",
      "#### 4. **Nuclear Proliferation Risk**\n",
      "There is a concern that the technology and materials used in civilian nuclear programs (like uranium enrichment) could be diverted to produce nuclear weapons. The international community has strict safeguards in place to prevent this, but the risk remains a geopolitical concern.\n",
      "\n",
      "#### 5. **Negative Public Perception**\n",
      "Due to the association with nuclear weapons and high-profile accidents, public opinion on nuclear energy is often negative. This can make it politically difficult to approve and build new plants, a phenomenon often referred to as \"NIMBY\" (Not In My Backyard).\n",
      "\n",
      "### **Summary Table**\n",
      "\n",
      "| Advantages (Pros)                               | Disadvantages (Cons)                                 |\n",
      "| ----------------------------------------------- | ---------------------------------------------------- |\n",
      "| **No Greenhouse Gas Emissions** (Clean Air)     | **Long-Term Radioactive Waste** (Storage Problem)    |\n",
      "| **High, Reliable Power Output** (24/7 Power)    | **Risk of Catastrophic Accidents** (Safety Concerns) |\n",
      "| **Small Land Footprint** (Land-Efficient)       | **Extremely High Upfront Costs** (Expensive to Build) |\n",
      "| **High Fuel Energy Density** (Efficient Fuel)   | **Nuclear Proliferation Risk** (Weapons Concern)     |\n",
      "| **Low and Stable Operating Costs**              | **Negative Public Perception** (Political Hurdle)    |\n",
      "\n",
      "In conclusion, nuclear energy presents a major trade-off: it offers a powerful, reliable, and carbon-free source of energy that could be crucial for fighting climate change, but it comes with serious long-term challenges related to waste, safety, and cost that have yet to be fully resolved.\n"
     ]
    },
    {
     "data": {
      "text/plain": [
       "'Of course. Here is a summary of our conversation:\\n\\nNuclear energy is the power released from splitting atoms (a process called fission) to generate immense heat, which is then used to create electricity. Its greatest advantage is producing a massive amount of reliable, carbon-free power, making it a powerful tool against climate change. However, it is highly controversial due to major challenges like the long-term storage of radioactive waste, the risk of catastrophic accidents, and the enormous cost of building new plants.'"
      ]
     },
     "execution_count": 11,
     "metadata": {},
     "output_type": "execute_result"
    }
   ],
   "source": [
    "history = [] # List of ModelMessage objects\n",
    "\n",
    "user_input = \"What is nuclear energy?\"\n",
    "response = await agent.run(user_input, message_history=history)\n",
    "history = response.all_messages()\n",
    "print(\"Agent:\", response.output)\n",
    "\n",
    "user_input = \"What are its pros and cons?\"\n",
    "response = await agent.run(user_input, message_history=history)\n",
    "history = response.all_messages()\n",
    "print(\"Agent:\", response.output)\n",
    "\n",
    "last_answer = await agent.run(\"Summarize our conversation in a few sentences\", message_history=response.all_messages())\n",
    "\n",
    "last_answer.output"
   ]
  },
  {
   "cell_type": "code",
   "execution_count": 13,
   "id": "7309d8c3",
   "metadata": {},
   "outputs": [
    {
     "data": {
      "text/plain": [
       "[ModelRequest(parts=[UserPromptPart(content='What is nuclear energy?', timestamp=datetime.datetime(2025, 10, 18, 2, 33, 9, 774320, tzinfo=datetime.timezone.utc))]),\n",
       " ModelResponse(parts=[TextPart(content=\"Of course! Here is a comprehensive explanation of nuclear energy, broken down into simple terms.\\n\\n### **What is Nuclear Energy? The Simple Answer**\\n\\nAt its core, **nuclear energy is the energy stored in the nucleus (the core) of an atom.**\\n\\nAtoms are the tiny particles that make up every object in the universe. This energy can be released in two main ways:\\n1.  **Nuclear Fission:** Splitting an atom apart. (This is how all current nuclear power plants work).\\n2.  **Nuclear Fusion:** Fusing two atoms together. (This is how the sun creates energy, and it's a technology we are trying to develop on Earth).\\n\\nBecause the forces holding an atom's nucleus together are incredibly strong, releasing that energy creates a tremendous amount of heat.\\n\\n---\\n\\n### **How Nuclear Power Plants Work (Nuclear Fission)**\\n\\nThink of a nuclear power plant as a giant, high-tech kettle. Its main job is to boil water to create steam, which then turns a turbine to generate electricity. The only thing that makes it different from a coal or gas plant is *how* it boils the water.\\n\\nHere’s the step-by-step process:\\n\\n#### **1. The Fuel: Uranium**\\nThe most common fuel used is **Uranium**, specifically an isotope called **Uranium-235 (U-235)**. U-235 is special because its nucleus is relatively unstable and can be easily split. The uranium is formed into small ceramic pellets, each about the size of a gummy bear.\\n\\n> **Energy Density:** A single one of these uranium pellets contains as much energy as **one ton of coal** or **150 gallons of oil**.\\n\\nThese pellets are stacked into long metal rods called fuel rods, which are then bundled together to form a fuel assembly.\\n\\n#### **2. The Reaction: Fission and the Chain Reaction**\\nInside the **reactor core**, the process of **nuclear fission** begins.\\n\\n*   A neutron is fired at a U-235 atom.\\n*   The atom absorbs the neutron, becomes highly unstable, and splits into smaller atoms.\\n*   This splitting releases a huge amount of energy in the form of heat, as well as more neutrons.\\n*   These new neutrons fly off and hit other U-235 atoms, causing them to split, which releases more heat and more neutrons.\\n\\nThis process is called a **chain reaction**. In a nuclear power plant, this reaction is carefully controlled using **control rods**, which can be raised or lowered to absorb neutrons and slow down or speed up the reaction.\\n\\n\"), TextPart(content='\\n\\n#### **3. Generating Electricity**\\n*   **Heat:** The immense heat from the chain reaction is used to heat water in a closed loop, turning it into very high-pressure steam.\\n*   **Turbine:** The high-pressure steam is piped to a turbine, causing its blades to spin at high speed (like a pinwheel).\\n*   **Generator:** The spinning turbine is connected to a generator, which converts the mechanical energy of the spinning into electrical energy.\\n*   **Cooling:** The steam is then cooled down, condensed back into water, and sent back to the reactor to be heated again, completing the cycle.\\n\\n---\\n\\n### **The Pros and Cons of Nuclear Energy**\\n\\nNuclear energy is a powerful tool, but it comes with a significant debate.\\n\\n#### **Advantages (Pros)**\\n\\n1.  **Carbon-Free Electricity:** Nuclear power plants do not burn anything, so they produce no greenhouse gases (like CO2) during operation. This makes them a powerful tool in fighting climate change.\\n2.  **High Power Output & Reliability:** A single plant can generate a massive amount of electricity, 24/7, regardless of the weather. This is known as \"baseload power,\" which is crucial for a stable electric grid.\\n3.  **Small Land Footprint:** Compared to solar or wind farms, a nuclear power plant requires very little land to produce the same amount of energy.\\n4.  **High Energy Density:** As mentioned, the fuel is incredibly dense, meaning a small amount of uranium can produce a vast amount of power.\\n\\n#### **Disadvantages (Cons)**\\n\\n1.  **Nuclear Waste:** The used fuel rods are highly radioactive and will remain dangerous for thousands of years. Storing this waste safely for the long term is a major technical and political challenge. Currently, most of it is stored on-site at the power plants.\\n2.  **Safety and Accidents:** Though rare, accidents can be catastrophic. Events like **Chernobyl (1986)** and **Fukushima (2011)** have created significant public fear and highlighted the potential dangers. Modern reactors have much more advanced safety features, but the risk can never be zero.\\n3.  **High Upfront Cost & Long Construction Time:** Building a nuclear power plant is extremely expensive and can take a decade or more, making it a difficult investment.\\n4.  **Nuclear Proliferation:** There is a concern that the technology and materials used for nuclear energy could be diverted to produce nuclear weapons.\\n\\n---\\n\\n### **The Future: Nuclear Fusion and Advanced Reactors**\\n\\n*   **Nuclear Fusion:** Often called the \"holy grail\" of energy, fusion involves fusing small atoms (like hydrogen) together. It promises to be even more powerful than fission, create far less radioactive waste, and use abundant fuel (like hydrogen from water). However, it is incredibly difficult to achieve and is still in the experimental stage.\\n\\n*   **Advanced Reactors:** Scientists are developing new, smaller, and safer reactor designs, such as **Small Modular Reactors (SMRs)**. These aim to be cheaper, faster to build, and have passive safety features that make meltdowns virtually impossible.\\n\\nIn summary, **nuclear energy is the powerful energy released from the core of an atom**. By harnessing it through fission, we can generate a reliable, carbon-free source of electricity, but we must also manage significant challenges related to waste, safety, and cost. It remains one of the most powerful and controversial technologies in the global conversation about energy and climate change.')], usage=RequestUsage(input_tokens=6, output_tokens=2630, details={'thoughts_tokens': 1339, 'text_prompt_tokens': 6}), model_name='gemini-2.5-pro', timestamp=datetime.datetime(2025, 10, 18, 2, 33, 32, 677603, tzinfo=datetime.timezone.utc), provider_name='google-gla', provider_details={'finish_reason': 'STOP'}, provider_response_id='fPzyaNDXJM6dz7IPmIOtwAo', finish_reason='stop'),\n",
       " ModelRequest(parts=[UserPromptPart(content='What are its pros and cons?', timestamp=datetime.datetime(2025, 10, 18, 2, 33, 32, 679401, tzinfo=datetime.timezone.utc))]),\n",
       " ModelResponse(parts=[TextPart(content='Of course. Nuclear energy is a powerful but highly controversial topic, with very clear and significant pros and cons. Here is a detailed breakdown of both sides.\\n\\n---\\n\\n### **Advantages (Pros) of Nuclear Energy**\\n\\n#### 1. **Carbon-Free Electricity**\\nThis is arguably the most significant advantage in the modern era. Nuclear power plants do not burn fossil fuels, so they do not produce greenhouse gases like carbon dioxide (CO2) or methane during operation. This makes nuclear energy a powerful tool for combating climate change.\\n\\n#### 2. **High Power Output and Reliability**\\nA single nuclear power plant can generate a massive amount of electricity, typically far more than a solar or wind farm of a similar size. Furthermore, it operates 24/7, regardless of the weather or time of day. This provides a consistent and reliable source of \"baseload power,\" which is essential for stabilizing the electrical grid.\\n\\n#### 3. **Small Land Footprint**\\nCompared to renewable energy sources, nuclear power has an incredibly small land footprint. To produce the same amount of electricity as a typical 1,000-megawatt nuclear facility, you would need a solar farm covering dozens of square miles or a wind farm covering hundreds of square miles.\\n\\n#### 4. **High Energy Density of Fuel**\\nUranium is an extremely potent fuel source. A single uranium fuel pellet, about the size of a gummy bear, contains the energy equivalent of:\\n*   One ton of coal\\n*   150 gallons of oil\\n*   17,000 cubic feet of natural gas\\n\\nThis means less fuel needs to be mined, transported, and stored compared to fossil fuels.\\n\\n#### 5. **Low Operating Costs**\\nWhile building a nuclear power plant is extremely expensive, its operating costs are relatively low. Uranium is a small fraction of the total cost of energy production, making the price of electricity from nuclear power stable and less vulnerable to the volatile price swings of oil and gas markets.\\n\\n---\\n\\n### **Disadvantages (Cons) of Nuclear Energy**\\n\\n#### 1. **Long-Term Nuclear Waste Storage**\\nThis is the most significant and unresolved challenge. The used nuclear fuel (spent fuel) is highly radioactive and will remain dangerous for hundreds of thousands of years. Currently, there is no universally agreed-upon permanent disposal solution. Most countries store this waste in temporary, secure facilities at the power plants themselves, which is not a sustainable long-term plan.\\n\\n#### 2. **Risk of Accidents and Public Safety**\\nAlthough rare, accidents at nuclear power plants can be catastrophic and have long-lasting environmental and health consequences. High-profile disasters like **Chernobyl (1986)** in Ukraine and **Fukushima (2011)** in Japan have created deep public fear and distrust of the technology. While modern reactors have multiple layers of advanced safety features, the potential for human error or natural disaster means the risk can never be entirely eliminated.\\n\\n#### 3. **High Upfront Cost and Long Construction Time**\\nNuclear power plants are among the most expensive and complex infrastructure projects in the world. They have enormous upfront capital costs (billions of dollars) and can take a decade or more to build due to strict regulations, complex engineering, and political hurdles. The high cost of decommissioning (safely shutting down and dismantling) the plant at the end of its life also adds to the overall expense.\\n\\n#### 4. **Nuclear Proliferation Risk**\\nThere is a concern that the technology and materials used in civilian nuclear programs (like uranium enrichment) could be diverted to produce nuclear weapons. The international community has strict safeguards in place to prevent this, but the risk remains a geopolitical concern.\\n\\n#### 5. **Negative Public Perception**\\nDue to the association with nuclear weapons and high-profile accidents, public opinion on nuclear energy is often negative. This can make it politically difficult to approve and build new plants, a phenomenon often referred to as \"NIMBY\" (Not In My Backyard).\\n\\n### **Summary Table**\\n\\n| Advantages (Pros)                               | Disadvantages (Cons)                                 |\\n| ----------------------------------------------- | ---------------------------------------------------- |\\n| **No Greenhouse Gas Emissions** (Clean Air)     | **Long-Term Radioactive Waste** (Storage Problem)    |\\n| **High, Reliable Power Output** (24/7 Power)    | **Risk of Catastrophic Accidents** (Safety Concerns) |\\n| **Small Land Footprint** (Land-Efficient)       | **Extremely High Upfront Costs** (Expensive to Build) |\\n| **High Fuel Energy Density** (Efficient Fuel)   | **Nuclear Proliferation Risk** (Weapons Concern)     |\\n| **Low and Stable Operating Costs**              | **Negative Public Perception** (Political Hurdle)    |\\n\\nIn conclusion, nuclear energy presents a major trade-off: it offers a powerful, reliable, and carbon-free source of energy that could be crucial for fighting climate change, but it comes with serious long-term challenges related to waste, safety, and cost that have yet to be fully resolved.')], usage=RequestUsage(input_tokens=1305, output_tokens=2235, details={'thoughts_tokens': 1171, 'text_prompt_tokens': 1305}), model_name='gemini-2.5-pro', timestamp=datetime.datetime(2025, 10, 18, 2, 33, 51, 515866, tzinfo=datetime.timezone.utc), provider_name='google-gla', provider_details={'finish_reason': 'STOP'}, provider_response_id='j_zyaOznGcrUz7IPj4KDsQ4', finish_reason='stop'),\n",
       " ModelRequest(parts=[UserPromptPart(content='Summarize our conversation in a few sentences', timestamp=datetime.datetime(2025, 10, 18, 2, 33, 51, 516933, tzinfo=datetime.timezone.utc))]),\n",
       " ModelResponse(parts=[TextPart(content='Of course. Here is a summary of our conversation:\\n\\nNuclear energy is the power released from splitting atoms (a process called fission) to generate immense heat, which is then used to create electricity. Its greatest advantage is producing a massive amount of reliable, carbon-free power, making it a powerful tool against climate change. However, it is highly controversial due to major challenges like the long-term storage of radioactive waste, the risk of catastrophic accidents, and the enormous cost of building new plants.')], usage=RequestUsage(input_tokens=2379, output_tokens=1155, details={'thoughts_tokens': 1055, 'text_prompt_tokens': 2379}), model_name='gemini-2.5-pro', timestamp=datetime.datetime(2025, 10, 18, 2, 34, 1, 553257, tzinfo=datetime.timezone.utc), provider_name='google-gla', provider_details={'finish_reason': 'STOP'}, provider_response_id='mfzyaObyGZjXz7IPl4jE6Ao', finish_reason='stop')]"
      ]
     },
     "execution_count": 13,
     "metadata": {},
     "output_type": "execute_result"
    }
   ],
   "source": [
    "last_answer.all_messages()"
   ]
  },
  {
   "cell_type": "markdown",
   "id": "c63787ca",
   "metadata": {},
   "source": [
    "## Adding images to the input"
   ]
  },
  {
   "cell_type": "code",
   "execution_count": 23,
   "id": "22071943",
   "metadata": {},
   "outputs": [
    {
     "data": {
      "text/plain": [
       "'Based on the image provided, this is a promotional-style wallpaper or poster of the **Real Madrid football club from the 2014-2015 season**.\\n\\nHere are the key details that identify the image:\\n\\n*   **The Team:** It features the star-studded lineup of Real Madrid from that era.\\n*   **The Occasion:** The image celebrates two major achievements:\\n    *   **La Décima:** The badge in the top left corner with the number \"10\" signifies their 10th UEFA Champions League title, won in the 2013-2014 season.\\n    *   **FIFA Club World Cup Champions:** The badge in the top right corner is the official FIFA World Champions patch, which Real Madrid earned by winning the Club World Cup in December 2014. This specific patch places the image firmly in the 2014-2015 season.\\n*   **The Kit:** The players are wearing the 2014-2015 home kit, which was white with black Adidas stripes. The stylized dragons in the background were a design motif used by the club that season, notably on their black third kit designed by Yohji Yamamoto.\\n\\nThe players featured in the image are (from left to right):\\n\\n1.  **Dani Carvajal**\\n2.  **Luka Modrić**\\n3.  **Karim Benzema**\\n4.  **Gareth Bale**\\n5.  **Sergio Ramos**\\n6.  **Iker Casillas** (Goalkeeper and captain, in the center)\\n7.  **Cristiano Ronaldo**\\n8.  **Toni Kroos**\\n9.  **Isco**\\n10. **Marcelo**\\n11. **Pepe**'"
      ]
     },
     "execution_count": 23,
     "metadata": {},
     "output_type": "execute_result"
    }
   ],
   "source": [
    "response = await agent.run([\n",
    "    \"What image is this?\", \n",
    "    ImageUrl(\n",
    "        url=\"https://th.bing.com/th/id/R.56465a807f77d56fc9a6fd4d0a94f1c2?rik=9U3hFwTXDtqJOg&riu=http%3a%2f%2fwallpapercave.com%2fwp%2fwc1674567.jpg&ehk=t0bjDuQ0Mc34PFHBiFLjjk7Yg3ma0HaksetqDISHEX0%3d&risl=&pid=ImgRaw&r=0\")\n",
    "    ])\n",
    "\n",
    "response.output"
   ]
  },
  {
   "cell_type": "markdown",
   "id": "9fbf6002",
   "metadata": {},
   "source": [
    "## Agent Tools\n",
    "\n",
    "In this section of the notebook, some tools that the agent will use are tested."
   ]
  },
  {
   "cell_type": "code",
   "execution_count": 3,
   "id": "7a0ec144",
   "metadata": {},
   "outputs": [],
   "source": [
    "import sys\n",
    "\n",
    "sys.path.append(\"..\")\n",
    "\n",
    "from agent.tools.text_to_speech import text_to_speech\n",
    "from agent.tools.cloud_storage import upload_text_to_gcs\n",
    "from agent.tools.image_generation import generate_images\n",
    "\n",
    "from agent.tools.tool_schemas import ImaGenRequest"
   ]
  },
  {
   "cell_type": "markdown",
   "id": "2f8a0c52",
   "metadata": {},
   "source": [
    "### Text To Speech Tool"
   ]
  },
  {
   "cell_type": "code",
   "execution_count": 3,
   "id": "46c48e9f",
   "metadata": {},
   "outputs": [
    {
     "name": "stderr",
     "output_type": "stream",
     "text": [
      "\u001b[32m2025-10-20 01:37:53.872\u001b[0m | \u001b[1mINFO    \u001b[0m | \u001b[36magent.tools.text_to_speech\u001b[0m:\u001b[36mtext_to_speech\u001b[0m:\u001b[36m148\u001b[0m - \u001b[1mUsing Text to Speech Tool...\u001b[0m\n",
      "\u001b[32m2025-10-20 01:37:53.874\u001b[0m | \u001b[34m\u001b[1mDEBUG   \u001b[0m | \u001b[36magent.tools.text_to_speech\u001b[0m:\u001b[36mtext_to_speech\u001b[0m:\u001b[36m174\u001b[0m - \u001b[34m\u001b[1mtitle ='audiotest'\u001b[0m\n",
      "\u001b[32m2025-10-20 01:37:53.875\u001b[0m | \u001b[34m\u001b[1mDEBUG   \u001b[0m | \u001b[36magent.tools.text_to_speech\u001b[0m:\u001b[36mtext_to_speech\u001b[0m:\u001b[36m175\u001b[0m - \u001b[34m\u001b[1mtext ='Hi, welcome to Pydantic AI Agents!'\u001b[0m\n",
      "\u001b[32m2025-10-20 01:37:53.875\u001b[0m | \u001b[34m\u001b[1mDEBUG   \u001b[0m | \u001b[36magent.tools.text_to_speech\u001b[0m:\u001b[36mtext_to_speech\u001b[0m:\u001b[36m176\u001b[0m - \u001b[34m\u001b[1mgcs_path ='audios'\u001b[0m\n",
      "\u001b[32m2025-10-20 01:37:53.876\u001b[0m | \u001b[34m\u001b[1mDEBUG   \u001b[0m | \u001b[36magent.tools.text_to_speech\u001b[0m:\u001b[36mtext_to_speech\u001b[0m:\u001b[36m177\u001b[0m - \u001b[34m\u001b[1mfull_gcs_path ='audios/audiotest.wav'\u001b[0m\n",
      "\u001b[32m2025-10-20 01:37:53.877\u001b[0m | \u001b[34m\u001b[1mDEBUG   \u001b[0m | \u001b[36magent.tools.text_to_speech\u001b[0m:\u001b[36mtext_to_speech\u001b[0m:\u001b[36m179\u001b[0m - \u001b[34m\u001b[1mCreating audio...\u001b[0m\n",
      "\u001b[32m2025-10-20 01:37:53.878\u001b[0m | \u001b[1mINFO    \u001b[0m | \u001b[36magent.tools.text_to_speech\u001b[0m:\u001b[36msingle_speaker_tts_audio\u001b[0m:\u001b[36m54\u001b[0m - \u001b[1mGenerating single-speaker TTS audio...\u001b[0m\n",
      "\u001b[32m2025-10-20 01:37:57.511\u001b[0m | \u001b[34m\u001b[1mDEBUG   \u001b[0m | \u001b[36magent.tools.text_to_speech\u001b[0m:\u001b[36msingle_speaker_tts_audio\u001b[0m:\u001b[36m75\u001b[0m - \u001b[34m\u001b[1mConverting PCM to WAV bytes...\u001b[0m\n",
      "\u001b[32m2025-10-20 01:37:57.512\u001b[0m | \u001b[34m\u001b[1mDEBUG   \u001b[0m | \u001b[36magent.tools.text_to_speech\u001b[0m:\u001b[36mtext_to_speech\u001b[0m:\u001b[36m184\u001b[0m - \u001b[34m\u001b[1mAudio successfully created\u001b[0m\n",
      "\u001b[32m2025-10-20 01:37:57.513\u001b[0m | \u001b[34m\u001b[1mDEBUG   \u001b[0m | \u001b[36magent.tools.text_to_speech\u001b[0m:\u001b[36mtext_to_speech\u001b[0m:\u001b[36m186\u001b[0m - \u001b[34m\u001b[1mStoring audio bytes into GCS\u001b[0m\n",
      "\u001b[32m2025-10-20 01:37:58.506\u001b[0m | \u001b[1mINFO    \u001b[0m | \u001b[36mutils.gcp.gcs\u001b[0m:\u001b[36mupload_bytes\u001b[0m:\u001b[36m184\u001b[0m - \u001b[1mBytes data successfully stored in GCS bucket\u001b[0m\n",
      "\u001b[32m2025-10-20 01:37:58.507\u001b[0m | \u001b[1mINFO    \u001b[0m | \u001b[36magent.tools.text_to_speech\u001b[0m:\u001b[36mtext_to_speech\u001b[0m:\u001b[36m195\u001b[0m - \u001b[1mAudio stored in gs://ai-hub-sharepoint/audios/audiotest.wav\u001b[0m\n"
     ]
    }
   ],
   "source": [
    "audio_url = text_to_speech(\n",
    "    title=\"AudioTest\",\n",
    "    text =\"Hi, welcome to Pydantic AI Agents!\",\n",
    "    mode=\"single\"\n",
    ")"
   ]
  },
  {
   "cell_type": "code",
   "execution_count": 4,
   "id": "a948e74d",
   "metadata": {},
   "outputs": [
    {
     "name": "stderr",
     "output_type": "stream",
     "text": [
      "\u001b[32m2025-10-20 01:39:59.070\u001b[0m | \u001b[1mINFO    \u001b[0m | \u001b[36magent.tools.text_to_speech\u001b[0m:\u001b[36mtext_to_speech\u001b[0m:\u001b[36m148\u001b[0m - \u001b[1mUsing Text to Speech Tool...\u001b[0m\n",
      "\u001b[32m2025-10-20 01:39:59.073\u001b[0m | \u001b[34m\u001b[1mDEBUG   \u001b[0m | \u001b[36magent.tools.text_to_speech\u001b[0m:\u001b[36mtext_to_speech\u001b[0m:\u001b[36m174\u001b[0m - \u001b[34m\u001b[1mtitle ='multi_speaker_speech'\u001b[0m\n",
      "\u001b[32m2025-10-20 01:39:59.074\u001b[0m | \u001b[34m\u001b[1mDEBUG   \u001b[0m | \u001b[36magent.tools.text_to_speech\u001b[0m:\u001b[36mtext_to_speech\u001b[0m:\u001b[36m175\u001b[0m - \u001b[34m\u001b[1mtext ='Wendy: Hi, Emma!\\nEmma: Hi, Wendy!'\u001b[0m\n",
      "\u001b[32m2025-10-20 01:39:59.075\u001b[0m | \u001b[34m\u001b[1mDEBUG   \u001b[0m | \u001b[36magent.tools.text_to_speech\u001b[0m:\u001b[36mtext_to_speech\u001b[0m:\u001b[36m176\u001b[0m - \u001b[34m\u001b[1mgcs_path ='audios'\u001b[0m\n",
      "\u001b[32m2025-10-20 01:39:59.075\u001b[0m | \u001b[34m\u001b[1mDEBUG   \u001b[0m | \u001b[36magent.tools.text_to_speech\u001b[0m:\u001b[36mtext_to_speech\u001b[0m:\u001b[36m177\u001b[0m - \u001b[34m\u001b[1mfull_gcs_path ='audios/multi_speaker_speech.wav'\u001b[0m\n",
      "\u001b[32m2025-10-20 01:39:59.076\u001b[0m | \u001b[34m\u001b[1mDEBUG   \u001b[0m | \u001b[36magent.tools.text_to_speech\u001b[0m:\u001b[36mtext_to_speech\u001b[0m:\u001b[36m179\u001b[0m - \u001b[34m\u001b[1mCreating audio...\u001b[0m\n",
      "\u001b[32m2025-10-20 01:39:59.078\u001b[0m | \u001b[1mINFO    \u001b[0m | \u001b[36magent.tools.text_to_speech\u001b[0m:\u001b[36mmulti_speaker_tts_audio\u001b[0m:\u001b[36m91\u001b[0m - \u001b[1mGenerating multi-speaker TTS audio...\u001b[0m\n",
      "\u001b[32m2025-10-20 01:40:01.253\u001b[0m | \u001b[34m\u001b[1mDEBUG   \u001b[0m | \u001b[36magent.tools.text_to_speech\u001b[0m:\u001b[36mmulti_speaker_tts_audio\u001b[0m:\u001b[36m125\u001b[0m - \u001b[34m\u001b[1mConverting PCM to WAV bytes...\u001b[0m\n",
      "\u001b[32m2025-10-20 01:40:01.254\u001b[0m | \u001b[34m\u001b[1mDEBUG   \u001b[0m | \u001b[36magent.tools.text_to_speech\u001b[0m:\u001b[36mtext_to_speech\u001b[0m:\u001b[36m184\u001b[0m - \u001b[34m\u001b[1mAudio successfully created\u001b[0m\n",
      "\u001b[32m2025-10-20 01:40:01.255\u001b[0m | \u001b[34m\u001b[1mDEBUG   \u001b[0m | \u001b[36magent.tools.text_to_speech\u001b[0m:\u001b[36mtext_to_speech\u001b[0m:\u001b[36m186\u001b[0m - \u001b[34m\u001b[1mStoring audio bytes into GCS\u001b[0m\n",
      "\u001b[32m2025-10-20 01:40:01.655\u001b[0m | \u001b[1mINFO    \u001b[0m | \u001b[36mutils.gcp.gcs\u001b[0m:\u001b[36mupload_bytes\u001b[0m:\u001b[36m184\u001b[0m - \u001b[1mBytes data successfully stored in GCS bucket\u001b[0m\n",
      "\u001b[32m2025-10-20 01:40:01.656\u001b[0m | \u001b[1mINFO    \u001b[0m | \u001b[36magent.tools.text_to_speech\u001b[0m:\u001b[36mtext_to_speech\u001b[0m:\u001b[36m195\u001b[0m - \u001b[1mAudio stored in gs://ai-hub-sharepoint/audios/multi_speaker_speech.wav\u001b[0m\n"
     ]
    }
   ],
   "source": [
    "audio_url = text_to_speech(\n",
    "    title=\"Multi speaker speech\",\n",
    "    text=\"Wendy: Hi, Emma!\\nEmma: Hi, Wendy!\",\n",
    "    mode=\"multi\",\n",
    ")"
   ]
  },
  {
   "cell_type": "markdown",
   "id": "5d15cd51",
   "metadata": {},
   "source": [
    "### Google Cloud Storage Tools"
   ]
  },
  {
   "cell_type": "code",
   "execution_count": null,
   "id": "55fbd899",
   "metadata": {},
   "outputs": [
    {
     "name": "stderr",
     "output_type": "stream",
     "text": [
      "\u001b[32m2025-10-20 02:00:48.984\u001b[0m | \u001b[1mINFO    \u001b[0m | \u001b[36mutils.gcp.gcs\u001b[0m:\u001b[36mupload_bytes\u001b[0m:\u001b[36m184\u001b[0m - \u001b[1mBytes data successfully stored in GCS bucket\u001b[0m\n"
     ]
    }
   ],
   "source": [
    "upload_text_to_gcs(\n",
    "    text=\"Hi, world!\",\n",
    "    blob_name=\"test.txt\"\n",
    ")"
   ]
  },
  {
   "cell_type": "markdown",
   "id": "4f9f6cbe",
   "metadata": {},
   "source": [
    "## Image Generation"
   ]
  },
  {
   "cell_type": "markdown",
   "id": "284b707b",
   "metadata": {},
   "source": [
    "### Text To Image"
   ]
  },
  {
   "cell_type": "code",
   "execution_count": 6,
   "id": "c7ae2559",
   "metadata": {},
   "outputs": [
    {
     "name": "stderr",
     "output_type": "stream",
     "text": [
      "\u001b[32m2025-10-21 19:16:10.443\u001b[0m | \u001b[1mINFO    \u001b[0m | \u001b[36magent.tools.image_generation\u001b[0m:\u001b[36mgenerate_images\u001b[0m:\u001b[36m71\u001b[0m - \u001b[1mUsing Image Generation Tool...\u001b[0m\n",
      "\u001b[32m2025-10-21 19:16:10.446\u001b[0m | \u001b[1mINFO    \u001b[0m | \u001b[36magent.tools.image_generation\u001b[0m:\u001b[36mgenerate_images\u001b[0m:\u001b[36m82\u001b[0m - \u001b[1mGenerating 2 images...\u001b[0m\n",
      "\u001b[32m2025-10-21 19:16:10.448\u001b[0m | \u001b[34m\u001b[1mDEBUG   \u001b[0m | \u001b[36magent.tools.image_generation\u001b[0m:\u001b[36mgenerate_images\u001b[0m:\u001b[36m84\u001b[0m - \u001b[34m\u001b[1mimage_requests = [ImaGenRequest(prompt='A tree inside an apple in an animated drawing', image_name='tree_inside_apple'), ImaGenRequest(prompt='A spider in his web', image_name='spider_in_web')]\u001b[0m\n",
      "\u001b[32m2025-10-21 19:16:10.448\u001b[0m | \u001b[34m\u001b[1mDEBUG   \u001b[0m | \u001b[36magent.tools.image_generation\u001b[0m:\u001b[36mgenerate_images\u001b[0m:\u001b[36m88\u001b[0m - \u001b[34m\u001b[1mPreparing generation requests\u001b[0m\n",
      "\u001b[32m2025-10-21 19:16:10.449\u001b[0m | \u001b[34m\u001b[1mDEBUG   \u001b[0m | \u001b[36magent.tools.image_generation\u001b[0m:\u001b[36mgenerate_images\u001b[0m:\u001b[36m95\u001b[0m - \u001b[34m\u001b[1mLaunching concurrent generation\u001b[0m\n",
      "\u001b[32m2025-10-21 19:16:10.450\u001b[0m | \u001b[34m\u001b[1mDEBUG   \u001b[0m | \u001b[36magent.tools.image_generation\u001b[0m:\u001b[36mgenerate_image\u001b[0m:\u001b[36m33\u001b[0m - \u001b[34m\u001b[1mgeneral_image_name = 'tree_inside_apple'\u001b[0m\n",
      "\u001b[32m2025-10-21 19:16:10.450\u001b[0m | \u001b[34m\u001b[1mDEBUG   \u001b[0m | \u001b[36magent.tools.image_generation\u001b[0m:\u001b[36mgenerate_image\u001b[0m:\u001b[36m34\u001b[0m - \u001b[34m\u001b[1mInput prompt = 'A tree inside an apple in an animated drawing'\u001b[0m\n",
      "\u001b[32m2025-10-21 19:16:10.451\u001b[0m | \u001b[34m\u001b[1mDEBUG   \u001b[0m | \u001b[36magent.tools.image_generation\u001b[0m:\u001b[36mgenerate_image\u001b[0m:\u001b[36m35\u001b[0m - \u001b[34m\u001b[1mgcs_path = 'images/'\u001b[0m\n",
      "\u001b[32m2025-10-21 19:16:10.453\u001b[0m | \u001b[34m\u001b[1mDEBUG   \u001b[0m | \u001b[36magent.tools.image_generation\u001b[0m:\u001b[36mgenerate_image\u001b[0m:\u001b[36m33\u001b[0m - \u001b[34m\u001b[1mgeneral_image_name = 'spider_in_web'\u001b[0m\n",
      "\u001b[32m2025-10-21 19:16:10.454\u001b[0m | \u001b[34m\u001b[1mDEBUG   \u001b[0m | \u001b[36magent.tools.image_generation\u001b[0m:\u001b[36mgenerate_image\u001b[0m:\u001b[36m34\u001b[0m - \u001b[34m\u001b[1mInput prompt = 'A spider in his web'\u001b[0m\n",
      "\u001b[32m2025-10-21 19:16:10.455\u001b[0m | \u001b[34m\u001b[1mDEBUG   \u001b[0m | \u001b[36magent.tools.image_generation\u001b[0m:\u001b[36mgenerate_image\u001b[0m:\u001b[36m35\u001b[0m - \u001b[34m\u001b[1mgcs_path = 'images/'\u001b[0m\n",
      "\u001b[32m2025-10-21 19:16:17.648\u001b[0m | \u001b[34m\u001b[1mDEBUG   \u001b[0m | \u001b[36magent.tools.image_generation\u001b[0m:\u001b[36mgenerate_image\u001b[0m:\u001b[36m57\u001b[0m - \u001b[34m\u001b[1mImage generated successfully\u001b[0m\n",
      "\u001b[32m2025-10-21 19:16:17.688\u001b[0m | \u001b[34m\u001b[1mDEBUG   \u001b[0m | \u001b[36magent.tools.image_generation\u001b[0m:\u001b[36mgenerate_image\u001b[0m:\u001b[36m57\u001b[0m - \u001b[34m\u001b[1mImage generated successfully\u001b[0m\n",
      "\u001b[32m2025-10-21 19:16:18.918\u001b[0m | \u001b[1mINFO    \u001b[0m | \u001b[36magent.tools.image_generation\u001b[0m:\u001b[36mgenerate_images\u001b[0m:\u001b[36m123\u001b[0m - \u001b[1mImages successfully generated\u001b[0m\n"
     ]
    }
   ],
   "source": [
    "prompts = [\n",
    "    ImaGenRequest(prompt=\"A tree inside an apple in an animated drawing\", image_name=\"tree_inside_apple\"),\n",
    "    ImaGenRequest(prompt=\"A spider in his web\", image_name=\"spider_in_web\"),\n",
    "]\n",
    "\n",
    "images_generated = await generate_images(prompts)"
   ]
  },
  {
   "cell_type": "code",
   "execution_count": 7,
   "id": "b32dac56",
   "metadata": {},
   "outputs": [
    {
     "data": {
      "text/plain": [
       "['https://storage.googleapis.com/ai-hub-sharepoint/images/tree_inside_apple.png',\n",
       " 'https://storage.googleapis.com/ai-hub-sharepoint/images/spider_in_web.png']"
      ]
     },
     "execution_count": 7,
     "metadata": {},
     "output_type": "execute_result"
    }
   ],
   "source": [
    "images_link = [image.public_url for image in images_generated]\n",
    "images_link"
   ]
  },
  {
   "cell_type": "code",
   "execution_count": null,
   "id": "308b2815",
   "metadata": {},
   "outputs": [],
   "source": []
  }
 ],
 "metadata": {
  "kernelspec": {
   "display_name": "ai-hub-sharepoint-agent",
   "language": "python",
   "name": "python3"
  },
  "language_info": {
   "codemirror_mode": {
    "name": "ipython",
    "version": 3
   },
   "file_extension": ".py",
   "mimetype": "text/x-python",
   "name": "python",
   "nbconvert_exporter": "python",
   "pygments_lexer": "ipython3",
   "version": "3.12.11"
  }
 },
 "nbformat": 4,
 "nbformat_minor": 5
}
