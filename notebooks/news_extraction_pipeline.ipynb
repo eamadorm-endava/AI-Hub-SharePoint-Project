{
 "cells": [
  {
   "cell_type": "code",
   "execution_count": 1,
   "id": "038e58f5",
   "metadata": {},
   "outputs": [
    {
     "name": "stderr",
     "output_type": "stream",
     "text": [
      "WARNING: All log messages before absl::InitializeLog() is called are written to STDERR\n",
      "E0000 00:00:1761151182.222679   23735 alts_credentials.cc:93] ALTS creds ignored. Not running on GCP and untrusted ALTS is not enabled.\n"
     ]
    },
    {
     "data": {
      "text/plain": [
       "True"
      ]
     },
     "execution_count": 1,
     "metadata": {},
     "output_type": "execute_result"
    }
   ],
   "source": [
    "from dotenv import load_dotenv\n",
    "from loguru import logger\n",
    "import sys\n",
    "\n",
    "sys.path.append(\"..\")\n",
    "\n",
    "from news_extraction_pipeline.config import AINewsConfig\n",
    "from news_extraction_pipeline.schemas import PipelineArgs\n",
    "from news_extraction_pipeline.pipeline_steps import (\n",
    "    extract_from_multiple_feed_urls,\n",
    "    filter_by_date_threshold,\n",
    "    filter_by_keywords,\n",
    "    convert_datetime_columns_to_str,\n",
    "    store_in_database\n",
    ")\n",
    "\n",
    "load_dotenv()"
   ]
  },
  {
   "cell_type": "code",
   "execution_count": 2,
   "id": "4341eb04",
   "metadata": {},
   "outputs": [],
   "source": [
    "news_config = AINewsConfig()\n",
    "pipeline_args = PipelineArgs()"
   ]
  },
  {
   "cell_type": "code",
   "execution_count": 3,
   "id": "0cff3832",
   "metadata": {},
   "outputs": [],
   "source": [
    "bad_url = \"https://techcrunch.com/category/artificial-intelligence/\""
   ]
  },
  {
   "cell_type": "code",
   "execution_count": 4,
   "id": "4c818d46",
   "metadata": {},
   "outputs": [
    {
     "name": "stderr",
     "output_type": "stream",
     "text": [
      "\u001b[32m2025-10-22 16:39:42.291\u001b[0m | \u001b[1mINFO    \u001b[0m | \u001b[36m__main__\u001b[0m:\u001b[36m<module>\u001b[0m:\u001b[36m1\u001b[0m - \u001b[1mStarting AI news retrieval process...\u001b[0m\n",
      "\u001b[32m2025-10-22 16:39:42.293\u001b[0m | \u001b[1mINFO    \u001b[0m | \u001b[36mnews_extraction_pipeline.extractors.news.news_extractors\u001b[0m:\u001b[36mcurrent_feed_url\u001b[0m:\u001b[36m64\u001b[0m - \u001b[1mSetting current feed url to https://techcrunch.com/category/artificial-intelligence/\u001b[0m\n",
      "\u001b[32m2025-10-22 16:39:42.295\u001b[0m | \u001b[33m\u001b[1mWARNING \u001b[0m | \u001b[36mnews_extraction_pipeline.extractor_selectors.extractor_selector\u001b[0m:\u001b[36mget_extractor\u001b[0m:\u001b[36m68\u001b[0m - \u001b[33m\u001b[1mNo image extractor found for the url: https://techcrunch.com/category/artificial-intelligence/. The data retrieve will not contain an image_url\u001b[0m\n",
      "\u001b[32m2025-10-22 16:39:42.296\u001b[0m | \u001b[1mINFO    \u001b[0m | \u001b[36mnews_extraction_pipeline.extractors.news.news_extractors\u001b[0m:\u001b[36mcurrent_feed_url\u001b[0m:\u001b[36m64\u001b[0m - \u001b[1mSetting current feed url to https://news.mit.edu/rss/feed\u001b[0m\n",
      "\u001b[32m2025-10-22 16:39:42.298\u001b[0m | \u001b[1mINFO    \u001b[0m | \u001b[36mnews_extraction_pipeline.extractors.news.news_extractors\u001b[0m:\u001b[36mcurrent_feed_url\u001b[0m:\u001b[36m64\u001b[0m - \u001b[1mSetting current feed url to https://www.artificialintelligence-news.com/artificial-intelligence-news/feed/\u001b[0m\n",
      "\u001b[32m2025-10-22 16:39:42.300\u001b[0m | \u001b[1mINFO    \u001b[0m | \u001b[36mnews_extraction_pipeline.extractor_selectors.extractor_selector\u001b[0m:\u001b[36mget_extractor\u001b[0m:\u001b[36m73\u001b[0m - \u001b[1mExtractor 'MITImageExtractor' selected for base URL: https://news.mit.edu\u001b[0m\n",
      "\u001b[32m2025-10-22 16:39:42.301\u001b[0m | \u001b[1mINFO    \u001b[0m | \u001b[36mnews_extraction_pipeline.extractor_selectors.extractor_selector\u001b[0m:\u001b[36mget_extractor\u001b[0m:\u001b[36m73\u001b[0m - \u001b[1mExtractor 'AINEWSImageExtractor' selected for base URL: https://www.artificialintelligence-news.com\u001b[0m\n",
      "\u001b[32m2025-10-22 16:39:42.726\u001b[0m | \u001b[31m\u001b[1mERROR   \u001b[0m | \u001b[36mnews_extraction_pipeline.extractors.news.news_extractors\u001b[0m:\u001b[36mget_articles\u001b[0m:\u001b[36m146\u001b[0m - \u001b[31m\u001b[1mNo articles extracted from https://techcrunch.com/category/artificial-intelligence/  Make sure the url is RSS-compatible\u001b[0m\n",
      "\u001b[32m2025-10-22 16:40:00.484\u001b[0m | \u001b[1mINFO    \u001b[0m | \u001b[36mnews_extraction_pipeline.extractors.news.news_extractors\u001b[0m:\u001b[36mget_articles\u001b[0m:\u001b[36m133\u001b[0m - \u001b[1m12 articles extracted\u001b[0m\n",
      "\u001b[32m2025-10-22 16:40:04.405\u001b[0m | \u001b[1mINFO    \u001b[0m | \u001b[36mnews_extraction_pipeline.extractors.news.news_extractors\u001b[0m:\u001b[36mget_articles\u001b[0m:\u001b[36m133\u001b[0m - \u001b[1m50 articles extracted\u001b[0m\n"
     ]
    }
   ],
   "source": [
    "logger.info(\"Starting AI news retrieval process...\")\n",
    "\n",
    "news_config_dict = news_config.model_dump()\n",
    "\n",
    "news_sources = [val for key, val in news_config_dict.items() if key.endswith(\"_FEED_URL\")]\n",
    "\n",
    "news_sources = [bad_url, news_config.MIT_NEWS_FEED_URL, news_config.AI_NEWS_FEED_URL]\n",
    "\n",
    "articles = extract_from_multiple_feed_urls(news_sources)"
   ]
  },
  {
   "cell_type": "code",
   "execution_count": 5,
   "id": "e58ac8b1",
   "metadata": {},
   "outputs": [
    {
     "name": "stdout",
     "output_type": "stream",
     "text": [
      "<class 'pandas.core.frame.DataFrame'>\n",
      "Index: 62 entries, 0 to 49\n",
      "Data columns (total 4 columns):\n",
      " #   Column        Non-Null Count  Dtype              \n",
      "---  ------        --------------  -----              \n",
      " 0   title         62 non-null     object             \n",
      " 1   news_link     62 non-null     object             \n",
      " 2   image_link    62 non-null     object             \n",
      " 3   publish_date  62 non-null     datetime64[ns, UTC]\n",
      "dtypes: datetime64[ns, UTC](1), object(3)\n",
      "memory usage: 2.4+ KB\n"
     ]
    }
   ],
   "source": [
    "articles.info()"
   ]
  },
  {
   "cell_type": "code",
   "execution_count": 6,
   "id": "bf04b911",
   "metadata": {},
   "outputs": [
    {
     "data": {
      "text/html": [
       "<div>\n",
       "<style scoped>\n",
       "    .dataframe tbody tr th:only-of-type {\n",
       "        vertical-align: middle;\n",
       "    }\n",
       "\n",
       "    .dataframe tbody tr th {\n",
       "        vertical-align: top;\n",
       "    }\n",
       "\n",
       "    .dataframe thead th {\n",
       "        text-align: right;\n",
       "    }\n",
       "</style>\n",
       "<table border=\"1\" class=\"dataframe\">\n",
       "  <thead>\n",
       "    <tr style=\"text-align: right;\">\n",
       "      <th></th>\n",
       "      <th>title</th>\n",
       "      <th>news_link</th>\n",
       "      <th>image_link</th>\n",
       "      <th>publish_date</th>\n",
       "    </tr>\n",
       "  </thead>\n",
       "  <tbody>\n",
       "    <tr>\n",
       "      <th>16</th>\n",
       "      <td>Book reviews technologies aiming to remove car...</td>\n",
       "      <td>https://news.mit.edu/2025/book-reviews-tech-ai...</td>\n",
       "      <td>https://news.mit.edu/sites/default/files/style...</td>\n",
       "      <td>2025-10-16 20:35:00+00:00</td>\n",
       "    </tr>\n",
       "    <tr>\n",
       "      <th>31</th>\n",
       "      <td>MIT releases financials and endowment figures ...</td>\n",
       "      <td>https://news.mit.edu/2025/mit-releases-financi...</td>\n",
       "      <td>https://news.mit.edu/sites/default/files/style...</td>\n",
       "      <td>2025-10-10 20:00:00+00:00</td>\n",
       "    </tr>\n",
       "    <tr>\n",
       "      <th>8</th>\n",
       "      <td>South Korea scraps AI textbook programme</td>\n",
       "      <td>https://www.artificialintelligence-news.com/ne...</td>\n",
       "      <td>https://www.artificialintelligence-news.com/wp...</td>\n",
       "      <td>2025-10-17 12:01:59+00:00</td>\n",
       "    </tr>\n",
       "    <tr>\n",
       "      <th>49</th>\n",
       "      <td>System lets people personalize online social s...</td>\n",
       "      <td>https://news.mit.edu/2025/system-lets-people-p...</td>\n",
       "      <td>https://news.mit.edu/sites/default/files/style...</td>\n",
       "      <td>2025-10-01 14:00:00+00:00</td>\n",
       "    </tr>\n",
       "    <tr>\n",
       "      <th>38</th>\n",
       "      <td>Laurent Demanet appointed co-director of MIT C...</td>\n",
       "      <td>https://news.mit.edu/2025/laurent-demanet-co-d...</td>\n",
       "      <td>https://news.mit.edu/sites/default/files/style...</td>\n",
       "      <td>2025-10-07 21:00:00+00:00</td>\n",
       "    </tr>\n",
       "    <tr>\n",
       "      <th>5</th>\n",
       "      <td>China’s generative AI user base doubles to 515...</td>\n",
       "      <td>https://www.artificialintelligence-news.com/ne...</td>\n",
       "      <td>https://www.artificialintelligence-news.com/wp...</td>\n",
       "      <td>2025-10-21 10:00:00+00:00</td>\n",
       "    </tr>\n",
       "    <tr>\n",
       "      <th>24</th>\n",
       "      <td>Engineering next-generation fertilizers</td>\n",
       "      <td>https://news.mit.edu/2025/giorgio-rizzo-engine...</td>\n",
       "      <td>https://news.mit.edu/sites/default/files/style...</td>\n",
       "      <td>2025-10-14 20:50:00+00:00</td>\n",
       "    </tr>\n",
       "    <tr>\n",
       "      <th>47</th>\n",
       "      <td>Palladium filters could enable cheaper, more e...</td>\n",
       "      <td>https://news.mit.edu/2025/palladium-filters-co...</td>\n",
       "      <td>https://news.mit.edu/sites/default/files/style...</td>\n",
       "      <td>2025-10-01 18:00:00+00:00</td>\n",
       "    </tr>\n",
       "    <tr>\n",
       "      <th>2</th>\n",
       "      <td>How AI adoption is moving IT operations from r...</td>\n",
       "      <td>https://www.artificialintelligence-news.com/ne...</td>\n",
       "      <td>https://www.artificialintelligence-news.com/wp...</td>\n",
       "      <td>2025-10-21 13:59:14+00:00</td>\n",
       "    </tr>\n",
       "    <tr>\n",
       "      <th>17</th>\n",
       "      <td>Breaking the old model of education with MIT O...</td>\n",
       "      <td>https://news.mit.edu/2025/breaking-old-model-e...</td>\n",
       "      <td>https://news.mit.edu/sites/default/files/style...</td>\n",
       "      <td>2025-10-16 19:15:00+00:00</td>\n",
       "    </tr>\n",
       "  </tbody>\n",
       "</table>\n",
       "</div>"
      ],
      "text/plain": [
       "                                                title  \\\n",
       "16  Book reviews technologies aiming to remove car...   \n",
       "31  MIT releases financials and endowment figures ...   \n",
       "8            South Korea scraps AI textbook programme   \n",
       "49  System lets people personalize online social s...   \n",
       "38  Laurent Demanet appointed co-director of MIT C...   \n",
       "5   China’s generative AI user base doubles to 515...   \n",
       "24            Engineering next-generation fertilizers   \n",
       "47  Palladium filters could enable cheaper, more e...   \n",
       "2   How AI adoption is moving IT operations from r...   \n",
       "17  Breaking the old model of education with MIT O...   \n",
       "\n",
       "                                            news_link  \\\n",
       "16  https://news.mit.edu/2025/book-reviews-tech-ai...   \n",
       "31  https://news.mit.edu/2025/mit-releases-financi...   \n",
       "8   https://www.artificialintelligence-news.com/ne...   \n",
       "49  https://news.mit.edu/2025/system-lets-people-p...   \n",
       "38  https://news.mit.edu/2025/laurent-demanet-co-d...   \n",
       "5   https://www.artificialintelligence-news.com/ne...   \n",
       "24  https://news.mit.edu/2025/giorgio-rizzo-engine...   \n",
       "47  https://news.mit.edu/2025/palladium-filters-co...   \n",
       "2   https://www.artificialintelligence-news.com/ne...   \n",
       "17  https://news.mit.edu/2025/breaking-old-model-e...   \n",
       "\n",
       "                                           image_link  \\\n",
       "16  https://news.mit.edu/sites/default/files/style...   \n",
       "31  https://news.mit.edu/sites/default/files/style...   \n",
       "8   https://www.artificialintelligence-news.com/wp...   \n",
       "49  https://news.mit.edu/sites/default/files/style...   \n",
       "38  https://news.mit.edu/sites/default/files/style...   \n",
       "5   https://www.artificialintelligence-news.com/wp...   \n",
       "24  https://news.mit.edu/sites/default/files/style...   \n",
       "47  https://news.mit.edu/sites/default/files/style...   \n",
       "2   https://www.artificialintelligence-news.com/wp...   \n",
       "17  https://news.mit.edu/sites/default/files/style...   \n",
       "\n",
       "                publish_date  \n",
       "16 2025-10-16 20:35:00+00:00  \n",
       "31 2025-10-10 20:00:00+00:00  \n",
       "8  2025-10-17 12:01:59+00:00  \n",
       "49 2025-10-01 14:00:00+00:00  \n",
       "38 2025-10-07 21:00:00+00:00  \n",
       "5  2025-10-21 10:00:00+00:00  \n",
       "24 2025-10-14 20:50:00+00:00  \n",
       "47 2025-10-01 18:00:00+00:00  \n",
       "2  2025-10-21 13:59:14+00:00  \n",
       "17 2025-10-16 19:15:00+00:00  "
      ]
     },
     "execution_count": 6,
     "metadata": {},
     "output_type": "execute_result"
    }
   ],
   "source": [
    "articles.sample(10)"
   ]
  },
  {
   "cell_type": "code",
   "execution_count": 7,
   "id": "6d1e24ea",
   "metadata": {},
   "outputs": [
    {
     "name": "stderr",
     "output_type": "stream",
     "text": [
      "\u001b[32m2025-10-22 16:40:04.508\u001b[0m | \u001b[1mINFO    \u001b[0m | \u001b[36mnews_extraction_pipeline.pipeline_steps\u001b[0m:\u001b[36mfilter_by_date_threshold\u001b[0m:\u001b[36m165\u001b[0m - \u001b[1mFiltering articles published within the last 2 days.\u001b[0m\n",
      "\u001b[32m2025-10-22 16:40:04.513\u001b[0m | \u001b[1mINFO    \u001b[0m | \u001b[36mnews_extraction_pipeline.pipeline_steps\u001b[0m:\u001b[36mfilter_by_date_threshold\u001b[0m:\u001b[36m178\u001b[0m - \u001b[1mDate filtering complete. 17 articles published within the allowed range.\u001b[0m\n"
     ]
    }
   ],
   "source": [
    "filtered_by_date = filter_by_date_threshold(\n",
    "    df = articles,\n",
    "    filter_column=news_config.DATE_COLUMN,\n",
    "    max_days_old=pipeline_args.max_days_old\n",
    ")\n"
   ]
  },
  {
   "cell_type": "code",
   "execution_count": 8,
   "id": "d61e16d5",
   "metadata": {},
   "outputs": [
    {
     "name": "stderr",
     "output_type": "stream",
     "text": [
      "\u001b[32m2025-10-22 16:40:04.525\u001b[0m | \u001b[34m\u001b[1mDEBUG   \u001b[0m | \u001b[36mnews_extraction_pipeline.pipeline_steps\u001b[0m:\u001b[36mfilter_by_keywords\u001b[0m:\u001b[36m110\u001b[0m - \u001b[34m\u001b[1mFiltering articles by the next parameters...\u001b[0m\n",
      "\u001b[32m2025-10-22 16:40:04.526\u001b[0m | \u001b[34m\u001b[1mDEBUG   \u001b[0m | \u001b[36mnews_extraction_pipeline.pipeline_steps\u001b[0m:\u001b[36mfilter_by_keywords\u001b[0m:\u001b[36m111\u001b[0m - \u001b[34m\u001b[1mcase_sen_search_kw =[' AI ', 'AI ', 'AI ', 'A.I.', ' AI-', 'AI-']\u001b[0m\n",
      "\u001b[32m2025-10-22 16:40:04.528\u001b[0m | \u001b[34m\u001b[1mDEBUG   \u001b[0m | \u001b[36mnews_extraction_pipeline.pipeline_steps\u001b[0m:\u001b[36mfilter_by_keywords\u001b[0m:\u001b[36m112\u001b[0m - \u001b[34m\u001b[1mcase_insen_search_kw =['Artificial Intelligence', 'Machine Learning', 'Deep Learning', 'Neural Networks', 'NLP', 'Computer Vision', 'Data Science', 'Gemini', 'Bard', 'ChatGPT', 'GPT-4', 'DALL-E', 'MidJourney', 'Stable Diffusion', 'Claude', 'Whisper']\u001b[0m\n",
      "\u001b[32m2025-10-22 16:40:04.528\u001b[0m | \u001b[34m\u001b[1mDEBUG   \u001b[0m | \u001b[36mnews_extraction_pipeline.pipeline_steps\u001b[0m:\u001b[36mfilter_by_keywords\u001b[0m:\u001b[36m113\u001b[0m - \u001b[34m\u001b[1mFiltering by column: title\u001b[0m\n",
      "\u001b[32m2025-10-22 16:40:04.530\u001b[0m | \u001b[1mINFO    \u001b[0m | \u001b[36mnews_extraction_pipeline.pipeline_steps\u001b[0m:\u001b[36mfilter_by_keywords\u001b[0m:\u001b[36m129\u001b[0m - \u001b[1mKeyword filtering complete. 7 articles matched the criteria.\u001b[0m\n"
     ]
    }
   ],
   "source": [
    "filtered_by_kw = filter_by_keywords(\n",
    "    df = filtered_by_date,\n",
    "    filter_column=news_config.COLUMN_TO_FILTER_BY_KW,\n",
    "    case_sen_search_kw=pipeline_args.case_sen_search_kw,\n",
    "    case_insen_search_kw=pipeline_args.case_insen_search_kw,\n",
    ")"
   ]
  },
  {
   "cell_type": "markdown",
   "id": "f84951ac",
   "metadata": {},
   "source": [
    "Store data in the database"
   ]
  },
  {
   "cell_type": "code",
   "execution_count": 9,
   "id": "0ea49559",
   "metadata": {},
   "outputs": [
    {
     "name": "stderr",
     "output_type": "stream",
     "text": [
      "\u001b[32m2025-10-22 16:40:13.362\u001b[0m | \u001b[1mINFO    \u001b[0m | \u001b[36mdatabase.tables.bigquery.news_metadata\u001b[0m:\u001b[36madd_rows\u001b[0m:\u001b[36m132\u001b[0m - \u001b[1mInserting 7 new rows into BigQuery table news_metadata\u001b[0m\n",
      "\u001b[32m2025-10-22 16:40:14.107\u001b[0m | \u001b[1mINFO    \u001b[0m | \u001b[36mutils.gcp.bigquery\u001b[0m:\u001b[36minsert_rows\u001b[0m:\u001b[36m269\u001b[0m - \u001b[1mRows inserted into news_metadata.\u001b[0m\n"
     ]
    }
   ],
   "source": [
    "store_in_database(filtered_by_kw)"
   ]
  },
  {
   "cell_type": "markdown",
   "id": "a8d8fc75",
   "metadata": {},
   "source": [
    "This function is to prepare the data to be returned by the API"
   ]
  },
  {
   "cell_type": "code",
   "execution_count": 9,
   "id": "91bd8e74",
   "metadata": {},
   "outputs": [
    {
     "name": "stderr",
     "output_type": "stream",
     "text": [
      "\u001b[32m2025-10-09 20:09:14.407\u001b[0m | \u001b[1mINFO    \u001b[0m | \u001b[36mnews_extraction_pipeline.pipeline_steps\u001b[0m:\u001b[36mconvert_datetime_columns_to_str\u001b[0m:\u001b[36m214\u001b[0m - \u001b[1mConverting datetime columns to string format: %Y-%m-%dT%H:%M:%SZ\u001b[0m\n",
      "\u001b[32m2025-10-09 20:09:14.414\u001b[0m | \u001b[34m\u001b[1mDEBUG   \u001b[0m | \u001b[36mnews_extraction_pipeline.pipeline_steps\u001b[0m:\u001b[36mconvert_datetime_columns_to_str\u001b[0m:\u001b[36m215\u001b[0m - \u001b[34m\u001b[1mDetected datetime columns: ['publish_date']\u001b[0m\n",
      "\u001b[32m2025-10-09 20:09:14.416\u001b[0m | \u001b[1mINFO    \u001b[0m | \u001b[36mnews_extraction_pipeline.pipeline_steps\u001b[0m:\u001b[36mconvert_datetime_columns_to_str\u001b[0m:\u001b[36m220\u001b[0m - \u001b[1mDatetime conversion complete.\u001b[0m\n"
     ]
    },
    {
     "name": "stdout",
     "output_type": "stream",
     "text": [
      "<class 'pandas.core.frame.DataFrame'>\n",
      "RangeIndex: 7 entries, 0 to 6\n",
      "Data columns (total 4 columns):\n",
      " #   Column        Non-Null Count  Dtype \n",
      "---  ------        --------------  ----- \n",
      " 0   title         7 non-null      object\n",
      " 1   news_link     7 non-null      object\n",
      " 2   image_link    7 non-null      object\n",
      " 3   publish_date  7 non-null      object\n",
      "dtypes: object(4)\n",
      "memory usage: 356.0+ bytes\n"
     ]
    }
   ],
   "source": [
    "final_df = convert_datetime_columns_to_str(\n",
    "    df = filtered_by_kw,\n",
    "    string_format = news_config.DATE_STRING_FORMAT\n",
    ")\n",
    "\n",
    "final_df.info()"
   ]
  },
  {
   "cell_type": "markdown",
   "id": "cf22bab9",
   "metadata": {},
   "source": [
    "## Full Pipeline in a line"
   ]
  },
  {
   "cell_type": "code",
   "execution_count": 10,
   "id": "82206e82",
   "metadata": {},
   "outputs": [
    {
     "name": "stderr",
     "output_type": "stream",
     "text": [
      "\u001b[32m2025-10-22 17:11:11.434\u001b[0m | \u001b[1mINFO    \u001b[0m | \u001b[36mnews_extraction_pipeline.pipeline\u001b[0m:\u001b[36mmain\u001b[0m:\u001b[36m35\u001b[0m - \u001b[1mStarting AI news retrieval process...\u001b[0m\n",
      "\u001b[32m2025-10-22 17:11:11.438\u001b[0m | \u001b[1mINFO    \u001b[0m | \u001b[36mnews_extraction_pipeline.extractors.news.news_extractors\u001b[0m:\u001b[36mcurrent_feed_url\u001b[0m:\u001b[36m64\u001b[0m - \u001b[1mSetting current feed url to https://news.mit.edu/rss/feed\u001b[0m\n",
      "\u001b[32m2025-10-22 17:11:11.443\u001b[0m | \u001b[1mINFO    \u001b[0m | \u001b[36mnews_extraction_pipeline.extractor_selectors.extractor_selector\u001b[0m:\u001b[36mget_extractor\u001b[0m:\u001b[36m73\u001b[0m - \u001b[1mExtractor 'MITImageExtractor' selected for base URL: https://news.mit.edu\u001b[0m\n",
      "\u001b[32m2025-10-22 17:11:11.443\u001b[0m | \u001b[1mINFO    \u001b[0m | \u001b[36mnews_extraction_pipeline.extractors.news.news_extractors\u001b[0m:\u001b[36mcurrent_feed_url\u001b[0m:\u001b[36m64\u001b[0m - \u001b[1mSetting current feed url to https://www.artificialintelligence-news.com/artificial-intelligence-news/feed/\u001b[0m\n",
      "\u001b[32m2025-10-22 17:11:11.450\u001b[0m | \u001b[1mINFO    \u001b[0m | \u001b[36mnews_extraction_pipeline.extractor_selectors.extractor_selector\u001b[0m:\u001b[36mget_extractor\u001b[0m:\u001b[36m73\u001b[0m - \u001b[1mExtractor 'AINEWSImageExtractor' selected for base URL: https://www.artificialintelligence-news.com\u001b[0m\n",
      "\u001b[32m2025-10-22 17:11:25.936\u001b[0m | \u001b[1mINFO    \u001b[0m | \u001b[36mnews_extraction_pipeline.extractors.news.news_extractors\u001b[0m:\u001b[36mget_articles\u001b[0m:\u001b[36m133\u001b[0m - \u001b[1m12 articles extracted\u001b[0m\n",
      "\u001b[32m2025-10-22 17:11:26.327\u001b[0m | \u001b[1mINFO    \u001b[0m | \u001b[36mnews_extraction_pipeline.extractors.news.news_extractors\u001b[0m:\u001b[36mget_articles\u001b[0m:\u001b[36m133\u001b[0m - \u001b[1m50 articles extracted\u001b[0m\n",
      "\u001b[32m2025-10-22 17:11:26.335\u001b[0m | \u001b[1mINFO    \u001b[0m | \u001b[36mnews_extraction_pipeline.pipeline\u001b[0m:\u001b[36mmain\u001b[0m:\u001b[36m56\u001b[0m - \u001b[1mFiltering news articles from the last 2 days...\u001b[0m\n",
      "\u001b[32m2025-10-22 17:11:26.336\u001b[0m | \u001b[1mINFO    \u001b[0m | \u001b[36mnews_extraction_pipeline.pipeline_steps\u001b[0m:\u001b[36mfilter_by_date_threshold\u001b[0m:\u001b[36m165\u001b[0m - \u001b[1mFiltering articles published within the last 2 days.\u001b[0m\n",
      "\u001b[32m2025-10-22 17:11:26.339\u001b[0m | \u001b[1mINFO    \u001b[0m | \u001b[36mnews_extraction_pipeline.pipeline_steps\u001b[0m:\u001b[36mfilter_by_date_threshold\u001b[0m:\u001b[36m178\u001b[0m - \u001b[1mDate filtering complete. 17 articles published within the allowed range.\u001b[0m\n",
      "\u001b[32m2025-10-22 17:11:26.341\u001b[0m | \u001b[34m\u001b[1mDEBUG   \u001b[0m | \u001b[36mnews_extraction_pipeline.pipeline_steps\u001b[0m:\u001b[36mfilter_by_keywords\u001b[0m:\u001b[36m110\u001b[0m - \u001b[34m\u001b[1mFiltering articles by the next parameters...\u001b[0m\n",
      "\u001b[32m2025-10-22 17:11:26.341\u001b[0m | \u001b[34m\u001b[1mDEBUG   \u001b[0m | \u001b[36mnews_extraction_pipeline.pipeline_steps\u001b[0m:\u001b[36mfilter_by_keywords\u001b[0m:\u001b[36m111\u001b[0m - \u001b[34m\u001b[1mcase_sen_search_kw =[' AI ', 'AI ', 'AI ', 'A.I.', ' AI-', 'AI-']\u001b[0m\n",
      "\u001b[32m2025-10-22 17:11:26.343\u001b[0m | \u001b[34m\u001b[1mDEBUG   \u001b[0m | \u001b[36mnews_extraction_pipeline.pipeline_steps\u001b[0m:\u001b[36mfilter_by_keywords\u001b[0m:\u001b[36m112\u001b[0m - \u001b[34m\u001b[1mcase_insen_search_kw =['Artificial Intelligence', 'Machine Learning', 'Deep Learning', 'Neural Networks', 'NLP', 'Computer Vision', 'Data Science', 'Gemini', 'Bard', 'ChatGPT', 'GPT-4', 'DALL-E', 'MidJourney', 'Stable Diffusion', 'Claude', 'Whisper']\u001b[0m\n",
      "\u001b[32m2025-10-22 17:11:26.343\u001b[0m | \u001b[34m\u001b[1mDEBUG   \u001b[0m | \u001b[36mnews_extraction_pipeline.pipeline_steps\u001b[0m:\u001b[36mfilter_by_keywords\u001b[0m:\u001b[36m113\u001b[0m - \u001b[34m\u001b[1mFiltering by column: title\u001b[0m\n",
      "\u001b[32m2025-10-22 17:11:26.346\u001b[0m | \u001b[1mINFO    \u001b[0m | \u001b[36mnews_extraction_pipeline.pipeline_steps\u001b[0m:\u001b[36mfilter_by_keywords\u001b[0m:\u001b[36m129\u001b[0m - \u001b[1mKeyword filtering complete. 7 articles matched the criteria.\u001b[0m\n",
      "\u001b[32m2025-10-22 17:11:31.726\u001b[0m | \u001b[1mINFO    \u001b[0m | \u001b[36mdatabase.tables.bigquery.news_metadata\u001b[0m:\u001b[36madd_rows\u001b[0m:\u001b[36m132\u001b[0m - \u001b[1mInserting 7 new rows into BigQuery table news_metadata\u001b[0m\n",
      "\u001b[32m2025-10-22 17:11:32.144\u001b[0m | \u001b[1mINFO    \u001b[0m | \u001b[36mutils.gcp.bigquery\u001b[0m:\u001b[36minsert_rows\u001b[0m:\u001b[36m269\u001b[0m - \u001b[1mRows inserted into news_metadata.\u001b[0m\n",
      "\u001b[32m2025-10-22 17:11:32.149\u001b[0m | \u001b[1mINFO    \u001b[0m | \u001b[36mnews_extraction_pipeline.pipeline_steps\u001b[0m:\u001b[36mconvert_datetime_columns_to_str\u001b[0m:\u001b[36m217\u001b[0m - \u001b[1mConverting datetime columns to string format: %Y-%m-%dT%H:%M:%SZ\u001b[0m\n",
      "\u001b[32m2025-10-22 17:11:32.150\u001b[0m | \u001b[34m\u001b[1mDEBUG   \u001b[0m | \u001b[36mnews_extraction_pipeline.pipeline_steps\u001b[0m:\u001b[36mconvert_datetime_columns_to_str\u001b[0m:\u001b[36m218\u001b[0m - \u001b[34m\u001b[1mDetected datetime columns: ['publish_date']\u001b[0m\n",
      "\u001b[32m2025-10-22 17:11:32.154\u001b[0m | \u001b[1mINFO    \u001b[0m | \u001b[36mnews_extraction_pipeline.pipeline_steps\u001b[0m:\u001b[36mconvert_datetime_columns_to_str\u001b[0m:\u001b[36m223\u001b[0m - \u001b[1mDatetime conversion complete.\u001b[0m\n"
     ]
    }
   ],
   "source": [
    "import sys\n",
    "\n",
    "sys.path.append(\"..\")\n",
    "\n",
    "from news_extraction_pipeline.pipeline import main\n",
    "\n",
    "final_articles = main()"
   ]
  },
  {
   "cell_type": "code",
   "execution_count": 11,
   "id": "c335a1eb",
   "metadata": {},
   "outputs": [
    {
     "name": "stdout",
     "output_type": "stream",
     "text": [
      "<class 'pandas.core.frame.DataFrame'>\n",
      "RangeIndex: 7 entries, 0 to 6\n",
      "Data columns (total 4 columns):\n",
      " #   Column        Non-Null Count  Dtype \n",
      "---  ------        --------------  ----- \n",
      " 0   title         7 non-null      object\n",
      " 1   news_link     7 non-null      object\n",
      " 2   image_link    7 non-null      object\n",
      " 3   publish_date  7 non-null      object\n",
      "dtypes: object(4)\n",
      "memory usage: 356.0+ bytes\n"
     ]
    }
   ],
   "source": [
    "final_articles.info()"
   ]
  },
  {
   "cell_type": "code",
   "execution_count": null,
   "id": "405e7b8f",
   "metadata": {},
   "outputs": [],
   "source": []
  }
 ],
 "metadata": {
  "kernelspec": {
   "display_name": "ai-hub-sharepoint-agent",
   "language": "python",
   "name": "python3"
  },
  "language_info": {
   "codemirror_mode": {
    "name": "ipython",
    "version": 3
   },
   "file_extension": ".py",
   "mimetype": "text/x-python",
   "name": "python",
   "nbconvert_exporter": "python",
   "pygments_lexer": "ipython3",
   "version": "3.12.11"
  }
 },
 "nbformat": 4,
 "nbformat_minor": 5
}
