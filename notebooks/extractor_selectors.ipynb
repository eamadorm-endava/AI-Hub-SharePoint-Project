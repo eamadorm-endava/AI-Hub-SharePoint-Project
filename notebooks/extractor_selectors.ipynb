{
 "cells": [
  {
   "cell_type": "markdown",
   "id": "17eb134b",
   "metadata": {},
   "source": [
    "## Image Extractor Selector"
   ]
  },
  {
   "cell_type": "markdown",
   "id": "8918b070",
   "metadata": {},
   "source": [
    "This notebook tests the ImageExtractorSelector class created"
   ]
  },
  {
   "cell_type": "code",
   "execution_count": null,
   "id": "0a0eb0e1",
   "metadata": {},
   "outputs": [],
   "source": [
    "import sys\n",
    "\n",
    "sys.path.append(\"..\")\n",
    "\n",
    "from news_extraction_pipeline.extractor_selectors.extractor_selector import ImageExtractorSelector\n",
    "from news_extraction_pipeline.config import AINewsConfig"
   ]
  },
  {
   "cell_type": "code",
   "execution_count": 4,
   "id": "c80d8556",
   "metadata": {},
   "outputs": [],
   "source": [
    "news_config = AINewsConfig()"
   ]
  },
  {
   "cell_type": "markdown",
   "id": "18d73612",
   "metadata": {},
   "source": [
    "## Instanciates a ImageExtractorSelector class"
   ]
  },
  {
   "cell_type": "code",
   "execution_count": 5,
   "id": "647634e5",
   "metadata": {},
   "outputs": [],
   "source": [
    "image_extractor_selector = ImageExtractorSelector()"
   ]
  },
  {
   "cell_type": "code",
   "execution_count": 6,
   "id": "1a860991",
   "metadata": {},
   "outputs": [],
   "source": [
    "# Definition of the ULR where news will be extracted from\n",
    "news_source1 = news_config.AI_NEWS_FEED_URL\n",
    "news_source2 = news_config.MIT_NEWS_FEED_URL"
   ]
  },
  {
   "cell_type": "code",
   "execution_count": 7,
   "id": "fa3f03d4",
   "metadata": {},
   "outputs": [],
   "source": [
    "# Example of different news from the sources\n",
    "news_article1 = \"https://www.artificialintelligence-news.com/news/google-new-ai-agent-rewrites-code-automate-vulnerability-fixes/\"\n",
    "news_article2 = \"https://news.mit.edu/2025/lincoln-lab-unveils-most-powerful-ai-supercomputer-at-any-us-university-1002\"\n",
    "\n",
    "# News article not related to the registered sources\n",
    "news_article3 = \"https://www.xataka.com/robotica-e-ia/chatgpt-empezo-siendo-simple-asistente-ia-openai-quiere-convertir-tu-futuro-sistema-operativo\""
   ]
  },
  {
   "cell_type": "markdown",
   "id": "e16e0f14",
   "metadata": {},
   "source": [
    "#### ImageExtractors classes works with specific news/articles, but also with the main base url\n",
    "\n",
    "No matter if you want to extract the image from the feed url or from an specific article url, the image_extractor will be correctly selected for both"
   ]
  },
  {
   "cell_type": "code",
   "execution_count": 8,
   "id": "d4a60833",
   "metadata": {},
   "outputs": [
    {
     "name": "stderr",
     "output_type": "stream",
     "text": [
      "\u001b[32m2025-10-09 18:50:42.664\u001b[0m | \u001b[1mINFO    \u001b[0m | \u001b[36mnews_extraction_pipeline.selectors.extractor_selector\u001b[0m:\u001b[36mget_extractor\u001b[0m:\u001b[36m73\u001b[0m - \u001b[1mExtractor 'AINEWSImageExtractor' selected for base URL: https://www.artificialintelligence-news.com\u001b[0m\n",
      "\u001b[32m2025-10-09 18:50:42.664\u001b[0m | \u001b[1mINFO    \u001b[0m | \u001b[36mnews_extraction_pipeline.selectors.extractor_selector\u001b[0m:\u001b[36mget_extractor\u001b[0m:\u001b[36m73\u001b[0m - \u001b[1mExtractor 'AINEWSImageExtractor' selected for base URL: https://www.artificialintelligence-news.com\u001b[0m\n"
     ]
    }
   ],
   "source": [
    "image_extractor_ainews = image_extractor_selector.get_extractor(news_source1)\n",
    "image_extractor_ainews2 = image_extractor_selector.get_extractor(news_article1)"
   ]
  },
  {
   "cell_type": "code",
   "execution_count": 9,
   "id": "1187bc56",
   "metadata": {},
   "outputs": [
    {
     "name": "stderr",
     "output_type": "stream",
     "text": [
      "\u001b[32m2025-10-09 18:50:42.678\u001b[0m | \u001b[1mINFO    \u001b[0m | \u001b[36mnews_extraction_pipeline.selectors.extractor_selector\u001b[0m:\u001b[36mget_extractor\u001b[0m:\u001b[36m73\u001b[0m - \u001b[1mExtractor 'MITImageExtractor' selected for base URL: https://news.mit.edu\u001b[0m\n",
      "\u001b[32m2025-10-09 18:50:42.678\u001b[0m | \u001b[1mINFO    \u001b[0m | \u001b[36mnews_extraction_pipeline.selectors.extractor_selector\u001b[0m:\u001b[36mget_extractor\u001b[0m:\u001b[36m73\u001b[0m - \u001b[1mExtractor 'MITImageExtractor' selected for base URL: https://news.mit.edu\u001b[0m\n"
     ]
    }
   ],
   "source": [
    "image_extractor_mitnews = image_extractor_selector.get_extractor(news_source2)\n",
    "image_extractor_mitnews2 = image_extractor_selector.get_extractor(news_article2)"
   ]
  },
  {
   "cell_type": "markdown",
   "id": "fd6f22be",
   "metadata": {},
   "source": [
    "If a base_url is not registered, it returns None"
   ]
  },
  {
   "cell_type": "code",
   "execution_count": 10,
   "id": "b1c4a267",
   "metadata": {},
   "outputs": [
    {
     "name": "stderr",
     "output_type": "stream",
     "text": [
      "\u001b[32m2025-10-09 18:50:42.686\u001b[0m | \u001b[33m\u001b[1mWARNING \u001b[0m | \u001b[36mnews_extraction_pipeline.selectors.extractor_selector\u001b[0m:\u001b[36mget_extractor\u001b[0m:\u001b[36m68\u001b[0m - \u001b[33m\u001b[1mNo image extractor found for the url: https://www.xataka.com/robotica-e-ia/chatgpt-empezo-siendo-simple-asistente-ia-openai-quiere-convertir-tu-futuro-sistema-operativo. The data retrieve will not contain an image_url\u001b[0m\n"
     ]
    },
    {
     "data": {
      "text/plain": [
       "NoneType"
      ]
     },
     "execution_count": 10,
     "metadata": {},
     "output_type": "execute_result"
    }
   ],
   "source": [
    "image_extractor_xataka = image_extractor_selector.get_extractor(news_article3)\n",
    "type(image_extractor_xataka)"
   ]
  },
  {
   "cell_type": "markdown",
   "id": "6e875456",
   "metadata": {},
   "source": [
    "#### Once the ImageExtractor has been selected, you can retrieve the main image link of any article related to the source"
   ]
  },
  {
   "cell_type": "code",
   "execution_count": 11,
   "id": "a1c1ca3d",
   "metadata": {},
   "outputs": [
    {
     "name": "stdout",
     "output_type": "stream",
     "text": [
      "Link to the news article: https://www.artificialintelligence-news.com/news/google-new-ai-agent-rewrites-code-automate-vulnerability-fixes/\n",
      "Link to the main image of the news article: https://www.artificialintelligence-news.com/wp-content/uploads/2025/10/google-ai-agent-fix-code-cybersecurity-infosec-security-coding-programming-software-development-artificial-intelligence-1024x768.jpg\n"
     ]
    }
   ],
   "source": [
    "ainews_img_link = image_extractor_ainews.extract(news_article1)\n",
    "print(f\"Link to the news article: {news_article1}\\nLink to the main image of the news article: {ainews_img_link}\")"
   ]
  },
  {
   "cell_type": "code",
   "execution_count": 12,
   "id": "a8339855",
   "metadata": {},
   "outputs": [
    {
     "name": "stdout",
     "output_type": "stream",
     "text": [
      "Link to the news article: https://news.mit.edu/2025/lincoln-lab-unveils-most-powerful-ai-supercomputer-at-any-us-university-1002\n",
      "Link to the main image of the news article: https://news.mit.edu/sites/default/files/styles/news_article__image_gallery/public/images/202509/LLSC_Rosas_525558-037D.jpg?itok=u4SpaZTe\n"
     ]
    }
   ],
   "source": [
    "mitnews_img_link = image_extractor_mitnews.extract(news_article2)\n",
    "print(f\"Link to the news article: {news_article2}\\nLink to the main image of the news article: {mitnews_img_link}\")"
   ]
  },
  {
   "cell_type": "markdown",
   "id": "699ed8e5",
   "metadata": {},
   "source": [
    "This ImageExtractorSelector will be use as just a component in the NewsExtractor class, which will retrieve more data related to the news, such as title, publish_date, and news_link"
   ]
  }
 ],
 "metadata": {
  "kernelspec": {
   "display_name": "ai-hub-sharepoint-agent",
   "language": "python",
   "name": "python3"
  },
  "language_info": {
   "codemirror_mode": {
    "name": "ipython",
    "version": 3
   },
   "file_extension": ".py",
   "mimetype": "text/x-python",
   "name": "python",
   "nbconvert_exporter": "python",
   "pygments_lexer": "ipython3",
   "version": "3.12.11"
  }
 },
 "nbformat": 4,
 "nbformat_minor": 5
}
